{
 "cells": [
  {
   "cell_type": "code",
   "execution_count": 16,
   "metadata": {},
   "outputs": [
    {
     "name": "stdout",
     "output_type": "stream",
     "text": [
      "[7267.510109452599, 2546.407375924583, 2333.5312361744905, 204.05641118640102, 486.1031961016456, 7637.663730364935, 4911.025111638326, 1293.3306917124191, 4041.7300460565034, 1745.9662806259823, 5017.652123949901, 7302.830232864374, 9885.62844365889, 7148.726403204698, 2122.431814913231, 5500.266707571505, 3140.0989406153576, 4261.010328511054, 796.303845590224, 840.7658806247134]\n"
     ]
    }
   ],
   "source": [
    "#4.ทำเหมือนข้อ 3 แต่เขียนแบบ List comprehension\n",
    "import random\n",
    "randomlist = []\n",
    "for i in range(20):\n",
    "    n = random.uniform(10,100)\n",
    "    x=n**2\n",
    "    randomlist.append(x)\n",
    "print(randomlist)"
   ]
  },
  {
   "cell_type": "code",
   "execution_count": null,
   "metadata": {},
   "outputs": [],
   "source": []
  }
 ],
 "metadata": {
  "kernelspec": {
   "display_name": "Python 3",
   "language": "python",
   "name": "python3"
  },
  "language_info": {
   "codemirror_mode": {
    "name": "ipython",
    "version": 3
   },
   "file_extension": ".py",
   "mimetype": "text/x-python",
   "name": "python",
   "nbconvert_exporter": "python",
   "pygments_lexer": "ipython3",
   "version": "3.7.4"
  }
 },
 "nbformat": 4,
 "nbformat_minor": 2
}
