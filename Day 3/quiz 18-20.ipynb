{
 "cells": [
  {
   "cell_type": "code",
   "execution_count": 1,
   "metadata": {},
   "outputs": [],
   "source": [
    "#18.จงเขียนโปรแกรมสุ่มเลขจำนวนเต็มในช่วง 10-100 ออกมาอยู่ใน matrix 5x5 และใช้ If-else เช็คทีละตัวว่าตัวใดบ้างที่มีค่ามากกว่า 50 และปริ้นออกมา\n",
    "import numpy as np"
   ]
  },
  {
   "cell_type": "code",
   "execution_count": 10,
   "metadata": {},
   "outputs": [
    {
     "name": "stdout",
     "output_type": "stream",
     "text": [
      "[[23 35 77 23 66]\n",
      " [83 64 85 42 46]\n",
      " [24 95 39 39 24]\n",
      " [61 12 27 64 24]\n",
      " [86 32 58 64 98]]\n"
     ]
    }
   ],
   "source": [
    "x = np.random.randint(10,100,(5,5))\n",
    "print(x)"
   ]
  },
  {
   "cell_type": "code",
   "execution_count": 11,
   "metadata": {},
   "outputs": [
    {
     "data": {
      "text/plain": [
       "array([[False, False,  True, False,  True],\n",
       "       [ True,  True,  True, False, False],\n",
       "       [False,  True, False, False, False],\n",
       "       [ True, False, False,  True, False],\n",
       "       [ True, False,  True,  True,  True]])"
      ]
     },
     "execution_count": 11,
     "metadata": {},
     "output_type": "execute_result"
    }
   ],
   "source": [
    "condi = x>50 \n",
    "condi"
   ]
  },
  {
   "cell_type": "code",
   "execution_count": 13,
   "metadata": {},
   "outputs": [
    {
     "name": "stdout",
     "output_type": "stream",
     "text": [
      "[77 66 83 64 85 95 61 64 86 58 64 98]\n"
     ]
    }
   ],
   "source": [
    "print(x[condi])"
   ]
  },
  {
   "cell_type": "code",
   "execution_count": 17,
   "metadata": {},
   "outputs": [],
   "source": [
    "#19.จงเขียนโปรแกรมสุ่มเลขจำนวนเต็มในช่วง 10-100 ออกมาอยู่ใน matrix 5x5 และใช้ conditional selection\n",
    "#เช็คว่าตัวใดบ้างมีค่ามากกว่า 40 นำมาใส่ List ที่สร้างใหม่ และปริ้นออกมา\n"
   ]
  },
  {
   "cell_type": "code",
   "execution_count": 32,
   "metadata": {},
   "outputs": [
    {
     "name": "stdout",
     "output_type": "stream",
     "text": [
      "[75, 52, 58, 93, 20, 76, 59, 41, 64, 58, 86, 19, 92, 55]\n"
     ]
    }
   ],
   "source": [
    "new_list = []\n",
    "x2 = np.random.randint(10,100,(5,5))\n",
    "condi2 = x>40 \n",
    "for i in x2[condi2]:\n",
    "    new_list.append(i)\n",
    "print(new_list)\n"
   ]
  },
  {
   "cell_type": "code",
   "execution_count": 2,
   "metadata": {},
   "outputs": [
    {
     "name": "stdout",
     "output_type": "stream",
     "text": [
      "ใส่เลขที่มีค่าอยู่ในช่วง 10-100 ตัวที่ 1 :11\n",
      "ใส่เลขที่มีค่าอยู่ในช่วง 10-100 ตัวที่ 2 :12\n",
      "ใส่เลขที่มีค่าอยู่ในช่วง 10-100 ตัวที่ 3 :9\n",
      "ใส่เลขที่อยู่ในช่วง 10 -100\n",
      "ใส่เลขที่มีค่าอยู่ในช่วง 10-100 ตัวที่ 3 :101\n",
      "ใส่เลขที่อยู่ในช่วง 10 -100\n",
      "ใส่เลขที่มีค่าอยู่ในช่วง 10-100 ตัวที่ 3 :13\n",
      "ใส่เลขที่มีค่าอยู่ในช่วง 10-100 ตัวที่ 4 :14\n",
      "ใส่เลขที่มีค่าอยู่ในช่วง 10-100 ตัวที่ 5 :15\n",
      "ใส่เลขที่มีค่าอยู่ในช่วง 10-100 ตัวที่ 6 :16\n",
      "ใส่เลขที่มีค่าอยู่ในช่วง 10-100 ตัวที่ 7 :17\n",
      "ใส่เลขที่มีค่าอยู่ในช่วง 10-100 ตัวที่ 8 :18\n",
      "ใส่เลขที่มีค่าอยู่ในช่วง 10-100 ตัวที่ 9 :19\n"
     ]
    },
    {
     "data": {
      "text/plain": [
       "19"
      ]
     },
     "execution_count": 2,
     "metadata": {},
     "output_type": "execute_result"
    }
   ],
   "source": [
    "#20.เขียนโปรแกรมรับค่าจากผู้ใช้ให้ป้อนเลข 9 ตัว แต่ละตัวต้องไม่ซ้ำกันและมีค่าอยู่ในช่วง 10-100 นำเลข 9 ตัวนั้นมาทำเป็น matrix3x3 และ transport \n",
    "#และหาเลขอยู่ตำแหน่งที่ (2,2)\n",
    "x = []\n",
    "coun = 1\n",
    "while len(x) <9 :\n",
    "    get = int(input(\"ใส่เลขที่มีค่าอยู่ในช่วง 10-100 ตัวที่ {} :\".format(coun)))\n",
    "    if get in x:\n",
    "        print(\" ห้ามใส่ตัวเลขซ้ำกับตัวเลขเดิม \")\n",
    "    elif get < 10 or get > 100:\n",
    "        print(\"ใส่เลขที่อยู่ในช่วง 10 -100\")\n",
    "    else:\n",
    "        x.append(get)\n",
    "        coun = coun+1\n",
    "arr = np.array(x).reshape(3,3)\n",
    "new_arr = arr.T\n",
    "new_arr[2, 2]"
   ]
  },
  {
   "cell_type": "code",
   "execution_count": null,
   "metadata": {},
   "outputs": [],
   "source": []
  }
 ],
 "metadata": {
  "kernelspec": {
   "display_name": "Python 3",
   "language": "python",
   "name": "python3"
  },
  "language_info": {
   "codemirror_mode": {
    "name": "ipython",
    "version": 3
   },
   "file_extension": ".py",
   "mimetype": "text/x-python",
   "name": "python",
   "nbconvert_exporter": "python",
   "pygments_lexer": "ipython3",
   "version": "3.7.4"
  }
 },
 "nbformat": 4,
 "nbformat_minor": 2
}
