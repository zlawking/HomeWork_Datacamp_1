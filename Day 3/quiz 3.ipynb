{
 "cells": [
  {
   "cell_type": "code",
   "execution_count": 8,
   "metadata": {},
   "outputs": [
    {
     "name": "stdout",
     "output_type": "stream",
     "text": [
      "[43.86526279 19.03216232 26.8072362  95.19792726 28.90772472 71.40932971\n",
      " 21.05368409 51.79952642 82.16709777 96.38102989 45.7310208  98.86644129\n",
      " 55.82218055 36.98058672 51.33174218 60.31548653 57.46262179 95.44190541\n",
      " 74.67515983 63.14622884]\n"
     ]
    }
   ],
   "source": [
    "#3.จงเขียน array ที่มีเป็นการ random ตัวเลข 20 ตัว แบบ float ค่าอยู่ในช่วง 10-99 แล้วนำแต่ละเลขยกกำลังสอง\n",
    "import numpy as np\n",
    "x = np.random.uniform(10,100,20)\n",
    "print(x)"
   ]
  },
  {
   "cell_type": "code",
   "execution_count": 10,
   "metadata": {},
   "outputs": [
    {
     "data": {
      "text/plain": [
       "array([1924.16127923,  362.22320276,  718.62791247, 9062.64535514,\n",
       "        835.65654872, 5099.29236988,  443.25761363, 2683.19093769,\n",
       "       6751.43195542, 9289.30292341, 2091.32626368, 9774.57321301,\n",
       "       3116.11584095, 1367.56379388, 2634.94775561, 3637.95791576,\n",
       "       3301.95290264, 9109.15730909, 5576.37949567, 3987.44621617])"
      ]
     },
     "execution_count": 10,
     "metadata": {},
     "output_type": "execute_result"
    }
   ],
   "source": [
    "x**2"
   ]
  },
  {
   "cell_type": "code",
   "execution_count": null,
   "metadata": {},
   "outputs": [],
   "source": []
  }
 ],
 "metadata": {
  "kernelspec": {
   "display_name": "Python 3",
   "language": "python",
   "name": "python3"
  },
  "language_info": {
   "codemirror_mode": {
    "name": "ipython",
    "version": 3
   },
   "file_extension": ".py",
   "mimetype": "text/x-python",
   "name": "python",
   "nbconvert_exporter": "python",
   "pygments_lexer": "ipython3",
   "version": "3.7.4"
  }
 },
 "nbformat": 4,
 "nbformat_minor": 2
}
