{
 "cells": [
  {
   "cell_type": "markdown",
   "metadata": {},
   "source": [
    "เขียนโปรแกรมให้รับค่าอาหาร 3 ครั้งที่ไปทานอาหารนอกบ้านล่าสุด\n",
    "โดยแต่ละครั้งต้องไม่ต่ำกว่า 1,000 และไม่เกิน 5,000 (ผู้ใช้ต้องใส่อยู่ใน\n",
    "ช่วงนี้) และนำค่าอาหารทั้ง 3 ครั้งมาบวกกัน หากเกิน 6,000 บาท จะได้\n",
    "รับส่วนลด 15% หากเกิน 12,000 จะได้รับส่วนลด 25% จงหายอดเงิน\n",
    "สุดท้ายที่ต้องจ่าย"
   ]
  },
  {
   "cell_type": "code",
   "execution_count": 1,
   "metadata": {},
   "outputs": [
    {
     "name": "stdout",
     "output_type": "stream",
     "text": [
      "ความยาวด้านที่ 1 :2\n",
      "ความยาวด้านที่ 2 :2\n",
      "ความยาวด้านที่ 3 :20\n",
      "ไม่สามารถสร้างสามเหลี่ยมได้\n",
      "ความยาวด้านที่ 1 :3\n",
      "ความยาวด้านที่ 2 :4\n",
      "ความยาวด้านที่ 3 :5\n",
      "สามเหลี่ยมมุมฉาก\n"
     ]
    }
   ],
   "source": [
    "while True:\n",
    "    try:\n",
    "        A = int(input('ความยาวด้านที่ 1 :'))\n",
    "        B = int(input('ความยาวด้านที่ 2 :'))\n",
    "        C = int(input('ความยาวด้านที่ 3 :'))\n",
    "        from math import acos, degrees\n",
    "        angle = degrees(acos((A * A + B * B - C * C)/(2.0 * A * B)))\n",
    "    except ValueError:\n",
    "        print(\"ไม่สามารถสร้างสามเหลี่ยมได้\")\n",
    "    else:\n",
    "        if angle > 90 :\n",
    "            print('สามเหลี่ยมมุมป้าน')\n",
    "        elif angle == 90:\n",
    "            print('สามเหลี่ยมมุมฉาก')\n",
    "        elif angle < 90 :\n",
    "            print('สามเหลี่ยมมุมแหลม')\n",
    "        break"
   ]
  },
  {
   "cell_type": "code",
   "execution_count": null,
   "metadata": {},
   "outputs": [],
   "source": []
  }
 ],
 "metadata": {
  "kernelspec": {
   "display_name": "Python 3",
   "language": "python",
   "name": "python3"
  },
  "language_info": {
   "codemirror_mode": {
    "name": "ipython",
    "version": 3
   },
   "file_extension": ".py",
   "mimetype": "text/x-python",
   "name": "python",
   "nbconvert_exporter": "python",
   "pygments_lexer": "ipython3",
   "version": "3.7.4"
  }
 },
 "nbformat": 4,
 "nbformat_minor": 2
}
