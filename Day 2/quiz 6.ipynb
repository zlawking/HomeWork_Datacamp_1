{
 "cells": [
  {
   "cell_type": "markdown",
   "metadata": {},
   "source": [
    "เขียนโปรแกรมรับค่า int มา 3 จำนวน และตรวจสอบว่าเมื่อนำ 3 เลข\n",
    "นั้นมาสร้าง 3 เหลี่ยม จะได้สามเหลี่ยมแบบใด\n",
    "\n",
    "- สามเหลี่ยมมุมแหลม\n",
    "\n",
    "- สามเหลี่ยมมุมป้าน\n",
    "\n",
    "- สามเหลี่ยมมุมฉาก"
   ]
  },
  {
   "cell_type": "code",
   "execution_count": 4,
   "metadata": {},
   "outputs": [
    {
     "name": "stdout",
     "output_type": "stream",
     "text": [
      "ความยาวด้านที่ 1 :3\n",
      "ความยาวด้านที่ 2 :4\n",
      "ความยาวด้านที่ 3 :5\n",
      "สามเหลี่ยมมุมฉาก\n"
     ]
    }
   ],
   "source": [
    "A = int(input('ความยาวด้านที่ 1 :'))\n",
    "B = int(input('ความยาวด้านที่ 2 :'))\n",
    "C = int(input('ความยาวด้านที่ 3 :'))\n",
    "from math import acos, degrees\n",
    "angle = degrees(acos((A * A + B * B - C * C)/(2.0 * A * B)))\n",
    "if angle > 90 :\n",
    "    print('สามเหลี่ยมมุมป้าน')\n",
    "elif angle == 90:\n",
    "    print('สามเหลี่ยมมุมฉาก')\n",
    "elif angle < 90 :\n",
    "    print('สามเหลี่ยมมุมแหลม')"
   ]
  },
  {
   "cell_type": "code",
   "execution_count": null,
   "metadata": {},
   "outputs": [],
   "source": []
  }
 ],
 "metadata": {
  "kernelspec": {
   "display_name": "Python 3",
   "language": "python",
   "name": "python3"
  },
  "language_info": {
   "codemirror_mode": {
    "name": "ipython",
    "version": 3
   },
   "file_extension": ".py",
   "mimetype": "text/x-python",
   "name": "python",
   "nbconvert_exporter": "python",
   "pygments_lexer": "ipython3",
   "version": "3.7.4"
  }
 },
 "nbformat": 4,
 "nbformat_minor": 2
}
