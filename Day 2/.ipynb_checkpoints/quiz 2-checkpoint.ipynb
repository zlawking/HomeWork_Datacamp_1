{
 "cells": [
  {
   "cell_type": "code",
   "execution_count": 20,
   "metadata": {},
   "outputs": [
    {
     "name": "stdout",
     "output_type": "stream",
     "text": [
      "ใส่เลขตัวที่ 1 :5\n",
      "ใส่เลขตัวที่ 2 :0\n"
     ]
    }
   ],
   "source": [
    "Number1 = float(input(\"ใส่เลขตัวที่ 1 :\"))\n",
    "Number2 = float(input(\"ใส่เลขตัวที่ 2 :\"))"
   ]
  },
  {
   "cell_type": "code",
   "execution_count": 26,
   "metadata": {},
   "outputs": [],
   "source": [
    "if Number2 == 0 :\n",
    "    Number2 = float(input(\"ใส่เลขตัวที่ 2 ใหม่อีกครั้งหนึ่ง :\"))\n",
    "else :\n",
    "    Ans = Number1/Number2"
   ]
  },
  {
   "cell_type": "code",
   "execution_count": 27,
   "metadata": {},
   "outputs": [
    {
     "name": "stdout",
     "output_type": "stream",
     "text": [
      "1.0\n"
     ]
    }
   ],
   "source": [
    "print(Ans)"
   ]
  }
 ],
 "metadata": {
  "kernelspec": {
   "display_name": "Python 3",
   "language": "python",
   "name": "python3"
  },
  "language_info": {
   "codemirror_mode": {
    "name": "ipython",
    "version": 3
   },
   "file_extension": ".py",
   "mimetype": "text/x-python",
   "name": "python",
   "nbconvert_exporter": "python",
   "pygments_lexer": "ipython3",
   "version": "3.7.4"
  }
 },
 "nbformat": 4,
 "nbformat_minor": 2
}
