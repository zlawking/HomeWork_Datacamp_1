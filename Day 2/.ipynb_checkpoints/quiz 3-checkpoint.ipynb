{
 "cells": [
  {
   "cell_type": "markdown",
   "metadata": {},
   "source": [
    "3. เขียนโปรแกรม infinity while loop โดยรับค่า input มาเรื่อยๆ จนกว่า\n",
    "ผู้ใช้จะใส่เลข 0 และนำเลขทั้งหมดมาหาค่าเฉลี่ย"
   ]
  },
  {
   "cell_type": "code",
   "execution_count": 4,
   "metadata": {},
   "outputs": [
    {
     "name": "stdout",
     "output_type": "stream",
     "text": [
      "ใส่ตัวเลข :4\n",
      "ใส่ตัวเลข :5\n",
      "ใส่ตัวเลข :8\n",
      "ใส่ตัวเลข :0\n",
      "4.25\n"
     ]
    }
   ],
   "source": [
    "i = 1\n",
    "sum = 0\n",
    "count = 0\n",
    "while i != 0 :\n",
    "    i = int(input(\"ใส่ตัวเลข :\"))\n",
    "    sum = sum+i\n",
    "    count = count+1\n",
    "    if i == 0:\n",
    "        break\n",
    "ans = sum/count\n",
    "print(ans)"
   ]
  }
 ],
 "metadata": {
  "kernelspec": {
   "display_name": "Python 3",
   "language": "python",
   "name": "python3"
  },
  "language_info": {
   "codemirror_mode": {
    "name": "ipython",
    "version": 3
   },
   "file_extension": ".py",
   "mimetype": "text/x-python",
   "name": "python",
   "nbconvert_exporter": "python",
   "pygments_lexer": "ipython3",
   "version": "3.7.4"
  }
 },
 "nbformat": 4,
 "nbformat_minor": 2
}
