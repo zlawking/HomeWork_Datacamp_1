{
 "cells": [
  {
   "cell_type": "code",
   "execution_count": 1,
   "metadata": {},
   "outputs": [
    {
     "name": "stdout",
     "output_type": "stream",
     "text": [
      "จำนวนหัว :2\n",
      "จำนวนขา :6\n",
      "ต้องจ่ายภาษีทั้งหมด :370.0\n"
     ]
    }
   ],
   "source": [
    "head = 0\n",
    "leg = 0\n",
    "cow = 0\n",
    "bird = 0\n",
    "head = int(input(\"จำนวนหัว :\"))\n",
    "leg = int(input(\"จำนวนขา :\"))\n",
    "cow = (leg - (2*head))/2\n",
    "bird = head-cow\n",
    "tax_cow = cow*220\n",
    "tax_bird = bird*150\n",
    "total_tax = tax_bird+tax_cow\n",
    "print(\"ต้องจ่ายภาษีทั้งหมด :{}\".format(total_tax))"
   ]
  },
  {
   "cell_type": "code",
   "execution_count": null,
   "metadata": {},
   "outputs": [],
   "source": []
  }
 ],
 "metadata": {
  "kernelspec": {
   "display_name": "Python 3",
   "language": "python",
   "name": "python3"
  },
  "language_info": {
   "codemirror_mode": {
    "name": "ipython",
    "version": 3
   },
   "file_extension": ".py",
   "mimetype": "text/x-python",
   "name": "python",
   "nbconvert_exporter": "python",
   "pygments_lexer": "ipython3",
   "version": "3.7.4"
  }
 },
 "nbformat": 4,
 "nbformat_minor": 2
}
