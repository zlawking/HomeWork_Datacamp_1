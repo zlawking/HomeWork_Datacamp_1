{
 "cells": [
  {
   "cell_type": "markdown",
   "metadata": {},
   "source": [
    "จงเขียนโปรแกรมรับ input ที่เป็นประโยคแบบ string ที่มีความยาว\n",
    "ของคำไม่ต่ำกว่า 7 ตัวอักษรภาษาอังกฤษ(สมมติว่าเป็นคำเดียว) และมี\n",
    "พิมพ์ใหญ่พิมพ์เล็กปนกัน จากนั้นให้ตรวจสอบแต่ละอักษร ให้แปลงพิมพ์\n",
    "ใหญ่เป็นพิมพ์เล็ก และพิมพ์เล็กเป็นพิมพ์ใหญ่พร้อมกับปริ้นออกมา"
   ]
  },
  {
   "cell_type": "code",
   "execution_count": 1,
   "metadata": {},
   "outputs": [
    {
     "name": "stdout",
     "output_type": "stream",
     "text": [
      "ใส่ข้อความภาษาอังกฤษให้ครบ 7 ตัว : kansorn\n",
      "KANSORN\n"
     ]
    }
   ],
   "source": [
    "letter = \"\"\n",
    "while len(letter) <= 7:\n",
    "   letter_input = str(input(\"ใส่ข้อความภาษาอังกฤษให้ครบ 7 ตัว : \"))\n",
    "   if len(letter_input) >= 7 :\n",
    "      break\n",
    "for i in letter_input:\n",
    "    if(i.isupper()):\n",
    "        letter += i.lower()\n",
    "    else:\n",
    "        letter += i.upper()\n",
    "print(letter)"
   ]
  }
 ],
 "metadata": {
  "kernelspec": {
   "display_name": "Python 3",
   "language": "python",
   "name": "python3"
  },
  "language_info": {
   "codemirror_mode": {
    "name": "ipython",
    "version": 3
   },
   "file_extension": ".py",
   "mimetype": "text/x-python",
   "name": "python",
   "nbconvert_exporter": "python",
   "pygments_lexer": "ipython3",
   "version": "3.7.4"
  }
 },
 "nbformat": 4,
 "nbformat_minor": 2
}
