{
 "cells": [
  {
   "cell_type": "markdown",
   "metadata": {},
   "source": [
    "เขียนโปรมแกรมรับค่า input ที่เป็น integer มาหนึ่งตัว ตรวจสอบว่า\n",
    "เลขนั้นหาร 7 ลงตัวหรือไม่\n",
    "\n",
    "- ถ้าหารลงตัว ให้ปริ้น ‘หาร 7 ลงตัว’\n",
    "\n",
    "- ถ้าหารไม่ลงตัว ให้ปริ้น ‘หาร 7 ไม่ลงตัว’"
   ]
  },
  {
   "cell_type": "code",
   "execution_count": null,
   "metadata": {},
   "outputs": [],
   "source": [
    "num = int(input(\"ใส่ตัวเลข :\"))\n",
    "if (num%7)== 0:\n",
    "    print(\"หาร 7 ลงตัว\")\n",
    "else :\n",
    "    print(\"หาร 7 ไม่ลงตัว\")"
   ]
  }
 ],
 "metadata": {
  "kernelspec": {
   "display_name": "Python 3",
   "language": "python",
   "name": "python3"
  },
  "language_info": {
   "codemirror_mode": {
    "name": "ipython",
    "version": 3
   },
   "file_extension": ".py",
   "mimetype": "text/x-python",
   "name": "python",
   "nbconvert_exporter": "python",
   "pygments_lexer": "ipython3",
   "version": "3.7.4"
  }
 },
 "nbformat": 4,
 "nbformat_minor": 2
}
