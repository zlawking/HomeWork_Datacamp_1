{
 "cells": [
  {
   "cell_type": "markdown",
   "metadata": {},
   "source": [
    "เขียนโปรแกรมรับ input สองตัวเป็นจำนวนเต็มระหว่าง 0-60 โดยตัว\n",
    "แรกเป็นชั่วโมงและตัวที่สองเป็นนาที คำนวณค่าที่จอดรถถ้าชั่วโมงละ\n",
    "300 บาท เศษนาทีเกิน 15 นาทีคิดเป็นหนึ่งชั่วโมง หากไม่เกินไม่คิดเงิน\n",
    "และชั่วโมงแรกจอดฟรี"
   ]
  },
  {
   "cell_type": "code",
   "execution_count": 1,
   "metadata": {},
   "outputs": [
    {
     "name": "stdout",
     "output_type": "stream",
     "text": [
      "จำนวนชั่วโมงที่จอด :2\n",
      "จำนวนนาทีที่จอด :30\n",
      "ค่าที่จอดรถ 900 บาท\n"
     ]
    }
   ],
   "source": [
    "hour = 0\n",
    "min = 0\n",
    "while True :\n",
    "   hour = int(input(\"จำนวนชั่วโมงที่จอด :\"))\n",
    "   min = int(input(\"จำนวนนาทีที่จอด :\"))\n",
    "   if min <= 60 :\n",
    "      break\n",
    "if min >= 15 :\n",
    "   hour = hour+1\n",
    "else:\n",
    "   hour = hour - 1\n",
    "cost = (hour*300 )\n",
    "print(\"ค่าที่จอดรถ {} บาท\".format(cost))"
   ]
  },
  {
   "cell_type": "code",
   "execution_count": null,
   "metadata": {},
   "outputs": [],
   "source": []
  }
 ],
 "metadata": {
  "kernelspec": {
   "display_name": "Python 3",
   "language": "python",
   "name": "python3"
  },
  "language_info": {
   "codemirror_mode": {
    "name": "ipython",
    "version": 3
   },
   "file_extension": ".py",
   "mimetype": "text/x-python",
   "name": "python",
   "nbconvert_exporter": "python",
   "pygments_lexer": "ipython3",
   "version": "3.7.4"
  }
 },
 "nbformat": 4,
 "nbformat_minor": 2
}
