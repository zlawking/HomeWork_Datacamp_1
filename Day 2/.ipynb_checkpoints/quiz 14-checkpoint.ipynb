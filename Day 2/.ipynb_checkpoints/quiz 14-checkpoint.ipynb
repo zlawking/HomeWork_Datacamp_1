{
 "cells": [
  {
   "cell_type": "code",
   "execution_count": null,
   "metadata": {},
   "outputs": [],
   "source": [
    "hour = 0\n",
    "min = 0\n",
    "while True :\n",
    "   hour = int(input(\"จำนวนชั่วโมงที่จอด :\"))\n",
    "   min = int(input(\"จำนวนนาทีที่จอด :\"))\n",
    "   if min <= 60 :\n",
    "      break\n",
    "if min >= 15 :\n",
    "   hour = hour+1\n",
    "else:\n",
    "   hour = hour - 1\n",
    "cost = (hour*300 )\n",
    "print(\"ค่าที่จอดรถ {} บาท\".format(cost))"
   ]
  }
 ],
 "metadata": {
  "kernelspec": {
   "display_name": "Python 3",
   "language": "python",
   "name": "python3"
  },
  "language_info": {
   "codemirror_mode": {
    "name": "ipython",
    "version": 3
   },
   "file_extension": ".py",
   "mimetype": "text/x-python",
   "name": "python",
   "nbconvert_exporter": "python",
   "pygments_lexer": "ipython3",
   "version": "3.7.4"
  }
 },
 "nbformat": 4,
 "nbformat_minor": 2
}
