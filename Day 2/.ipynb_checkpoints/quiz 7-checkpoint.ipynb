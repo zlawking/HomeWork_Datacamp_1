{
 "cells": [
  {
   "cell_type": "code",
   "execution_count": null,
   "metadata": {},
   "outputs": [],
   "source": [
    "cost = []\n",
    "while len(cost) < 3:\n",
    "    cost_inp = int(input(\"ใส่ค่าอาหารโดยค่าอาหารต้องไม่ต่ำกว่า 1000 และไม่เกิน 5000 บาท : \"))\n",
    "    if(cost_inp >=1000 and cost_inp <=5000):\n",
    "        cost.append(cost_inp)\n",
    "    else:\n",
    "        print(\"ใส่ค่าอาหารใหม่ ต้องไม่ต่ำกว่า 1000 และไม่เกิน 5000 บาท\")\n",
    "if(sum(cost) > 12000):\n",
    "    ans = sum(cost)* 0.75\n",
    "    print(ans)\n",
    "elif(sum(cost) > 6000):\n",
    "    ans = sum(cost) * 0.85\n",
    "    print(ans)\n",
    "else:\n",
    "    ans = sum(cost)\n",
    "    print(ans)"
   ]
  },
  {
   "cell_type": "code",
   "execution_count": null,
   "metadata": {},
   "outputs": [],
   "source": []
  }
 ],
 "metadata": {
  "kernelspec": {
   "display_name": "Python 3",
   "language": "python",
   "name": "python3"
  },
  "language_info": {
   "codemirror_mode": {
    "name": "ipython",
    "version": 3
   },
   "file_extension": ".py",
   "mimetype": "text/x-python",
   "name": "python",
   "nbconvert_exporter": "python",
   "pygments_lexer": "ipython3",
   "version": "3.7.4"
  }
 },
 "nbformat": 4,
 "nbformat_minor": 2
}
