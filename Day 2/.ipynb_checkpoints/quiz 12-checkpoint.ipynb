{
 "cells": [
  {
   "cell_type": "markdown",
   "metadata": {},
   "source": [
    "เขียนโปรแกรมรับ input 4 ตัวที่เป็น string จากนั้นตรวจสอบว่า\n",
    "input ใดมีความยาวมากที่สุด รองลงมา และน้อยที่สุด จากนั้น ปริ้นแต่ละ\n",
    "input ออกมาตามลำดับน้อยสุดไปมากสุด"
   ]
  },
  {
   "cell_type": "code",
   "execution_count": 1,
   "metadata": {},
   "outputs": [
    {
     "name": "stdout",
     "output_type": "stream",
     "text": [
      "ใส่ข้อความที่ 1 :aaa\n",
      "ใส่ข้อความที่ 2 :aaaa\n",
      "ใส่ข้อความที่ 3 :aaaaa\n",
      "ใส่ข้อความที่ 4 :aaaaaa\n",
      "['aaaaaa', 'aaaaa', 'aaaa', 'aaa']\n"
     ]
    }
   ],
   "source": [
    "letter = []\n",
    "word = []\n",
    "coun = 0\n",
    "for i in range(4):\n",
    "    coun = coun+1\n",
    "    letter_input = str(input(\"ใส่ข้อความที่ {} :\".format(coun)))\n",
    "    letter.append(letter_input)\n",
    "letter.sort(reverse=True, key=len)\n",
    "print(letter)"
   ]
  },
  {
   "cell_type": "code",
   "execution_count": null,
   "metadata": {},
   "outputs": [],
   "source": []
  }
 ],
 "metadata": {
  "kernelspec": {
   "display_name": "Python 3",
   "language": "python",
   "name": "python3"
  },
  "language_info": {
   "codemirror_mode": {
    "name": "ipython",
    "version": 3
   },
   "file_extension": ".py",
   "mimetype": "text/x-python",
   "name": "python",
   "nbconvert_exporter": "python",
   "pygments_lexer": "ipython3",
   "version": "3.7.4"
  }
 },
 "nbformat": 4,
 "nbformat_minor": 2
}
