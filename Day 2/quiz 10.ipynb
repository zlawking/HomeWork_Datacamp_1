{
 "cells": [
  {
   "cell_type": "markdown",
   "metadata": {},
   "source": [
    "เขียนโปรแกรมให้รับค่าอาหาร 4 ครั้งที่ไปทานอาหารนอกบ้านล่าสุด\n",
    "โดยแต่ละครั้งต้องไม่ต่ำกว่า 1,000 และไม่เกิน 5,000 (เขียนให้ผู้ใช้ใส่\n",
    "ใหม่หากไม่อยู่ในช่วงที่กำหนด) และถามผู้ใช้มีบัตรเครดิตหรือไม่\n",
    "(True/False) นำค่าอาหาร 3 ครั้งแรกมาบวกกัน หากเกิน 4,000 บาท จะ\n",
    "ได้รับส่วนลด 25% หากเกิน 9,000 จะได้รับส่วนลด 30% ของมื้อที่ 4\n",
    "หากมีบัตรเครดิต ลดเพิ่มอีก 5% จงหายอดเงินสุดท้ายที่ต้องจ่ายของมื้อ\n",
    "ที่ 4"
   ]
  },
  {
   "cell_type": "code",
   "execution_count": 2,
   "metadata": {},
   "outputs": [
    {
     "name": "stdout",
     "output_type": "stream",
     "text": [
      "ใส่ค่าอาหารโดยค่าอาหารต้องไม่ต่ำกว่า 1000 และไม่เกิน 5000 บาท : 3000\n",
      "ใส่ค่าอาหารโดยค่าอาหารต้องไม่ต่ำกว่า 1000 และไม่เกิน 5000 บาท : 4000\n",
      "ใส่ค่าอาหารโดยค่าอาหารต้องไม่ต่ำกว่า 1000 และไม่เกิน 5000 บาท : 4000\n",
      "ใส่ค่าอาหารโดยค่าอาหารต้องไม่ต่ำกว่า 1000 และไม่เกิน 5000 บาท : 1500\n",
      "มีบัตรเครดิตหรือไม่ : yes/no : no\n",
      "1050.0\n"
     ]
    }
   ],
   "source": [
    "cost = []\n",
    "while len(cost) < 4:\n",
    "    cost_inp = int(input(\"ใส่ค่าอาหารโดยค่าอาหารต้องไม่ต่ำกว่า 1000 และไม่เกิน 5000 บาท : \"))\n",
    "    if(cost_inp >=1000 and cost_inp <=5000):\n",
    "        cost.append(cost_inp)\n",
    "    else:\n",
    "        print(\"ใส่ค่าอาหารใหม่ ต้องไม่ต่ำกว่า 1000 และไม่เกิน 5000 บาท\")\n",
    "cred = (input(\"มีบัตรเครดิตหรือไม่ : yes/no : \"))\n",
    "discount = 0\n",
    "if(cred == 'yes'):\n",
    "    discount = 0.05\n",
    "else:\n",
    "   discount = 0\n",
    "if(sum(cost[:3]) >= 9000):\n",
    "    ans = (cost[3] - cost[3]* (0.30 + discount))\n",
    "    print(ans)\n",
    "elif(sum(cost[:3]) >= 4000):\n",
    "    ans = (cost[3]  - cost[3]* (0.25 + discount ))\n",
    "    print(ans)\n",
    "else:\n",
    "    ans = cost[3]\n",
    "    print(ans)"
   ]
  },
  {
   "cell_type": "code",
   "execution_count": null,
   "metadata": {},
   "outputs": [],
   "source": []
  }
 ],
 "metadata": {
  "kernelspec": {
   "display_name": "Python 3",
   "language": "python",
   "name": "python3"
  },
  "language_info": {
   "codemirror_mode": {
    "name": "ipython",
    "version": 3
   },
   "file_extension": ".py",
   "mimetype": "text/x-python",
   "name": "python",
   "nbconvert_exporter": "python",
   "pygments_lexer": "ipython3",
   "version": "3.7.4"
  }
 },
 "nbformat": 4,
 "nbformat_minor": 2
}
