{
 "cells": [
  {
   "cell_type": "code",
   "execution_count": null,
   "metadata": {},
   "outputs": [],
   "source": [
    "cost = []\n",
    "while len(cost) < 4:\n",
    "    cost_inp = int(input(\"ใส่ค่าอาหารโดยค่าอาหารต้องไม่ต่ำกว่า 1000 และไม่เกิน 5000 บาท : \"))\n",
    "    if(cost_inp >=1000 and cost_inp <=5000):\n",
    "        cost.append(cost_inp)\n",
    "    else:\n",
    "        print(\"ใส่ค่าอาหารใหม่ ต้องไม่ต่ำกว่า 1000 และไม่เกิน 5000 บาท\")\n",
    "cred = (input(\"มีบัตรเครดิตหรือไม่ : yes/no : \"))\n",
    "discount = 0\n",
    "if(cred == 'yes'):\n",
    "    discount = 0.05\n",
    "else:\n",
    "   discount = 0\n",
    "if(sum(cost[:3]) >= 9000):\n",
    "    ans = (cost[3] - cost[3]* (0.30 + discount))\n",
    "    print(ans)\n",
    "elif(sum(cost[:3]) >= 4000):\n",
    "    ans = (cost[3]  - cost[3]* (0.25 + discount ))\n",
    "    print(ans)\n",
    "else:\n",
    "    ans = cost[3]\n",
    "    print(ans)"
   ]
  }
 ],
 "metadata": {
  "kernelspec": {
   "display_name": "Python 3",
   "language": "python",
   "name": "python3"
  },
  "language_info": {
   "codemirror_mode": {
    "name": "ipython",
    "version": 3
   },
   "file_extension": ".py",
   "mimetype": "text/x-python",
   "name": "python",
   "nbconvert_exporter": "python",
   "pygments_lexer": "ipython3",
   "version": "3.7.4"
  }
 },
 "nbformat": 4,
 "nbformat_minor": 2
}
