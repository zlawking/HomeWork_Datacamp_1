{
 "cells": [
  {
   "cell_type": "markdown",
   "metadata": {},
   "source": [
    " เขียนโปรแกรมรับค่า input 2 ตัว ในรูปแบบ float โดยให้ตัวแรกเป็น\n",
    "ตัวตั้ง ตัวที่สองเป็นตัวหาร\n",
    "\n",
    "- หาผลลัพธ์ของการหาร\n",
    "\n",
    "- ใส่เลขทศนิยมได้\n",
    "\n",
    "- ถ้าตัวหารเป็น 0 ให้รับค่าใหม่จนกว่าจะเป็นเลขที่หารได้"
   ]
  },
  {
   "cell_type": "code",
   "execution_count": 33,
   "metadata": {},
   "outputs": [
    {
     "name": "stdout",
     "output_type": "stream",
     "text": [
      "ใส่เลขตัวที่ 1 :10\n",
      "ใส่เลขตัวที่ 2 :0\n"
     ]
    }
   ],
   "source": [
    "Number1 = float(input(\"ใส่เลขตัวที่ 1 :\"))\n",
    "Number2 = float(input(\"ใส่เลขตัวที่ 2 :\"))"
   ]
  },
  {
   "cell_type": "code",
   "execution_count": 34,
   "metadata": {},
   "outputs": [
    {
     "name": "stdout",
     "output_type": "stream",
     "text": [
      "ใส่เลขตัวที่ 2 ใหม่อีกครั้งหนึ่ง :5\n"
     ]
    }
   ],
   "source": [
    "if Number2 == 0 :\n",
    "    Number2 = float(input(\"ใส่เลขตัวที่ 2 ใหม่อีกครั้งหนึ่ง :\"))\n",
    "else :\n",
    "    Ans = Number1/Number2"
   ]
  },
  {
   "cell_type": "code",
   "execution_count": 32,
   "metadata": {},
   "outputs": [
    {
     "name": "stdout",
     "output_type": "stream",
     "text": [
      "2.0\n"
     ]
    }
   ],
   "source": [
    "print(Ans)"
   ]
  },
  {
   "cell_type": "code",
   "execution_count": null,
   "metadata": {},
   "outputs": [],
   "source": []
  }
 ],
 "metadata": {
  "kernelspec": {
   "display_name": "Python 3",
   "language": "python",
   "name": "python3"
  },
  "language_info": {
   "codemirror_mode": {
    "name": "ipython",
    "version": 3
   },
   "file_extension": ".py",
   "mimetype": "text/x-python",
   "name": "python",
   "nbconvert_exporter": "python",
   "pygments_lexer": "ipython3",
   "version": "3.7.4"
  }
 },
 "nbformat": 4,
 "nbformat_minor": 2
}
