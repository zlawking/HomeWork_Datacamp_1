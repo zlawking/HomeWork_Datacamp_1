{
 "cells": [
  {
   "cell_type": "code",
   "execution_count": 21,
   "metadata": {},
   "outputs": [
    {
     "name": "stdout",
     "output_type": "stream",
     "text": [
      "ความยาวด้านที่ 1 :12\n",
      "ความยาวด้านที่ 2 :13\n",
      "ความยาวด้านที่ 3 :5\n"
     ]
    }
   ],
   "source": [
    "A = int(input(\"ความยาวด้านที่ 1 :\"))\n",
    "B = int(input(\"ความยาวด้านที่ 2 :\"))\n",
    "C = int(input(\"ความยาวด้านที่ 3 :\"))"
   ]
  },
  {
   "cell_type": "code",
   "execution_count": 22,
   "metadata": {},
   "outputs": [
    {
     "name": "stdout",
     "output_type": "stream",
     "text": [
      "สามารถสร้างสามเหลี่ยมมุมฉากได้\n"
     ]
    }
   ],
   "source": [
    "if A<C and B<C :    \n",
    "    if (A**2)+(B**2)==(C**2):\n",
    "        print(\"สามารถสร้างสามเหลี่ยมมุมฉากได้\")\n",
    "    else:\n",
    "        print(\"ไม่สามารถสร้างสามเหลี่ยมมุมฉากได้\")\n",
    "elif A<B and C<B :\n",
    "    if (A**2)+(C**2)==(B**2):\n",
    "        print(\"สามารถสร้างสามเหลี่ยมมุมฉากได้\")\n",
    "    else:\n",
    "        print(\"ไม่สามารถสร้างสามเหลี่ยมมุมฉากได้\")\n",
    "elif B<A and C<A :\n",
    "    if (B**2)+(C**2)==(A**2):\n",
    "        print(\"สามารถสร้างสามเหลี่ยมมุมฉากได้\")\n",
    "    else:\n",
    "        print(\"ไม่สามารถสร้างสามเหลี่ยมมุมฉากได้\")\n",
    "    "
   ]
  },
  {
   "cell_type": "code",
   "execution_count": null,
   "metadata": {},
   "outputs": [],
   "source": []
  }
 ],
 "metadata": {
  "kernelspec": {
   "display_name": "Python 3",
   "language": "python",
   "name": "python3"
  },
  "language_info": {
   "codemirror_mode": {
    "name": "ipython",
    "version": 3
   },
   "file_extension": ".py",
   "mimetype": "text/x-python",
   "name": "python",
   "nbconvert_exporter": "python",
   "pygments_lexer": "ipython3",
   "version": "3.7.4"
  }
 },
 "nbformat": 4,
 "nbformat_minor": 2
}
