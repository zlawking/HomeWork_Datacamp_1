{
 "cells": [
  {
   "cell_type": "code",
   "execution_count": 11,
   "metadata": {},
   "outputs": [
    {
     "name": "stdout",
     "output_type": "stream",
     "text": [
      "ใส่ตัวเลข :2\n"
     ]
    }
   ],
   "source": [
    "num = int(input(\"ใส่ตัวเลข :\"))\n"
   ]
  },
  {
   "cell_type": "code",
   "execution_count": 12,
   "metadata": {
    "scrolled": true
   },
   "outputs": [
    {
     "name": "stdout",
     "output_type": "stream",
     "text": [
      "เลขคู่\n"
     ]
    }
   ],
   "source": [
    "if (num == 0):\n",
    "    print(\"เลขศูนย์\")\n",
    "elif (num%2)== 1:\n",
    "    print(\"เลขคี่\")\n",
    "elif (num % 2) == 0 :\n",
    "    print(\"เลขคู่\")"
   ]
  }
 ],
 "metadata": {
  "kernelspec": {
   "display_name": "Python 3",
   "language": "python",
   "name": "python3"
  },
  "language_info": {
   "codemirror_mode": {
    "name": "ipython",
    "version": 3
   },
   "file_extension": ".py",
   "mimetype": "text/x-python",
   "name": "python",
   "nbconvert_exporter": "python",
   "pygments_lexer": "ipython3",
   "version": "3.7.4"
  }
 },
 "nbformat": 4,
 "nbformat_minor": 2
}
