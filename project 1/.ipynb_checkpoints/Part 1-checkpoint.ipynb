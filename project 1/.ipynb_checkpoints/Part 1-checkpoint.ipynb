{
 "cells": [
  {
   "cell_type": "markdown",
   "metadata": {},
   "source": [
    "1. จงเขียนโปรแกรมรับค่า Input จากผู้ใช้ ถ้าผู้ใช้ใส่ 0.0 จึง\n",
    "จะสิ้นสุดโปรแกรม คำนวณหาค่าเฉลี่ยของเลขทั้งหมดที่ผู้ใช้\n",
    "ใส่ และปริ้นค่าเฉลี่ยคูณด้วยจำนวนครั้งที่ใส่ทั้งหมด"
   ]
  },
  {
   "cell_type": "code",
   "execution_count": 3,
   "metadata": {},
   "outputs": [
    {
     "name": "stdout",
     "output_type": "stream",
     "text": [
      "ใส่ตัวเลขเพื่อหาค่าเฉลี่ย :1\n",
      "ใส่ตัวเลขเพื่อหาค่าเฉลี่ย :2\n",
      "ใส่ตัวเลขเพื่อหาค่าเฉลี่ย :3\n",
      "ใส่ตัวเลขเพื่อหาค่าเฉลี่ย :4\n",
      "ใส่ตัวเลขเพื่อหาค่าเฉลี่ย :0\n",
      "ค่าเฉลี่ยเท่ากับ : 2.0\n",
      "ค่าเฉลี่ยคูณกับจำนวนครั้ง :10.0\n"
     ]
    }
   ],
   "source": [
    "x = 0\n",
    "count = 0\n",
    "while True :\n",
    "    num = float(input('ใส่ตัวเลขเพื่อหาค่าเฉลี่ย :'))\n",
    "    count = count + 1\n",
    "    x = x+num\n",
    "    result = (x+num)/count\n",
    "    if num == 0.0:\n",
    "        break\n",
    "print('ค่าเฉลี่ยเท่ากับ : {}'.format(result) )\n",
    "print('ค่าเฉลี่ยคูณกับจำนวนครั้ง :{}'.format(x))"
   ]
  },
  {
   "cell_type": "markdown",
   "metadata": {},
   "source": [
    "2. จงเขียนโปรแกรมให้ผู้ใช้ใส่เลข ขอบเขตล่าง และ ขอบเขต\n",
    "บน และคำนวณหาเลขจำนวนเฉพาะ (Prime Number) ที่อยู่\n",
    "ระหว่างขอบเขตล่างและขอบเขตบน"
   ]
  },
  {
   "cell_type": "code",
   "execution_count": 33,
   "metadata": {},
   "outputs": [
    {
     "name": "stdout",
     "output_type": "stream",
     "text": [
      "ใส่เลขขอบเขตล่าง :1\n",
      "ใส่เลขขอบเขตบน :10\n",
      "1 ไม่ใช่จำนวนเฉพาะ\n",
      "2 จำนวนเฉพาะ\n",
      "3 จำนวนเฉพาะ\n",
      "4 ไม่ใช่จำนวนเฉพาะ\n",
      "5 จำนวนเฉพาะ\n",
      "6 ไม่ใช่จำนวนเฉพาะ\n",
      "7 จำนวนเฉพาะ\n",
      "8 ไม่ใช่จำนวนเฉพาะ\n",
      "9 ไม่ใช่จำนวนเฉพาะ\n",
      "10 ไม่ใช่จำนวนเฉพาะ\n"
     ]
    }
   ],
   "source": [
    "import numpy as np\n",
    "small_num =int(input('ใส่เลขขอบเขตล่าง :'))\n",
    "large_number =int(input('ใส่เลขขอบเขตบน :'))\n",
    "scope_num=list(range(small_num, large_number+1))\n",
    "for num in scope_num :\n",
    "    if num > 1:\n",
    "        for i in range(2,num):\n",
    "            if (num % i) == 0:\n",
    "                print(num,\"ไม่ใช่จำนวนเฉพาะ\")\n",
    "                break\n",
    "        else:\n",
    "            print(num,\"จำนวนเฉพาะ\")       \n",
    "    else:\n",
    "        print(num,\"ไม่ใช่จำนวนเฉพาะ\")"
   ]
  }
 ],
 "metadata": {
  "kernelspec": {
   "display_name": "Python 3",
   "language": "python",
   "name": "python3"
  },
  "language_info": {
   "codemirror_mode": {
    "name": "ipython",
    "version": 3
   },
   "file_extension": ".py",
   "mimetype": "text/x-python",
   "name": "python",
   "nbconvert_exporter": "python",
   "pygments_lexer": "ipython3",
   "version": "3.7.4"
  }
 },
 "nbformat": 4,
 "nbformat_minor": 2
}
