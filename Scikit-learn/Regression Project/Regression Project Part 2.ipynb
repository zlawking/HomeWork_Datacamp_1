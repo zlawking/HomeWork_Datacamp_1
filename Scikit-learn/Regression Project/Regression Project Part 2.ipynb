{
 "cells": [
  {
   "cell_type": "code",
   "execution_count": 122,
   "metadata": {},
   "outputs": [],
   "source": [
    "import pandas as pd\n",
    "import numpy as np\n",
    "import matplotlib.pyplot as plt\n",
    "import seaborn as sns\n",
    "from matplotlib.pyplot import show\n",
    "%matplotlib inline"
   ]
  },
  {
   "cell_type": "code",
   "execution_count": 123,
   "metadata": {},
   "outputs": [
    {
     "data": {
      "text/html": [
       "<div>\n",
       "<style scoped>\n",
       "    .dataframe tbody tr th:only-of-type {\n",
       "        vertical-align: middle;\n",
       "    }\n",
       "\n",
       "    .dataframe tbody tr th {\n",
       "        vertical-align: top;\n",
       "    }\n",
       "\n",
       "    .dataframe thead th {\n",
       "        text-align: right;\n",
       "    }\n",
       "</style>\n",
       "<table border=\"1\" class=\"dataframe\">\n",
       "  <thead>\n",
       "    <tr style=\"text-align: right;\">\n",
       "      <th></th>\n",
       "      <th>Item_Identifier</th>\n",
       "      <th>Item_Weight</th>\n",
       "      <th>Item_Fat_Content</th>\n",
       "      <th>Item_Visibility</th>\n",
       "      <th>Item_Type</th>\n",
       "      <th>Item_MRP</th>\n",
       "      <th>Outlet_Identifier</th>\n",
       "      <th>Outlet_Establishment_Year</th>\n",
       "      <th>Outlet_Size</th>\n",
       "      <th>Outlet_Location_Type</th>\n",
       "      <th>Outlet_Type</th>\n",
       "      <th>Item_Outlet_Sales</th>\n",
       "    </tr>\n",
       "  </thead>\n",
       "  <tbody>\n",
       "    <tr>\n",
       "      <th>0</th>\n",
       "      <td>FDA15</td>\n",
       "      <td>9.300</td>\n",
       "      <td>Low Fat</td>\n",
       "      <td>0.016047</td>\n",
       "      <td>Dairy</td>\n",
       "      <td>249.8092</td>\n",
       "      <td>OUT049</td>\n",
       "      <td>1999</td>\n",
       "      <td>Medium</td>\n",
       "      <td>Tier 1</td>\n",
       "      <td>Supermarket Type1</td>\n",
       "      <td>3735.1380</td>\n",
       "    </tr>\n",
       "    <tr>\n",
       "      <th>1</th>\n",
       "      <td>DRC01</td>\n",
       "      <td>5.920</td>\n",
       "      <td>Regular</td>\n",
       "      <td>0.019278</td>\n",
       "      <td>Soft Drinks</td>\n",
       "      <td>48.2692</td>\n",
       "      <td>OUT018</td>\n",
       "      <td>2009</td>\n",
       "      <td>Medium</td>\n",
       "      <td>Tier 3</td>\n",
       "      <td>Supermarket Type2</td>\n",
       "      <td>443.4228</td>\n",
       "    </tr>\n",
       "    <tr>\n",
       "      <th>2</th>\n",
       "      <td>FDN15</td>\n",
       "      <td>17.500</td>\n",
       "      <td>Low Fat</td>\n",
       "      <td>0.016760</td>\n",
       "      <td>Meat</td>\n",
       "      <td>141.6180</td>\n",
       "      <td>OUT049</td>\n",
       "      <td>1999</td>\n",
       "      <td>Medium</td>\n",
       "      <td>Tier 1</td>\n",
       "      <td>Supermarket Type1</td>\n",
       "      <td>2097.2700</td>\n",
       "    </tr>\n",
       "    <tr>\n",
       "      <th>3</th>\n",
       "      <td>FDX07</td>\n",
       "      <td>19.200</td>\n",
       "      <td>Regular</td>\n",
       "      <td>0.000000</td>\n",
       "      <td>Fruits and Vegetables</td>\n",
       "      <td>182.0950</td>\n",
       "      <td>OUT010</td>\n",
       "      <td>1998</td>\n",
       "      <td>NaN</td>\n",
       "      <td>Tier 3</td>\n",
       "      <td>Grocery Store</td>\n",
       "      <td>732.3800</td>\n",
       "    </tr>\n",
       "    <tr>\n",
       "      <th>4</th>\n",
       "      <td>NCD19</td>\n",
       "      <td>8.930</td>\n",
       "      <td>Low Fat</td>\n",
       "      <td>0.000000</td>\n",
       "      <td>Household</td>\n",
       "      <td>53.8614</td>\n",
       "      <td>OUT013</td>\n",
       "      <td>1987</td>\n",
       "      <td>High</td>\n",
       "      <td>Tier 3</td>\n",
       "      <td>Supermarket Type1</td>\n",
       "      <td>994.7052</td>\n",
       "    </tr>\n",
       "    <tr>\n",
       "      <th>...</th>\n",
       "      <td>...</td>\n",
       "      <td>...</td>\n",
       "      <td>...</td>\n",
       "      <td>...</td>\n",
       "      <td>...</td>\n",
       "      <td>...</td>\n",
       "      <td>...</td>\n",
       "      <td>...</td>\n",
       "      <td>...</td>\n",
       "      <td>...</td>\n",
       "      <td>...</td>\n",
       "      <td>...</td>\n",
       "    </tr>\n",
       "    <tr>\n",
       "      <th>8518</th>\n",
       "      <td>FDF22</td>\n",
       "      <td>6.865</td>\n",
       "      <td>Low Fat</td>\n",
       "      <td>0.056783</td>\n",
       "      <td>Snack Foods</td>\n",
       "      <td>214.5218</td>\n",
       "      <td>OUT013</td>\n",
       "      <td>1987</td>\n",
       "      <td>High</td>\n",
       "      <td>Tier 3</td>\n",
       "      <td>Supermarket Type1</td>\n",
       "      <td>2778.3834</td>\n",
       "    </tr>\n",
       "    <tr>\n",
       "      <th>8519</th>\n",
       "      <td>FDS36</td>\n",
       "      <td>8.380</td>\n",
       "      <td>Regular</td>\n",
       "      <td>0.046982</td>\n",
       "      <td>Baking Goods</td>\n",
       "      <td>108.1570</td>\n",
       "      <td>OUT045</td>\n",
       "      <td>2002</td>\n",
       "      <td>NaN</td>\n",
       "      <td>Tier 2</td>\n",
       "      <td>Supermarket Type1</td>\n",
       "      <td>549.2850</td>\n",
       "    </tr>\n",
       "    <tr>\n",
       "      <th>8520</th>\n",
       "      <td>NCJ29</td>\n",
       "      <td>10.600</td>\n",
       "      <td>Low Fat</td>\n",
       "      <td>0.035186</td>\n",
       "      <td>Health and Hygiene</td>\n",
       "      <td>85.1224</td>\n",
       "      <td>OUT035</td>\n",
       "      <td>2004</td>\n",
       "      <td>Small</td>\n",
       "      <td>Tier 2</td>\n",
       "      <td>Supermarket Type1</td>\n",
       "      <td>1193.1136</td>\n",
       "    </tr>\n",
       "    <tr>\n",
       "      <th>8521</th>\n",
       "      <td>FDN46</td>\n",
       "      <td>7.210</td>\n",
       "      <td>Regular</td>\n",
       "      <td>0.145221</td>\n",
       "      <td>Snack Foods</td>\n",
       "      <td>103.1332</td>\n",
       "      <td>OUT018</td>\n",
       "      <td>2009</td>\n",
       "      <td>Medium</td>\n",
       "      <td>Tier 3</td>\n",
       "      <td>Supermarket Type2</td>\n",
       "      <td>1845.5976</td>\n",
       "    </tr>\n",
       "    <tr>\n",
       "      <th>8522</th>\n",
       "      <td>DRG01</td>\n",
       "      <td>14.800</td>\n",
       "      <td>Low Fat</td>\n",
       "      <td>0.044878</td>\n",
       "      <td>Soft Drinks</td>\n",
       "      <td>75.4670</td>\n",
       "      <td>OUT046</td>\n",
       "      <td>1997</td>\n",
       "      <td>Small</td>\n",
       "      <td>Tier 1</td>\n",
       "      <td>Supermarket Type1</td>\n",
       "      <td>765.6700</td>\n",
       "    </tr>\n",
       "  </tbody>\n",
       "</table>\n",
       "<p>8523 rows × 12 columns</p>\n",
       "</div>"
      ],
      "text/plain": [
       "     Item_Identifier  Item_Weight Item_Fat_Content  Item_Visibility  \\\n",
       "0              FDA15        9.300          Low Fat         0.016047   \n",
       "1              DRC01        5.920          Regular         0.019278   \n",
       "2              FDN15       17.500          Low Fat         0.016760   \n",
       "3              FDX07       19.200          Regular         0.000000   \n",
       "4              NCD19        8.930          Low Fat         0.000000   \n",
       "...              ...          ...              ...              ...   \n",
       "8518           FDF22        6.865          Low Fat         0.056783   \n",
       "8519           FDS36        8.380          Regular         0.046982   \n",
       "8520           NCJ29       10.600          Low Fat         0.035186   \n",
       "8521           FDN46        7.210          Regular         0.145221   \n",
       "8522           DRG01       14.800          Low Fat         0.044878   \n",
       "\n",
       "                  Item_Type  Item_MRP Outlet_Identifier  \\\n",
       "0                     Dairy  249.8092            OUT049   \n",
       "1               Soft Drinks   48.2692            OUT018   \n",
       "2                      Meat  141.6180            OUT049   \n",
       "3     Fruits and Vegetables  182.0950            OUT010   \n",
       "4                 Household   53.8614            OUT013   \n",
       "...                     ...       ...               ...   \n",
       "8518            Snack Foods  214.5218            OUT013   \n",
       "8519           Baking Goods  108.1570            OUT045   \n",
       "8520     Health and Hygiene   85.1224            OUT035   \n",
       "8521            Snack Foods  103.1332            OUT018   \n",
       "8522            Soft Drinks   75.4670            OUT046   \n",
       "\n",
       "      Outlet_Establishment_Year Outlet_Size Outlet_Location_Type  \\\n",
       "0                          1999      Medium               Tier 1   \n",
       "1                          2009      Medium               Tier 3   \n",
       "2                          1999      Medium               Tier 1   \n",
       "3                          1998         NaN               Tier 3   \n",
       "4                          1987        High               Tier 3   \n",
       "...                         ...         ...                  ...   \n",
       "8518                       1987        High               Tier 3   \n",
       "8519                       2002         NaN               Tier 2   \n",
       "8520                       2004       Small               Tier 2   \n",
       "8521                       2009      Medium               Tier 3   \n",
       "8522                       1997       Small               Tier 1   \n",
       "\n",
       "            Outlet_Type  Item_Outlet_Sales  \n",
       "0     Supermarket Type1          3735.1380  \n",
       "1     Supermarket Type2           443.4228  \n",
       "2     Supermarket Type1          2097.2700  \n",
       "3         Grocery Store           732.3800  \n",
       "4     Supermarket Type1           994.7052  \n",
       "...                 ...                ...  \n",
       "8518  Supermarket Type1          2778.3834  \n",
       "8519  Supermarket Type1           549.2850  \n",
       "8520  Supermarket Type1          1193.1136  \n",
       "8521  Supermarket Type2          1845.5976  \n",
       "8522  Supermarket Type1           765.6700  \n",
       "\n",
       "[8523 rows x 12 columns]"
      ]
     },
     "execution_count": 123,
     "metadata": {},
     "output_type": "execute_result"
    }
   ],
   "source": [
    "df = pd.read_csv('datasets_8538_11952_Train.csv')\n",
    "df"
   ]
  },
  {
   "cell_type": "markdown",
   "metadata": {},
   "source": [
    "25.แสดง dataframe ที่ ชนิดของสินค้าคือน้ำอัดลมและขนาดของ outlet คือเล็ก (hint: ใช้ bitwise operator)"
   ]
  },
  {
   "cell_type": "code",
   "execution_count": 124,
   "metadata": {},
   "outputs": [
    {
     "data": {
      "text/html": [
       "<div>\n",
       "<style scoped>\n",
       "    .dataframe tbody tr th:only-of-type {\n",
       "        vertical-align: middle;\n",
       "    }\n",
       "\n",
       "    .dataframe tbody tr th {\n",
       "        vertical-align: top;\n",
       "    }\n",
       "\n",
       "    .dataframe thead th {\n",
       "        text-align: right;\n",
       "    }\n",
       "</style>\n",
       "<table border=\"1\" class=\"dataframe\">\n",
       "  <thead>\n",
       "    <tr style=\"text-align: right;\">\n",
       "      <th></th>\n",
       "      <th>Item_Identifier</th>\n",
       "      <th>Item_Weight</th>\n",
       "      <th>Item_Fat_Content</th>\n",
       "      <th>Item_Visibility</th>\n",
       "      <th>Item_Type</th>\n",
       "      <th>Item_MRP</th>\n",
       "      <th>Outlet_Identifier</th>\n",
       "      <th>Outlet_Establishment_Year</th>\n",
       "      <th>Outlet_Size</th>\n",
       "      <th>Outlet_Location_Type</th>\n",
       "      <th>Outlet_Type</th>\n",
       "      <th>Item_Outlet_Sales</th>\n",
       "    </tr>\n",
       "  </thead>\n",
       "  <tbody>\n",
       "    <tr>\n",
       "      <th>34</th>\n",
       "      <td>DRH01</td>\n",
       "      <td>17.500</td>\n",
       "      <td>Low Fat</td>\n",
       "      <td>0.097904</td>\n",
       "      <td>Soft Drinks</td>\n",
       "      <td>174.8738</td>\n",
       "      <td>OUT046</td>\n",
       "      <td>1997</td>\n",
       "      <td>Small</td>\n",
       "      <td>Tier 1</td>\n",
       "      <td>Supermarket Type1</td>\n",
       "      <td>2085.2856</td>\n",
       "    </tr>\n",
       "    <tr>\n",
       "      <th>108</th>\n",
       "      <td>DRE60</td>\n",
       "      <td>NaN</td>\n",
       "      <td>low fat</td>\n",
       "      <td>0.278974</td>\n",
       "      <td>Soft Drinks</td>\n",
       "      <td>225.3720</td>\n",
       "      <td>OUT019</td>\n",
       "      <td>1985</td>\n",
       "      <td>Small</td>\n",
       "      <td>Tier 1</td>\n",
       "      <td>Grocery Store</td>\n",
       "      <td>679.1160</td>\n",
       "    </tr>\n",
       "    <tr>\n",
       "      <th>126</th>\n",
       "      <td>DRI49</td>\n",
       "      <td>14.150</td>\n",
       "      <td>Low Fat</td>\n",
       "      <td>0.183507</td>\n",
       "      <td>Soft Drinks</td>\n",
       "      <td>82.4276</td>\n",
       "      <td>OUT046</td>\n",
       "      <td>1997</td>\n",
       "      <td>Small</td>\n",
       "      <td>Tier 1</td>\n",
       "      <td>Supermarket Type1</td>\n",
       "      <td>1137.1864</td>\n",
       "    </tr>\n",
       "    <tr>\n",
       "      <th>163</th>\n",
       "      <td>DRF49</td>\n",
       "      <td>7.270</td>\n",
       "      <td>Low Fat</td>\n",
       "      <td>0.071078</td>\n",
       "      <td>Soft Drinks</td>\n",
       "      <td>114.2518</td>\n",
       "      <td>OUT046</td>\n",
       "      <td>1997</td>\n",
       "      <td>Small</td>\n",
       "      <td>Tier 1</td>\n",
       "      <td>Supermarket Type1</td>\n",
       "      <td>2618.5914</td>\n",
       "    </tr>\n",
       "    <tr>\n",
       "      <th>178</th>\n",
       "      <td>DRY23</td>\n",
       "      <td>NaN</td>\n",
       "      <td>Regular</td>\n",
       "      <td>0.191014</td>\n",
       "      <td>Soft Drinks</td>\n",
       "      <td>42.1112</td>\n",
       "      <td>OUT019</td>\n",
       "      <td>1985</td>\n",
       "      <td>Small</td>\n",
       "      <td>Tier 1</td>\n",
       "      <td>Grocery Store</td>\n",
       "      <td>42.6112</td>\n",
       "    </tr>\n",
       "    <tr>\n",
       "      <th>...</th>\n",
       "      <td>...</td>\n",
       "      <td>...</td>\n",
       "      <td>...</td>\n",
       "      <td>...</td>\n",
       "      <td>...</td>\n",
       "      <td>...</td>\n",
       "      <td>...</td>\n",
       "      <td>...</td>\n",
       "      <td>...</td>\n",
       "      <td>...</td>\n",
       "      <td>...</td>\n",
       "      <td>...</td>\n",
       "    </tr>\n",
       "    <tr>\n",
       "      <th>8071</th>\n",
       "      <td>DRD25</td>\n",
       "      <td>6.135</td>\n",
       "      <td>Low Fat</td>\n",
       "      <td>0.000000</td>\n",
       "      <td>Soft Drinks</td>\n",
       "      <td>114.2860</td>\n",
       "      <td>OUT046</td>\n",
       "      <td>1997</td>\n",
       "      <td>Small</td>\n",
       "      <td>Tier 1</td>\n",
       "      <td>Supermarket Type1</td>\n",
       "      <td>2376.9060</td>\n",
       "    </tr>\n",
       "    <tr>\n",
       "      <th>8276</th>\n",
       "      <td>DRH13</td>\n",
       "      <td>8.575</td>\n",
       "      <td>Low Fat</td>\n",
       "      <td>0.023886</td>\n",
       "      <td>Soft Drinks</td>\n",
       "      <td>106.6280</td>\n",
       "      <td>OUT046</td>\n",
       "      <td>1997</td>\n",
       "      <td>Small</td>\n",
       "      <td>Tier 1</td>\n",
       "      <td>Supermarket Type1</td>\n",
       "      <td>958.7520</td>\n",
       "    </tr>\n",
       "    <tr>\n",
       "      <th>8325</th>\n",
       "      <td>DRK49</td>\n",
       "      <td>14.150</td>\n",
       "      <td>Low Fat</td>\n",
       "      <td>0.035937</td>\n",
       "      <td>Soft Drinks</td>\n",
       "      <td>41.0138</td>\n",
       "      <td>OUT035</td>\n",
       "      <td>2004</td>\n",
       "      <td>Small</td>\n",
       "      <td>Tier 2</td>\n",
       "      <td>Supermarket Type1</td>\n",
       "      <td>771.6622</td>\n",
       "    </tr>\n",
       "    <tr>\n",
       "      <th>8434</th>\n",
       "      <td>DRJ13</td>\n",
       "      <td>12.650</td>\n",
       "      <td>Low Fat</td>\n",
       "      <td>0.062878</td>\n",
       "      <td>Soft Drinks</td>\n",
       "      <td>160.9578</td>\n",
       "      <td>OUT035</td>\n",
       "      <td>2004</td>\n",
       "      <td>Small</td>\n",
       "      <td>Tier 2</td>\n",
       "      <td>Supermarket Type1</td>\n",
       "      <td>4332.3606</td>\n",
       "    </tr>\n",
       "    <tr>\n",
       "      <th>8522</th>\n",
       "      <td>DRG01</td>\n",
       "      <td>14.800</td>\n",
       "      <td>Low Fat</td>\n",
       "      <td>0.044878</td>\n",
       "      <td>Soft Drinks</td>\n",
       "      <td>75.4670</td>\n",
       "      <td>OUT046</td>\n",
       "      <td>1997</td>\n",
       "      <td>Small</td>\n",
       "      <td>Tier 1</td>\n",
       "      <td>Supermarket Type1</td>\n",
       "      <td>765.6700</td>\n",
       "    </tr>\n",
       "  </tbody>\n",
       "</table>\n",
       "<p>126 rows × 12 columns</p>\n",
       "</div>"
      ],
      "text/plain": [
       "     Item_Identifier  Item_Weight Item_Fat_Content  Item_Visibility  \\\n",
       "34             DRH01       17.500          Low Fat         0.097904   \n",
       "108            DRE60          NaN          low fat         0.278974   \n",
       "126            DRI49       14.150          Low Fat         0.183507   \n",
       "163            DRF49        7.270          Low Fat         0.071078   \n",
       "178            DRY23          NaN          Regular         0.191014   \n",
       "...              ...          ...              ...              ...   \n",
       "8071           DRD25        6.135          Low Fat         0.000000   \n",
       "8276           DRH13        8.575          Low Fat         0.023886   \n",
       "8325           DRK49       14.150          Low Fat         0.035937   \n",
       "8434           DRJ13       12.650          Low Fat         0.062878   \n",
       "8522           DRG01       14.800          Low Fat         0.044878   \n",
       "\n",
       "        Item_Type  Item_MRP Outlet_Identifier  Outlet_Establishment_Year  \\\n",
       "34    Soft Drinks  174.8738            OUT046                       1997   \n",
       "108   Soft Drinks  225.3720            OUT019                       1985   \n",
       "126   Soft Drinks   82.4276            OUT046                       1997   \n",
       "163   Soft Drinks  114.2518            OUT046                       1997   \n",
       "178   Soft Drinks   42.1112            OUT019                       1985   \n",
       "...           ...       ...               ...                        ...   \n",
       "8071  Soft Drinks  114.2860            OUT046                       1997   \n",
       "8276  Soft Drinks  106.6280            OUT046                       1997   \n",
       "8325  Soft Drinks   41.0138            OUT035                       2004   \n",
       "8434  Soft Drinks  160.9578            OUT035                       2004   \n",
       "8522  Soft Drinks   75.4670            OUT046                       1997   \n",
       "\n",
       "     Outlet_Size Outlet_Location_Type        Outlet_Type  Item_Outlet_Sales  \n",
       "34         Small               Tier 1  Supermarket Type1          2085.2856  \n",
       "108        Small               Tier 1      Grocery Store           679.1160  \n",
       "126        Small               Tier 1  Supermarket Type1          1137.1864  \n",
       "163        Small               Tier 1  Supermarket Type1          2618.5914  \n",
       "178        Small               Tier 1      Grocery Store            42.6112  \n",
       "...          ...                  ...                ...                ...  \n",
       "8071       Small               Tier 1  Supermarket Type1          2376.9060  \n",
       "8276       Small               Tier 1  Supermarket Type1           958.7520  \n",
       "8325       Small               Tier 2  Supermarket Type1           771.6622  \n",
       "8434       Small               Tier 2  Supermarket Type1          4332.3606  \n",
       "8522       Small               Tier 1  Supermarket Type1           765.6700  \n",
       "\n",
       "[126 rows x 12 columns]"
      ]
     },
     "execution_count": 124,
     "metadata": {},
     "output_type": "execute_result"
    }
   ],
   "source": [
    "df[(df['Outlet_Size'] == 'Small') & (df['Item_Type']== 'Soft Drinks')]"
   ]
  },
  {
   "cell_type": "markdown",
   "metadata": {},
   "source": [
    "26.bitwise operator ต่างกับ logical operator อย่างไร (อ้างอิงจากข้อ 25 ได้)"
   ]
  },
  {
   "cell_type": "markdown",
   "metadata": {},
   "source": [
    "logical operator ใช้กับ boolean และ ได้ค่า boolean  <p>\n",
    "bitwise operator เป็นตัวดำเนินการที่ทำงานในระดับบิตของข้อมูลโดยโปรแกรมจะเปลี่ยนข้อมูลของเราเป็นเลขฐาน 2 "
   ]
  },
  {
   "cell_type": "markdown",
   "metadata": {},
   "source": [
    "27.เช็คและแปลงข้อมูลให้อยู่ในรูปแบบที่เหมาะสม (hint: แปลง data dtype บางคอลัมน์)"
   ]
  },
  {
   "cell_type": "code",
   "execution_count": 125,
   "metadata": {},
   "outputs": [
    {
     "data": {
      "text/plain": [
       "Item_Identifier               object\n",
       "Item_Weight                  float64\n",
       "Item_Fat_Content              object\n",
       "Item_Visibility              float64\n",
       "Item_Type                     object\n",
       "Item_MRP                     float64\n",
       "Outlet_Identifier             object\n",
       "Outlet_Establishment_Year      int64\n",
       "Outlet_Size                   object\n",
       "Outlet_Location_Type          object\n",
       "Outlet_Type                   object\n",
       "Item_Outlet_Sales            float64\n",
       "dtype: object"
      ]
     },
     "execution_count": 125,
     "metadata": {},
     "output_type": "execute_result"
    }
   ],
   "source": [
    "df.dtypes"
   ]
  },
  {
   "cell_type": "code",
   "execution_count": 126,
   "metadata": {},
   "outputs": [],
   "source": [
    "df['Outlet_Establishment_Year'] = df['Outlet_Establishment_Year'].astype('object')"
   ]
  },
  {
   "cell_type": "markdown",
   "metadata": {},
   "source": [
    "28.สร้าง heatmap แสดงข้อมูลที่หายไปของแต่ละ column (สามารถย้อนไปดู titanic dataset ได้)"
   ]
  },
  {
   "cell_type": "code",
   "execution_count": 127,
   "metadata": {},
   "outputs": [
    {
     "data": {
      "text/plain": [
       "<matplotlib.axes._subplots.AxesSubplot at 0x1dc57de0348>"
      ]
     },
     "execution_count": 127,
     "metadata": {},
     "output_type": "execute_result"
    },
    {
     "data": {
      "image/png": "[encoded data removed]",
      "text/plain": [
       "<Figure size 720x576 with 2 Axes>"
      ]
     },
     "metadata": {
      "needs_background": "light"
     },
     "output_type": "display_data"
    }
   ],
   "source": [
    "fig = plt.figure(figsize=(10,8))\n",
    "sns.heatmap(df.isnull(), cbar=True, cmap='Accent')"
   ]
  },
  {
   "cell_type": "markdown",
   "metadata": {},
   "source": [
    "29.เช็คว่ามีข้อมูลที่หายไปไหม ถ้าเป็นตัวเลขให้ใส่ด้วยค่าเฉลี่ย ถ้าเป็น Categorical ให้ใส่ด้วย Category อันที่มีความถี่สูงที่สุด"
   ]
  },
  {
   "cell_type": "code",
   "execution_count": 128,
   "metadata": {},
   "outputs": [
    {
     "data": {
      "text/plain": [
       "Medium    2793\n",
       "Name: Outlet_Size, dtype: int64"
      ]
     },
     "execution_count": 128,
     "metadata": {},
     "output_type": "execute_result"
    }
   ],
   "source": [
    "df[\"Outlet_Size\"].value_counts().head(1)"
   ]
  },
  {
   "cell_type": "code",
   "execution_count": 129,
   "metadata": {},
   "outputs": [],
   "source": [
    "df[\"Item_Weight\"] = df[\"Item_Weight\"].fillna(df[\"Item_Weight\"].mean())\n",
    "df[\"Outlet_Size\"] = df[\"Outlet_Size\"].fillna('Medium')"
   ]
  },
  {
   "cell_type": "markdown",
   "metadata": {},
   "source": [
    "30.drop ข้อมูลที่คิดว่าไม่มีผลต่อยอดขายออก และให้เหตุผลว่าทำไม"
   ]
  },
  {
   "cell_type": "code",
   "execution_count": 130,
   "metadata": {},
   "outputs": [],
   "source": [
    "df = df.drop(columns=['Item_Identifier'])\n",
    "# เพราะเป็น ID เลยไม่มีผลต่อยอดขาย"
   ]
  },
  {
   "cell_type": "markdown",
   "metadata": {},
   "source": [
    "31.Print ยอดขายที่มากสุดและน้อยสุดใน dataframe"
   ]
  },
  {
   "cell_type": "code",
   "execution_count": 131,
   "metadata": {},
   "outputs": [
    {
     "data": {
      "text/plain": [
       "13086.9648"
      ]
     },
     "execution_count": 131,
     "metadata": {},
     "output_type": "execute_result"
    }
   ],
   "source": [
    "df['Item_Outlet_Sales'].max()"
   ]
  },
  {
   "cell_type": "code",
   "execution_count": 132,
   "metadata": {},
   "outputs": [
    {
     "data": {
      "text/plain": [
       "33.29"
      ]
     },
     "execution_count": 132,
     "metadata": {},
     "output_type": "execute_result"
    }
   ],
   "source": [
    "df['Item_Outlet_Sales'].min()"
   ]
  },
  {
   "cell_type": "markdown",
   "metadata": {},
   "source": [
    "32.ทำ dummies สำหรับ Categorical data และ สร้าง train/test split ด้วย 80:20 ratio"
   ]
  },
  {
   "cell_type": "code",
   "execution_count": 133,
   "metadata": {},
   "outputs": [
    {
     "data": {
      "text/html": [
       "<div>\n",
       "<style scoped>\n",
       "    .dataframe tbody tr th:only-of-type {\n",
       "        vertical-align: middle;\n",
       "    }\n",
       "\n",
       "    .dataframe tbody tr th {\n",
       "        vertical-align: top;\n",
       "    }\n",
       "\n",
       "    .dataframe thead th {\n",
       "        text-align: right;\n",
       "    }\n",
       "</style>\n",
       "<table border=\"1\" class=\"dataframe\">\n",
       "  <thead>\n",
       "    <tr style=\"text-align: right;\">\n",
       "      <th></th>\n",
       "      <th>Item_Weight</th>\n",
       "      <th>Item_Visibility</th>\n",
       "      <th>Item_MRP</th>\n",
       "      <th>Item_Outlet_Sales</th>\n",
       "      <th>Item_Fat_Content_Low Fat</th>\n",
       "      <th>Item_Fat_Content_Regular</th>\n",
       "      <th>Item_Fat_Content_low fat</th>\n",
       "      <th>Item_Fat_Content_reg</th>\n",
       "      <th>Item_Type_Breads</th>\n",
       "      <th>Item_Type_Breakfast</th>\n",
       "      <th>...</th>\n",
       "      <th>Outlet_Establishment_Year_2004</th>\n",
       "      <th>Outlet_Establishment_Year_2007</th>\n",
       "      <th>Outlet_Establishment_Year_2009</th>\n",
       "      <th>Outlet_Size_Medium</th>\n",
       "      <th>Outlet_Size_Small</th>\n",
       "      <th>Outlet_Location_Type_Tier 2</th>\n",
       "      <th>Outlet_Location_Type_Tier 3</th>\n",
       "      <th>Outlet_Type_Supermarket Type1</th>\n",
       "      <th>Outlet_Type_Supermarket Type2</th>\n",
       "      <th>Outlet_Type_Supermarket Type3</th>\n",
       "    </tr>\n",
       "  </thead>\n",
       "  <tbody>\n",
       "    <tr>\n",
       "      <th>0</th>\n",
       "      <td>9.300</td>\n",
       "      <td>0.016047</td>\n",
       "      <td>249.8092</td>\n",
       "      <td>3735.1380</td>\n",
       "      <td>1</td>\n",
       "      <td>0</td>\n",
       "      <td>0</td>\n",
       "      <td>0</td>\n",
       "      <td>0</td>\n",
       "      <td>0</td>\n",
       "      <td>...</td>\n",
       "      <td>0</td>\n",
       "      <td>0</td>\n",
       "      <td>0</td>\n",
       "      <td>1</td>\n",
       "      <td>0</td>\n",
       "      <td>0</td>\n",
       "      <td>0</td>\n",
       "      <td>1</td>\n",
       "      <td>0</td>\n",
       "      <td>0</td>\n",
       "    </tr>\n",
       "    <tr>\n",
       "      <th>1</th>\n",
       "      <td>5.920</td>\n",
       "      <td>0.019278</td>\n",
       "      <td>48.2692</td>\n",
       "      <td>443.4228</td>\n",
       "      <td>0</td>\n",
       "      <td>1</td>\n",
       "      <td>0</td>\n",
       "      <td>0</td>\n",
       "      <td>0</td>\n",
       "      <td>0</td>\n",
       "      <td>...</td>\n",
       "      <td>0</td>\n",
       "      <td>0</td>\n",
       "      <td>1</td>\n",
       "      <td>1</td>\n",
       "      <td>0</td>\n",
       "      <td>0</td>\n",
       "      <td>1</td>\n",
       "      <td>0</td>\n",
       "      <td>1</td>\n",
       "      <td>0</td>\n",
       "    </tr>\n",
       "    <tr>\n",
       "      <th>2</th>\n",
       "      <td>17.500</td>\n",
       "      <td>0.016760</td>\n",
       "      <td>141.6180</td>\n",
       "      <td>2097.2700</td>\n",
       "      <td>1</td>\n",
       "      <td>0</td>\n",
       "      <td>0</td>\n",
       "      <td>0</td>\n",
       "      <td>0</td>\n",
       "      <td>0</td>\n",
       "      <td>...</td>\n",
       "      <td>0</td>\n",
       "      <td>0</td>\n",
       "      <td>0</td>\n",
       "      <td>1</td>\n",
       "      <td>0</td>\n",
       "      <td>0</td>\n",
       "      <td>0</td>\n",
       "      <td>1</td>\n",
       "      <td>0</td>\n",
       "      <td>0</td>\n",
       "    </tr>\n",
       "    <tr>\n",
       "      <th>3</th>\n",
       "      <td>19.200</td>\n",
       "      <td>0.000000</td>\n",
       "      <td>182.0950</td>\n",
       "      <td>732.3800</td>\n",
       "      <td>0</td>\n",
       "      <td>1</td>\n",
       "      <td>0</td>\n",
       "      <td>0</td>\n",
       "      <td>0</td>\n",
       "      <td>0</td>\n",
       "      <td>...</td>\n",
       "      <td>0</td>\n",
       "      <td>0</td>\n",
       "      <td>0</td>\n",
       "      <td>1</td>\n",
       "      <td>0</td>\n",
       "      <td>0</td>\n",
       "      <td>1</td>\n",
       "      <td>0</td>\n",
       "      <td>0</td>\n",
       "      <td>0</td>\n",
       "    </tr>\n",
       "    <tr>\n",
       "      <th>4</th>\n",
       "      <td>8.930</td>\n",
       "      <td>0.000000</td>\n",
       "      <td>53.8614</td>\n",
       "      <td>994.7052</td>\n",
       "      <td>1</td>\n",
       "      <td>0</td>\n",
       "      <td>0</td>\n",
       "      <td>0</td>\n",
       "      <td>0</td>\n",
       "      <td>0</td>\n",
       "      <td>...</td>\n",
       "      <td>0</td>\n",
       "      <td>0</td>\n",
       "      <td>0</td>\n",
       "      <td>0</td>\n",
       "      <td>0</td>\n",
       "      <td>0</td>\n",
       "      <td>1</td>\n",
       "      <td>1</td>\n",
       "      <td>0</td>\n",
       "      <td>0</td>\n",
       "    </tr>\n",
       "    <tr>\n",
       "      <th>...</th>\n",
       "      <td>...</td>\n",
       "      <td>...</td>\n",
       "      <td>...</td>\n",
       "      <td>...</td>\n",
       "      <td>...</td>\n",
       "      <td>...</td>\n",
       "      <td>...</td>\n",
       "      <td>...</td>\n",
       "      <td>...</td>\n",
       "      <td>...</td>\n",
       "      <td>...</td>\n",
       "      <td>...</td>\n",
       "      <td>...</td>\n",
       "      <td>...</td>\n",
       "      <td>...</td>\n",
       "      <td>...</td>\n",
       "      <td>...</td>\n",
       "      <td>...</td>\n",
       "      <td>...</td>\n",
       "      <td>...</td>\n",
       "      <td>...</td>\n",
       "    </tr>\n",
       "    <tr>\n",
       "      <th>8518</th>\n",
       "      <td>6.865</td>\n",
       "      <td>0.056783</td>\n",
       "      <td>214.5218</td>\n",
       "      <td>2778.3834</td>\n",
       "      <td>1</td>\n",
       "      <td>0</td>\n",
       "      <td>0</td>\n",
       "      <td>0</td>\n",
       "      <td>0</td>\n",
       "      <td>0</td>\n",
       "      <td>...</td>\n",
       "      <td>0</td>\n",
       "      <td>0</td>\n",
       "      <td>0</td>\n",
       "      <td>0</td>\n",
       "      <td>0</td>\n",
       "      <td>0</td>\n",
       "      <td>1</td>\n",
       "      <td>1</td>\n",
       "      <td>0</td>\n",
       "      <td>0</td>\n",
       "    </tr>\n",
       "    <tr>\n",
       "      <th>8519</th>\n",
       "      <td>8.380</td>\n",
       "      <td>0.046982</td>\n",
       "      <td>108.1570</td>\n",
       "      <td>549.2850</td>\n",
       "      <td>0</td>\n",
       "      <td>1</td>\n",
       "      <td>0</td>\n",
       "      <td>0</td>\n",
       "      <td>0</td>\n",
       "      <td>0</td>\n",
       "      <td>...</td>\n",
       "      <td>0</td>\n",
       "      <td>0</td>\n",
       "      <td>0</td>\n",
       "      <td>1</td>\n",
       "      <td>0</td>\n",
       "      <td>1</td>\n",
       "      <td>0</td>\n",
       "      <td>1</td>\n",
       "      <td>0</td>\n",
       "      <td>0</td>\n",
       "    </tr>\n",
       "    <tr>\n",
       "      <th>8520</th>\n",
       "      <td>10.600</td>\n",
       "      <td>0.035186</td>\n",
       "      <td>85.1224</td>\n",
       "      <td>1193.1136</td>\n",
       "      <td>1</td>\n",
       "      <td>0</td>\n",
       "      <td>0</td>\n",
       "      <td>0</td>\n",
       "      <td>0</td>\n",
       "      <td>0</td>\n",
       "      <td>...</td>\n",
       "      <td>1</td>\n",
       "      <td>0</td>\n",
       "      <td>0</td>\n",
       "      <td>0</td>\n",
       "      <td>1</td>\n",
       "      <td>1</td>\n",
       "      <td>0</td>\n",
       "      <td>1</td>\n",
       "      <td>0</td>\n",
       "      <td>0</td>\n",
       "    </tr>\n",
       "    <tr>\n",
       "      <th>8521</th>\n",
       "      <td>7.210</td>\n",
       "      <td>0.145221</td>\n",
       "      <td>103.1332</td>\n",
       "      <td>1845.5976</td>\n",
       "      <td>0</td>\n",
       "      <td>1</td>\n",
       "      <td>0</td>\n",
       "      <td>0</td>\n",
       "      <td>0</td>\n",
       "      <td>0</td>\n",
       "      <td>...</td>\n",
       "      <td>0</td>\n",
       "      <td>0</td>\n",
       "      <td>1</td>\n",
       "      <td>1</td>\n",
       "      <td>0</td>\n",
       "      <td>0</td>\n",
       "      <td>1</td>\n",
       "      <td>0</td>\n",
       "      <td>1</td>\n",
       "      <td>0</td>\n",
       "    </tr>\n",
       "    <tr>\n",
       "      <th>8522</th>\n",
       "      <td>14.800</td>\n",
       "      <td>0.044878</td>\n",
       "      <td>75.4670</td>\n",
       "      <td>765.6700</td>\n",
       "      <td>1</td>\n",
       "      <td>0</td>\n",
       "      <td>0</td>\n",
       "      <td>0</td>\n",
       "      <td>0</td>\n",
       "      <td>0</td>\n",
       "      <td>...</td>\n",
       "      <td>0</td>\n",
       "      <td>0</td>\n",
       "      <td>0</td>\n",
       "      <td>0</td>\n",
       "      <td>1</td>\n",
       "      <td>0</td>\n",
       "      <td>0</td>\n",
       "      <td>1</td>\n",
       "      <td>0</td>\n",
       "      <td>0</td>\n",
       "    </tr>\n",
       "  </tbody>\n",
       "</table>\n",
       "<p>8523 rows × 47 columns</p>\n",
       "</div>"
      ],
      "text/plain": [
       "      Item_Weight  Item_Visibility  Item_MRP  Item_Outlet_Sales  \\\n",
       "0           9.300         0.016047  249.8092          3735.1380   \n",
       "1           5.920         0.019278   48.2692           443.4228   \n",
       "2          17.500         0.016760  141.6180          2097.2700   \n",
       "3          19.200         0.000000  182.0950           732.3800   \n",
       "4           8.930         0.000000   53.8614           994.7052   \n",
       "...           ...              ...       ...                ...   \n",
       "8518        6.865         0.056783  214.5218          2778.3834   \n",
       "8519        8.380         0.046982  108.1570           549.2850   \n",
       "8520       10.600         0.035186   85.1224          1193.1136   \n",
       "8521        7.210         0.145221  103.1332          1845.5976   \n",
       "8522       14.800         0.044878   75.4670           765.6700   \n",
       "\n",
       "      Item_Fat_Content_Low Fat  Item_Fat_Content_Regular  \\\n",
       "0                            1                         0   \n",
       "1                            0                         1   \n",
       "2                            1                         0   \n",
       "3                            0                         1   \n",
       "4                            1                         0   \n",
       "...                        ...                       ...   \n",
       "8518                         1                         0   \n",
       "8519                         0                         1   \n",
       "8520                         1                         0   \n",
       "8521                         0                         1   \n",
       "8522                         1                         0   \n",
       "\n",
       "      Item_Fat_Content_low fat  Item_Fat_Content_reg  Item_Type_Breads  \\\n",
       "0                            0                     0                 0   \n",
       "1                            0                     0                 0   \n",
       "2                            0                     0                 0   \n",
       "3                            0                     0                 0   \n",
       "4                            0                     0                 0   \n",
       "...                        ...                   ...               ...   \n",
       "8518                         0                     0                 0   \n",
       "8519                         0                     0                 0   \n",
       "8520                         0                     0                 0   \n",
       "8521                         0                     0                 0   \n",
       "8522                         0                     0                 0   \n",
       "\n",
       "      Item_Type_Breakfast  ...  Outlet_Establishment_Year_2004  \\\n",
       "0                       0  ...                               0   \n",
       "1                       0  ...                               0   \n",
       "2                       0  ...                               0   \n",
       "3                       0  ...                               0   \n",
       "4                       0  ...                               0   \n",
       "...                   ...  ...                             ...   \n",
       "8518                    0  ...                               0   \n",
       "8519                    0  ...                               0   \n",
       "8520                    0  ...                               1   \n",
       "8521                    0  ...                               0   \n",
       "8522                    0  ...                               0   \n",
       "\n",
       "      Outlet_Establishment_Year_2007  Outlet_Establishment_Year_2009  \\\n",
       "0                                  0                               0   \n",
       "1                                  0                               1   \n",
       "2                                  0                               0   \n",
       "3                                  0                               0   \n",
       "4                                  0                               0   \n",
       "...                              ...                             ...   \n",
       "8518                               0                               0   \n",
       "8519                               0                               0   \n",
       "8520                               0                               0   \n",
       "8521                               0                               1   \n",
       "8522                               0                               0   \n",
       "\n",
       "      Outlet_Size_Medium  Outlet_Size_Small  Outlet_Location_Type_Tier 2  \\\n",
       "0                      1                  0                            0   \n",
       "1                      1                  0                            0   \n",
       "2                      1                  0                            0   \n",
       "3                      1                  0                            0   \n",
       "4                      0                  0                            0   \n",
       "...                  ...                ...                          ...   \n",
       "8518                   0                  0                            0   \n",
       "8519                   1                  0                            1   \n",
       "8520                   0                  1                            1   \n",
       "8521                   1                  0                            0   \n",
       "8522                   0                  1                            0   \n",
       "\n",
       "      Outlet_Location_Type_Tier 3  Outlet_Type_Supermarket Type1  \\\n",
       "0                               0                              1   \n",
       "1                               1                              0   \n",
       "2                               0                              1   \n",
       "3                               1                              0   \n",
       "4                               1                              1   \n",
       "...                           ...                            ...   \n",
       "8518                            1                              1   \n",
       "8519                            0                              1   \n",
       "8520                            0                              1   \n",
       "8521                            1                              0   \n",
       "8522                            0                              1   \n",
       "\n",
       "      Outlet_Type_Supermarket Type2  Outlet_Type_Supermarket Type3  \n",
       "0                                 0                              0  \n",
       "1                                 1                              0  \n",
       "2                                 0                              0  \n",
       "3                                 0                              0  \n",
       "4                                 0                              0  \n",
       "...                             ...                            ...  \n",
       "8518                              0                              0  \n",
       "8519                              0                              0  \n",
       "8520                              0                              0  \n",
       "8521                              1                              0  \n",
       "8522                              0                              0  \n",
       "\n",
       "[8523 rows x 47 columns]"
      ]
     },
     "execution_count": 133,
     "metadata": {},
     "output_type": "execute_result"
    }
   ],
   "source": [
    "df = pd.get_dummies(df,drop_first=True)\n",
    "df"
   ]
  },
  {
   "cell_type": "code",
   "execution_count": 134,
   "metadata": {},
   "outputs": [],
   "source": [
    "from sklearn.model_selection import train_test_split\n",
    "from sklearn.metrics import accuracy_score,f1_score,precision_score,recall_score\n",
    "from sklearn.preprocessing import StandardScaler\n",
    "from sklearn.preprocessing import MinMaxScaler\n",
    "from sklearn.linear_model import LinearRegression\n",
    "from sklearn.metrics import r2_score\n",
    "from sklearn import metrics"
   ]
  },
  {
   "cell_type": "markdown",
   "metadata": {},
   "source": [
    "33.สร้างโมเดลแบบ Simple Linear Regression โดยใช้ Item_MRP เป็น independent variable เพียงตัวเดียว"
   ]
  },
  {
   "cell_type": "code",
   "execution_count": 135,
   "metadata": {},
   "outputs": [],
   "source": [
    "x_Item_MRP = df['Item_MRP']\n",
    "y_Item_Outlet_Sales = df['Item_Outlet_Sales']"
   ]
  },
  {
   "cell_type": "code",
   "execution_count": 136,
   "metadata": {},
   "outputs": [],
   "source": [
    "x_train_lm,x_test_lm,y_train_lm,y_test_lm = train_test_split(x_Item_MRP,y_Item_Outlet_Sales,test_size=0.2,random_state=100)"
   ]
  },
  {
   "cell_type": "code",
   "execution_count": 137,
   "metadata": {},
   "outputs": [],
   "source": [
    "x_train_lm = np.array(x_train_lm).reshape(-1,1)\n",
    "x_test_lm = np.array(x_test_lm).reshape(-1,1)"
   ]
  },
  {
   "cell_type": "code",
   "execution_count": 138,
   "metadata": {},
   "outputs": [
    {
     "data": {
      "text/plain": [
       "LinearRegression(copy_X=True, fit_intercept=True, n_jobs=None, normalize=False)"
      ]
     },
     "execution_count": 138,
     "metadata": {},
     "output_type": "execute_result"
    }
   ],
   "source": [
    "lm = LinearRegression()\n",
    "lm.fit(x_train_lm,y_train_lm)"
   ]
  },
  {
   "cell_type": "code",
   "execution_count": 139,
   "metadata": {},
   "outputs": [],
   "source": [
    "predicted_lm = lm.predict(x_test_lm)"
   ]
  },
  {
   "cell_type": "markdown",
   "metadata": {},
   "source": [
    "34.แสดงค่า intercept และ coefficient พร้อมกับอธิบายทั้งสองค่าว่าคืออะไรและหมายความว่าอย่างไร"
   ]
  },
  {
   "cell_type": "code",
   "execution_count": 140,
   "metadata": {},
   "outputs": [
    {
     "name": "stdout",
     "output_type": "stream",
     "text": [
      "-19.00358982934722\n",
      "[15.58031428]\n"
     ]
    }
   ],
   "source": [
    "print(lm.intercept_)\n",
    "print(lm.coef_)\n",
    "# y = ax + b\n",
    "# intercept(b) = y เมื่อ x = 0 (ตัดแกน y)\n",
    "# coefficient(a) =  ความชัน"
   ]
  },
  {
   "cell_type": "markdown",
   "metadata": {},
   "source": [
    "35.ทดสอบโมเดลวัดค่า MAE, MSE, RMSE และ R2"
   ]
  },
  {
   "cell_type": "code",
   "execution_count": 141,
   "metadata": {},
   "outputs": [
    {
     "name": "stdout",
     "output_type": "stream",
     "text": [
      "MAE: 1048.9970644622563\n",
      "MSE: 2036040.671558162\n",
      "RMSE: 1426.8989703402838\n",
      "R2: 0.3098918604456873\n"
     ]
    }
   ],
   "source": [
    "print('MAE:',metrics.mean_absolute_error(y_test_lm, predicted_lm))\n",
    "print('MSE:',metrics.mean_squared_error(y_test_lm, predicted_lm))\n",
    "print('RMSE:',np.sqrt(metrics.mean_squared_error(y_test_lm, predicted_lm)))\n",
    "print('R2:',r2_score(y_test_lm, predicted_lm))"
   ]
  },
  {
   "cell_type": "markdown",
   "metadata": {},
   "source": [
    "36.สร้าง distribution plot ของผลต่างระหว่าง y_test กับ predicted results และอธิบายความหมาย"
   ]
  },
  {
   "cell_type": "code",
   "execution_count": 142,
   "metadata": {},
   "outputs": [
    {
     "data": {
      "text/plain": [
       "<matplotlib.axes._subplots.AxesSubplot at 0x1dc5810d448>"
      ]
     },
     "execution_count": 142,
     "metadata": {},
     "output_type": "execute_result"
    },
    {
     "data": {
      "image/png": "[encoded data removed]",
      "text/plain": [
       "<Figure size 720x576 with 1 Axes>"
      ]
     },
     "metadata": {
      "needs_background": "light"
     },
     "output_type": "display_data"
    }
   ],
   "source": [
    "plt.figure(figsize = (10,8))\n",
    "sns.distplot((y_test_lm - predicted_lm),bins=40)\n",
    "#ยิ่งใกล้ 0 ยิ่งดีเพราะ มันคือความต่างกันระหว่างค่า test กับ predict"
   ]
  },
  {
   "cell_type": "markdown",
   "metadata": {},
   "source": [
    "37.สร้าง scatter plot และ prediction line ของ simple linear regression"
   ]
  },
  {
   "cell_type": "code",
   "execution_count": 143,
   "metadata": {},
   "outputs": [
    {
     "data": {
      "text/plain": [
       "Text(0, 0.5, 'Item_Outlet_Sales')"
      ]
     },
     "execution_count": 143,
     "metadata": {},
     "output_type": "execute_result"
    },
    {
     "data": {
      "image/png": "[encoded data removed]",
      "text/plain": [
       "<Figure size 720x576 with 1 Axes>"
      ]
     },
     "metadata": {
      "needs_background": "light"
     },
     "output_type": "display_data"
    }
   ],
   "source": [
    "plt.figure(figsize = (10,8))\n",
    "plt.scatter(x_test_lm,y_test_lm,color = 'blue', label = 'data')\n",
    "plt.plot(x_test_lm,predicted_lm ,color = 'red' , label = 'predicted Regression')\n",
    "plt.legend()\n",
    "plt.xlabel('Item_MRP')\n",
    "plt.ylabel('Item_Outlet_Sales')"
   ]
  },
  {
   "cell_type": "markdown",
   "metadata": {},
   "source": [
    "38.สร้างโมเดลแบบ Support Vector Regression แบบ rbf โดยใช้ Item_MRP เป็น independent variable เพียงตัวเดียว (ทำข้อ 39 ก่อน)"
   ]
  },
  {
   "cell_type": "markdown",
   "metadata": {},
   "source": [
    "39.ใช้ Standard Scaler ในการทำ feature scaling ทั้งแกน X และ Y"
   ]
  },
  {
   "cell_type": "code",
   "execution_count": 144,
   "metadata": {},
   "outputs": [],
   "source": [
    "from sklearn.svm import SVR"
   ]
  },
  {
   "cell_type": "code",
   "execution_count": 145,
   "metadata": {},
   "outputs": [],
   "source": [
    "x_train_SVR,x_test_SVR,y_train_SVR,y_test_SVR = train_test_split(x_Item_MRP,y_Item_Outlet_Sales,test_size=0.2,random_state=100)"
   ]
  },
  {
   "cell_type": "code",
   "execution_count": 146,
   "metadata": {},
   "outputs": [],
   "source": [
    "x_train_SVR = np.array(x_train_SVR).reshape(-1,1)\n",
    "x_test_SVR = np.array(x_test_SVR).reshape(-1,1)\n",
    "y_train_SVR = np.array(y_train_SVR).reshape(-1,1)\n",
    "y_test_SVR = np.array(y_test_SVR).reshape(-1,1)"
   ]
  },
  {
   "cell_type": "code",
   "execution_count": 147,
   "metadata": {},
   "outputs": [],
   "source": [
    "sc_x_SVR = StandardScaler()\n",
    "sc_y_SVR = StandardScaler()"
   ]
  },
  {
   "cell_type": "code",
   "execution_count": 148,
   "metadata": {},
   "outputs": [],
   "source": [
    "sc_x_train = sc_x_SVR.fit_transform(x_train_SVR)\n",
    "sc_y_train = sc_y_SVR.fit_transform(y_train_SVR)\n",
    "sc_x_test = sc_x_SVR.fit_transform(x_test_SVR)\n",
    "sc_y_test = sc_y_SVR.fit_transform(y_test_SVR)"
   ]
  },
  {
   "cell_type": "code",
   "execution_count": 149,
   "metadata": {},
   "outputs": [
    {
     "name": "stderr",
     "output_type": "stream",
     "text": [
      "C:\\Users\\acer\\Anaconda3\\lib\\site-packages\\sklearn\\utils\\validation.py:760: DataConversionWarning: A column-vector y was passed when a 1d array was expected. Please change the shape of y to (n_samples, ), for example using ravel().\n",
      "  y = column_or_1d(y, warn=True)\n"
     ]
    },
    {
     "data": {
      "text/plain": [
       "SVR(C=1.0, cache_size=200, coef0=0.0, degree=3, epsilon=0.1, gamma='scale',\n",
       "    kernel='rbf', max_iter=-1, shrinking=True, tol=0.001, verbose=False)"
      ]
     },
     "execution_count": 149,
     "metadata": {},
     "output_type": "execute_result"
    }
   ],
   "source": [
    "regressor_rbf = SVR(kernel = 'rbf')\n",
    "regressor_rbf.fit(sc_x_train,sc_y_train)"
   ]
  },
  {
   "cell_type": "code",
   "execution_count": 150,
   "metadata": {},
   "outputs": [],
   "source": [
    "predicted_rbf = regressor_rbf.predict(sc_x_test)"
   ]
  },
  {
   "cell_type": "code",
   "execution_count": 151,
   "metadata": {},
   "outputs": [],
   "source": [
    "predicted_rbf = sc_y_SVR.inverse_transform(predicted_rbf)"
   ]
  },
  {
   "cell_type": "markdown",
   "metadata": {},
   "source": [
    "40.ทดสอบโมเดลวัดค่า MAE, MSE, RMSE และ R2"
   ]
  },
  {
   "cell_type": "code",
   "execution_count": 152,
   "metadata": {},
   "outputs": [
    {
     "name": "stdout",
     "output_type": "stream",
     "text": [
      "MAE RBF: 1046.9553632191353\n",
      "MSE RBF: 2037447.4585368775\n",
      "RMSE RBF: 1427.3918377715622\n",
      "R2: 0.3094150354204349\n"
     ]
    }
   ],
   "source": [
    "print('MAE RBF:',metrics.mean_absolute_error(y_test_SVR,predicted_rbf))\n",
    "print('MSE RBF:',metrics.mean_squared_error(y_test_SVR, predicted_rbf))\n",
    "print('RMSE RBF:',np.sqrt(metrics.mean_squared_error(y_test_SVR, predicted_rbf)))\n",
    "print('R2:',r2_score(y_test_SVR, predicted_rbf))"
   ]
  },
  {
   "cell_type": "markdown",
   "metadata": {},
   "source": [
    "41.สร้าง distribution plot ของผลต่างระหว่าง y_test กับ predicted results และอธิบายความหมาย"
   ]
  },
  {
   "cell_type": "code",
   "execution_count": 153,
   "metadata": {},
   "outputs": [
    {
     "data": {
      "text/plain": [
       "<matplotlib.axes._subplots.AxesSubplot at 0x1dc58573ac8>"
      ]
     },
     "execution_count": 153,
     "metadata": {},
     "output_type": "execute_result"
    },
    {
     "data": {
      "image/png": "[encoded data removed]",
      "text/plain": [
       "<Figure size 720x576 with 1 Axes>"
      ]
     },
     "metadata": {
      "needs_background": "light"
     },
     "output_type": "display_data"
    }
   ],
   "source": [
    "plt.figure(figsize = (10,8))\n",
    "sns.distplot((y_test_SVR - predicted_rbf),bins=40)\n",
    "#ยิ่งใกล้ 0 ยิ่งดีเพราะ มันคือความต่างกันระหว่างค่า test กับ predict"
   ]
  },
  {
   "cell_type": "markdown",
   "metadata": {},
   "source": [
    "42.สร้าง scatter plot และ prediction line ของ RBF support vector regressor"
   ]
  },
  {
   "cell_type": "code",
   "execution_count": 154,
   "metadata": {},
   "outputs": [
    {
     "data": {
      "text/plain": [
       "Text(0.5, 1.0, 'RBF')"
      ]
     },
     "execution_count": 154,
     "metadata": {},
     "output_type": "execute_result"
    },
    {
     "data": {
      "image/png": "[encoded data removed]",
      "text/plain": [
       "<Figure size 720x576 with 1 Axes>"
      ]
     },
     "metadata": {
      "needs_background": "light"
     },
     "output_type": "display_data"
    }
   ],
   "source": [
    "plt.figure(figsize = (10,8))\n",
    "plt.scatter(sc_y_SVR.inverse_transform(sc_x_test),y_test_SVR,color = 'blue', label = 'data')\n",
    "plt.plot(np.sort(sc_y_SVR.inverse_transform(sc_x_test),axis = 0),np.sort(predicted_rbf,axis = 0),color = 'red' , label = 'predicted Regression')\n",
    "plt.legend()\n",
    "plt.xlabel('Item_MRP')\n",
    "plt.ylabel('Item_Outlet_Sales')\n",
    "plt.title('RBF')"
   ]
  },
  {
   "cell_type": "markdown",
   "metadata": {},
   "source": [
    "43.สร้างโมเดลแบบ Multiple Linear Regression โดยใช้ทุก features (ที่เหลืออยู่)"
   ]
  },
  {
   "cell_type": "code",
   "execution_count": 155,
   "metadata": {},
   "outputs": [],
   "source": [
    "x = df.drop(['Item_Outlet_Sales'],axis=1)\n",
    "y = df['Item_Outlet_Sales']"
   ]
  },
  {
   "cell_type": "code",
   "execution_count": 156,
   "metadata": {},
   "outputs": [],
   "source": [
    "x_train_lm_2,x_test_lm_2,y_train_lm_2,y_test_lm_2 = train_test_split(x,y,test_size=0.2,random_state=100)"
   ]
  },
  {
   "cell_type": "code",
   "execution_count": 157,
   "metadata": {},
   "outputs": [
    {
     "data": {
      "text/plain": [
       "LinearRegression(copy_X=True, fit_intercept=True, n_jobs=None, normalize=False)"
      ]
     },
     "execution_count": 157,
     "metadata": {},
     "output_type": "execute_result"
    }
   ],
   "source": [
    "lm_2 = LinearRegression()\n",
    "lm_2.fit(x_train_lm_2,y_train_lm_2)"
   ]
  },
  {
   "cell_type": "code",
   "execution_count": 158,
   "metadata": {},
   "outputs": [],
   "source": [
    "predicted_lm_2 = lm_2.predict(x_test_lm_2)"
   ]
  },
  {
   "cell_type": "markdown",
   "metadata": {},
   "source": [
    "44.แสดงค่า intercept และ coefficient ของทั้งหมด"
   ]
  },
  {
   "cell_type": "code",
   "execution_count": 159,
   "metadata": {},
   "outputs": [
    {
     "name": "stdout",
     "output_type": "stream",
     "text": [
      "-948.0644801679427\n",
      "[ 1.09691614e-01 -2.10657621e+02  1.55677201e+01  6.09030491e+01\n",
      "  1.24554731e+02  1.70587166e+02 -3.91744372e+01 -3.86474699e+01\n",
      "  7.92573567e+00  2.62312975e+00 -4.05780329e+01 -3.98941032e+01\n",
      " -7.45168133e-01 -8.13255940e-01  8.27659104e+00 -4.31113980e+01\n",
      " -3.11894773e+00  4.61364367e+01  2.81383075e+02 -2.15368280e+01\n",
      " -3.73161178e+01 -3.99463837e+00  9.86492332e+01  2.58600810e+01\n",
      "  1.41332697e+02 -7.00617386e+02  1.07131739e+03  2.18132731e+02\n",
      " -4.76698259e+01  2.54202866e+02  1.28860513e+02  9.86492332e+01\n",
      "  2.54202866e+02 -1.19006830e+03  1.28860513e+02 -4.76698259e+01\n",
      "  2.18132731e+02  2.58600810e+01  1.41332697e+02  1.29632556e+02\n",
      " -2.28281789e+02  1.96322987e+02  1.21231021e+02  6.78035599e+02\n",
      "  1.41332697e+02  1.07131739e+03]\n"
     ]
    }
   ],
   "source": [
    "print(lm_2.intercept_)\n",
    "print(lm_2.coef_)"
   ]
  },
  {
   "cell_type": "markdown",
   "metadata": {},
   "source": [
    "45.ทดสอบโมเดลวัดค่า MAE, MSE, RMSE และ R2"
   ]
  },
  {
   "cell_type": "code",
   "execution_count": 160,
   "metadata": {},
   "outputs": [
    {
     "name": "stdout",
     "output_type": "stream",
     "text": [
      "MAE : 858.7081139287153\n",
      "MSE : 1330936.4326385066\n",
      "RMSE : 1153.6621830668225\n",
      "R2: 0.5488842250433523\n"
     ]
    }
   ],
   "source": [
    "print('MAE :',metrics.mean_absolute_error(y_test_lm_2,predicted_lm_2))\n",
    "print('MSE :',metrics.mean_squared_error(y_test_lm_2, predicted_lm_2))\n",
    "print('RMSE :',np.sqrt(metrics.mean_squared_error(y_test_lm_2, predicted_lm_2)))\n",
    "print('R2:',r2_score(y_test_lm_2, predicted_lm_2))"
   ]
  },
  {
   "cell_type": "markdown",
   "metadata": {},
   "source": [
    "46.สร้าง distribution plot ของผลต่างระหว่าง y_test กับ predicted results และอธิบายความหมาย"
   ]
  },
  {
   "cell_type": "code",
   "execution_count": 161,
   "metadata": {},
   "outputs": [
    {
     "data": {
      "text/plain": [
       "<matplotlib.axes._subplots.AxesSubplot at 0x1dc58e2df88>"
      ]
     },
     "execution_count": 161,
     "metadata": {},
     "output_type": "execute_result"
    },
    {
     "data": {
      "image/png": "[encoded data removed]",
      "text/plain": [
       "<Figure size 720x576 with 1 Axes>"
      ]
     },
     "metadata": {
      "needs_background": "light"
     },
     "output_type": "display_data"
    }
   ],
   "source": [
    "plt.figure(figsize = (10,8))\n",
    "sns.distplot((y_test_lm_2 - predicted_lm_2),bins=40)"
   ]
  },
  {
   "cell_type": "markdown",
   "metadata": {},
   "source": [
    "47.สร้าง dataframe เปรียบเทียบ ยอดขายจริงกับการทำนาย"
   ]
  },
  {
   "cell_type": "code",
   "execution_count": 162,
   "metadata": {},
   "outputs": [
    {
     "data": {
      "text/html": [
       "<div>\n",
       "<style scoped>\n",
       "    .dataframe tbody tr th:only-of-type {\n",
       "        vertical-align: middle;\n",
       "    }\n",
       "\n",
       "    .dataframe tbody tr th {\n",
       "        vertical-align: top;\n",
       "    }\n",
       "\n",
       "    .dataframe thead th {\n",
       "        text-align: right;\n",
       "    }\n",
       "</style>\n",
       "<table border=\"1\" class=\"dataframe\">\n",
       "  <thead>\n",
       "    <tr style=\"text-align: right;\">\n",
       "      <th></th>\n",
       "      <th>test_data</th>\n",
       "      <th>predicted_data</th>\n",
       "      <th>Difference</th>\n",
       "    </tr>\n",
       "  </thead>\n",
       "  <tbody>\n",
       "    <tr>\n",
       "      <th>3454</th>\n",
       "      <td>4426.2384</td>\n",
       "      <td>2935.646463</td>\n",
       "      <td>1490.591937</td>\n",
       "    </tr>\n",
       "    <tr>\n",
       "      <th>3386</th>\n",
       "      <td>4845.0266</td>\n",
       "      <td>4155.281637</td>\n",
       "      <td>689.744963</td>\n",
       "    </tr>\n",
       "    <tr>\n",
       "      <th>235</th>\n",
       "      <td>2293.0152</td>\n",
       "      <td>4500.528392</td>\n",
       "      <td>-2207.513192</td>\n",
       "    </tr>\n",
       "    <tr>\n",
       "      <th>7201</th>\n",
       "      <td>1065.2800</td>\n",
       "      <td>1851.164794</td>\n",
       "      <td>-785.884794</td>\n",
       "    </tr>\n",
       "    <tr>\n",
       "      <th>7782</th>\n",
       "      <td>2345.6134</td>\n",
       "      <td>2933.387112</td>\n",
       "      <td>-587.773712</td>\n",
       "    </tr>\n",
       "    <tr>\n",
       "      <th>...</th>\n",
       "      <td>...</td>\n",
       "      <td>...</td>\n",
       "      <td>...</td>\n",
       "    </tr>\n",
       "    <tr>\n",
       "      <th>1994</th>\n",
       "      <td>3207.8244</td>\n",
       "      <td>2472.834100</td>\n",
       "      <td>734.990300</td>\n",
       "    </tr>\n",
       "    <tr>\n",
       "      <th>6557</th>\n",
       "      <td>2263.7200</td>\n",
       "      <td>1494.807560</td>\n",
       "      <td>768.912440</td>\n",
       "    </tr>\n",
       "    <tr>\n",
       "      <th>3875</th>\n",
       "      <td>1906.8512</td>\n",
       "      <td>1894.737395</td>\n",
       "      <td>12.113805</td>\n",
       "    </tr>\n",
       "    <tr>\n",
       "      <th>7552</th>\n",
       "      <td>2773.0570</td>\n",
       "      <td>2763.625857</td>\n",
       "      <td>9.431143</td>\n",
       "    </tr>\n",
       "    <tr>\n",
       "      <th>482</th>\n",
       "      <td>3327.6684</td>\n",
       "      <td>3097.536856</td>\n",
       "      <td>230.131544</td>\n",
       "    </tr>\n",
       "  </tbody>\n",
       "</table>\n",
       "<p>1705 rows × 3 columns</p>\n",
       "</div>"
      ],
      "text/plain": [
       "      test_data  predicted_data   Difference\n",
       "3454  4426.2384     2935.646463  1490.591937\n",
       "3386  4845.0266     4155.281637   689.744963\n",
       "235   2293.0152     4500.528392 -2207.513192\n",
       "7201  1065.2800     1851.164794  -785.884794\n",
       "7782  2345.6134     2933.387112  -587.773712\n",
       "...         ...             ...          ...\n",
       "1994  3207.8244     2472.834100   734.990300\n",
       "6557  2263.7200     1494.807560   768.912440\n",
       "3875  1906.8512     1894.737395    12.113805\n",
       "7552  2773.0570     2763.625857     9.431143\n",
       "482   3327.6684     3097.536856   230.131544\n",
       "\n",
       "[1705 rows x 3 columns]"
      ]
     },
     "execution_count": 162,
     "metadata": {},
     "output_type": "execute_result"
    }
   ],
   "source": [
    "df_compare = pd.DataFrame({'test_data': y_test_lm_2, 'predicted_data': predicted_lm_2,'Difference':y_test_lm_2 - predicted_lm_2})\n",
    "df_compare"
   ]
  },
  {
   "cell_type": "markdown",
   "metadata": {},
   "source": [
    "48.หา Correlation จาก dataframe ข้อ 47"
   ]
  },
  {
   "cell_type": "code",
   "execution_count": 163,
   "metadata": {},
   "outputs": [
    {
     "data": {
      "text/html": [
       "<div>\n",
       "<style scoped>\n",
       "    .dataframe tbody tr th:only-of-type {\n",
       "        vertical-align: middle;\n",
       "    }\n",
       "\n",
       "    .dataframe tbody tr th {\n",
       "        vertical-align: top;\n",
       "    }\n",
       "\n",
       "    .dataframe thead th {\n",
       "        text-align: right;\n",
       "    }\n",
       "</style>\n",
       "<table border=\"1\" class=\"dataframe\">\n",
       "  <thead>\n",
       "    <tr style=\"text-align: right;\">\n",
       "      <th></th>\n",
       "      <th>test_data</th>\n",
       "      <th>predicted_data</th>\n",
       "      <th>Difference</th>\n",
       "    </tr>\n",
       "  </thead>\n",
       "  <tbody>\n",
       "    <tr>\n",
       "      <th>test_data</th>\n",
       "      <td>1.000000</td>\n",
       "      <td>0.740958</td>\n",
       "      <td>0.682213</td>\n",
       "    </tr>\n",
       "    <tr>\n",
       "      <th>predicted_data</th>\n",
       "      <td>0.740958</td>\n",
       "      <td>1.000000</td>\n",
       "      <td>0.014485</td>\n",
       "    </tr>\n",
       "    <tr>\n",
       "      <th>Difference</th>\n",
       "      <td>0.682213</td>\n",
       "      <td>0.014485</td>\n",
       "      <td>1.000000</td>\n",
       "    </tr>\n",
       "  </tbody>\n",
       "</table>\n",
       "</div>"
      ],
      "text/plain": [
       "                test_data  predicted_data  Difference\n",
       "test_data        1.000000        0.740958    0.682213\n",
       "predicted_data   0.740958        1.000000    0.014485\n",
       "Difference       0.682213        0.014485    1.000000"
      ]
     },
     "execution_count": 163,
     "metadata": {},
     "output_type": "execute_result"
    }
   ],
   "source": [
    "df_compare.corr()"
   ]
  },
  {
   "cell_type": "markdown",
   "metadata": {},
   "source": [
    "49.สร้างโมเดลแบบ Support Vector Regression แบบ rbf โดยใช้ทุก features และใช้ Standard Scaler กับทั้ง dependent และ independent variables"
   ]
  },
  {
   "cell_type": "code",
   "execution_count": 164,
   "metadata": {},
   "outputs": [],
   "source": [
    "x_train_rbf_2,x_test_rbf_2,y_train_rbf_2,y_test_rbf_2 = train_test_split(x,y,test_size=0.2,random_state=100)"
   ]
  },
  {
   "cell_type": "code",
   "execution_count": 165,
   "metadata": {},
   "outputs": [],
   "source": [
    "y_train_rbf_2 = np.array(y_train_rbf_2).reshape(-1,1)\n",
    "y_test_rbf_2 = np.array(y_test_rbf_2).reshape(-1,1)"
   ]
  },
  {
   "cell_type": "code",
   "execution_count": 166,
   "metadata": {},
   "outputs": [],
   "source": [
    "sc_x_SVR_2 = StandardScaler()\n",
    "sc_y_SVR_2 = StandardScaler()"
   ]
  },
  {
   "cell_type": "code",
   "execution_count": 167,
   "metadata": {},
   "outputs": [],
   "source": [
    "sc_x_train_rbf_2 = sc_x_SVR_2.fit_transform(x_train_rbf_2)\n",
    "sc_y_train_rbf_2 = sc_y_SVR_2.fit_transform(y_train_rbf_2)\n",
    "sc_x_test_rbf_2 = sc_x_SVR_2.fit_transform(x_test_rbf_2)\n",
    "sc_y_test_rbf_2 = sc_y_SVR_2.fit_transform(y_test_rbf_2)"
   ]
  },
  {
   "cell_type": "code",
   "execution_count": 168,
   "metadata": {},
   "outputs": [
    {
     "name": "stderr",
     "output_type": "stream",
     "text": [
      "C:\\Users\\acer\\Anaconda3\\lib\\site-packages\\sklearn\\utils\\validation.py:760: DataConversionWarning: A column-vector y was passed when a 1d array was expected. Please change the shape of y to (n_samples, ), for example using ravel().\n",
      "  y = column_or_1d(y, warn=True)\n"
     ]
    },
    {
     "data": {
      "text/plain": [
       "SVR(C=1.0, cache_size=200, coef0=0.0, degree=3, epsilon=0.1, gamma='scale',\n",
       "    kernel='rbf', max_iter=-1, shrinking=True, tol=0.001, verbose=False)"
      ]
     },
     "execution_count": 168,
     "metadata": {},
     "output_type": "execute_result"
    }
   ],
   "source": [
    "regressor_rbf_2 = SVR(kernel = 'rbf')\n",
    "regressor_rbf_2.fit(sc_x_train_rbf_2,sc_y_train_rbf_2)"
   ]
  },
  {
   "cell_type": "code",
   "execution_count": 169,
   "metadata": {},
   "outputs": [],
   "source": [
    "predicted_rbf_2 = regressor_rbf_2.predict(sc_x_test_rbf_2)\n",
    "predicted_rbf_2 = sc_y_SVR_2.inverse_transform(predicted_rbf_2)\n",
    "y_test_rbf_2 = sc_y_SVR_2.inverse_transform(sc_y_test_rbf_2)"
   ]
  },
  {
   "cell_type": "markdown",
   "metadata": {},
   "source": [
    "50.ทดสอบโมเดลวัดค่า MAE, MSE, RMSE และ R2"
   ]
  },
  {
   "cell_type": "code",
   "execution_count": 170,
   "metadata": {},
   "outputs": [
    {
     "name": "stdout",
     "output_type": "stream",
     "text": [
      "MAE RBF: 789.5724405814076\n",
      "MSE RBF: 1259638.792424908\n",
      "RMSE RBF: 1122.3363098576594\n",
      "R2: 0.5730502854417258\n"
     ]
    }
   ],
   "source": [
    "print('MAE RBF:',metrics.mean_absolute_error(y_test_rbf_2,predicted_rbf_2))\n",
    "print('MSE RBF:',metrics.mean_squared_error(y_test_rbf_2, predicted_rbf_2))\n",
    "print('RMSE RBF:',np.sqrt(metrics.mean_squared_error(y_test_rbf_2, predicted_rbf_2)))\n",
    "print('R2:',r2_score(y_test_rbf_2, predicted_rbf_2))"
   ]
  },
  {
   "cell_type": "markdown",
   "metadata": {},
   "source": [
    "51.สร้าง distribution plot ของผลต่างระหว่าง y_test กับ predicted results และอธิบายความหมาย"
   ]
  },
  {
   "cell_type": "code",
   "execution_count": 171,
   "metadata": {},
   "outputs": [
    {
     "data": {
      "text/plain": [
       "<matplotlib.axes._subplots.AxesSubplot at 0x1dc58107148>"
      ]
     },
     "execution_count": 171,
     "metadata": {},
     "output_type": "execute_result"
    },
    {
     "data": {
      "image/png": "[encoded data removed]",
      "text/plain": [
       "<Figure size 720x576 with 1 Axes>"
      ]
     },
     "metadata": {
      "needs_background": "light"
     },
     "output_type": "display_data"
    }
   ],
   "source": [
    "plt.figure(figsize = (10,8))\n",
    "sns.distplot((y_test_rbf_2 - predicted_rbf_2),bins=40)"
   ]
  },
  {
   "cell_type": "markdown",
   "metadata": {},
   "source": [
    "52.สร้าง dataframe เปรียบเทียบ ยอดขายจริงกับการทำนาย"
   ]
  },
  {
   "cell_type": "code",
   "execution_count": 172,
   "metadata": {},
   "outputs": [
    {
     "data": {
      "text/html": [
       "<div>\n",
       "<style scoped>\n",
       "    .dataframe tbody tr th:only-of-type {\n",
       "        vertical-align: middle;\n",
       "    }\n",
       "\n",
       "    .dataframe tbody tr th {\n",
       "        vertical-align: top;\n",
       "    }\n",
       "\n",
       "    .dataframe thead th {\n",
       "        text-align: right;\n",
       "    }\n",
       "</style>\n",
       "<table border=\"1\" class=\"dataframe\">\n",
       "  <thead>\n",
       "    <tr style=\"text-align: right;\">\n",
       "      <th></th>\n",
       "      <th>test_data</th>\n",
       "      <th>predicted_data</th>\n",
       "      <th>Difference</th>\n",
       "    </tr>\n",
       "  </thead>\n",
       "  <tbody>\n",
       "    <tr>\n",
       "      <th>0</th>\n",
       "      <td>4426.2384</td>\n",
       "      <td>2845.549493</td>\n",
       "      <td>1580.688907</td>\n",
       "    </tr>\n",
       "    <tr>\n",
       "      <th>1</th>\n",
       "      <td>4845.0266</td>\n",
       "      <td>4629.458765</td>\n",
       "      <td>215.567835</td>\n",
       "    </tr>\n",
       "    <tr>\n",
       "      <th>2</th>\n",
       "      <td>2293.0152</td>\n",
       "      <td>3885.756475</td>\n",
       "      <td>-1592.741275</td>\n",
       "    </tr>\n",
       "    <tr>\n",
       "      <th>3</th>\n",
       "      <td>1065.2800</td>\n",
       "      <td>1460.104273</td>\n",
       "      <td>-394.824273</td>\n",
       "    </tr>\n",
       "    <tr>\n",
       "      <th>4</th>\n",
       "      <td>2345.6134</td>\n",
       "      <td>2897.485455</td>\n",
       "      <td>-551.872055</td>\n",
       "    </tr>\n",
       "    <tr>\n",
       "      <th>...</th>\n",
       "      <td>...</td>\n",
       "      <td>...</td>\n",
       "      <td>...</td>\n",
       "    </tr>\n",
       "    <tr>\n",
       "      <th>1700</th>\n",
       "      <td>3207.8244</td>\n",
       "      <td>2510.473471</td>\n",
       "      <td>697.350929</td>\n",
       "    </tr>\n",
       "    <tr>\n",
       "      <th>1701</th>\n",
       "      <td>2263.7200</td>\n",
       "      <td>1587.531272</td>\n",
       "      <td>676.188728</td>\n",
       "    </tr>\n",
       "    <tr>\n",
       "      <th>1702</th>\n",
       "      <td>1906.8512</td>\n",
       "      <td>1754.012161</td>\n",
       "      <td>152.839039</td>\n",
       "    </tr>\n",
       "    <tr>\n",
       "      <th>1703</th>\n",
       "      <td>2773.0570</td>\n",
       "      <td>2879.110068</td>\n",
       "      <td>-106.053068</td>\n",
       "    </tr>\n",
       "    <tr>\n",
       "      <th>1704</th>\n",
       "      <td>3327.6684</td>\n",
       "      <td>2892.543837</td>\n",
       "      <td>435.124563</td>\n",
       "    </tr>\n",
       "  </tbody>\n",
       "</table>\n",
       "<p>1705 rows × 3 columns</p>\n",
       "</div>"
      ],
      "text/plain": [
       "      test_data  predicted_data   Difference\n",
       "0     4426.2384     2845.549493  1580.688907\n",
       "1     4845.0266     4629.458765   215.567835\n",
       "2     2293.0152     3885.756475 -1592.741275\n",
       "3     1065.2800     1460.104273  -394.824273\n",
       "4     2345.6134     2897.485455  -551.872055\n",
       "...         ...             ...          ...\n",
       "1700  3207.8244     2510.473471   697.350929\n",
       "1701  2263.7200     1587.531272   676.188728\n",
       "1702  1906.8512     1754.012161   152.839039\n",
       "1703  2773.0570     2879.110068  -106.053068\n",
       "1704  3327.6684     2892.543837   435.124563\n",
       "\n",
       "[1705 rows x 3 columns]"
      ]
     },
     "execution_count": 172,
     "metadata": {},
     "output_type": "execute_result"
    }
   ],
   "source": [
    "df_compare_2 = pd.DataFrame({'test_data': y_test_rbf_2.ravel() , 'predicted_data': predicted_rbf_2,'Difference':y_test_rbf_2.ravel() - predicted_rbf_2})\n",
    "df_compare_2"
   ]
  },
  {
   "cell_type": "markdown",
   "metadata": {},
   "source": [
    "53.หา Correlation จาก dataframe ข้อ 52"
   ]
  },
  {
   "cell_type": "code",
   "execution_count": 173,
   "metadata": {},
   "outputs": [
    {
     "data": {
      "text/html": [
       "<div>\n",
       "<style scoped>\n",
       "    .dataframe tbody tr th:only-of-type {\n",
       "        vertical-align: middle;\n",
       "    }\n",
       "\n",
       "    .dataframe tbody tr th {\n",
       "        vertical-align: top;\n",
       "    }\n",
       "\n",
       "    .dataframe thead th {\n",
       "        text-align: right;\n",
       "    }\n",
       "</style>\n",
       "<table border=\"1\" class=\"dataframe\">\n",
       "  <thead>\n",
       "    <tr style=\"text-align: right;\">\n",
       "      <th></th>\n",
       "      <th>test_data</th>\n",
       "      <th>predicted_data</th>\n",
       "      <th>Difference</th>\n",
       "    </tr>\n",
       "  </thead>\n",
       "  <tbody>\n",
       "    <tr>\n",
       "      <th>test_data</th>\n",
       "      <td>1.000000</td>\n",
       "      <td>0.758377</td>\n",
       "      <td>0.662296</td>\n",
       "    </tr>\n",
       "    <tr>\n",
       "      <th>predicted_data</th>\n",
       "      <td>0.758377</td>\n",
       "      <td>1.000000</td>\n",
       "      <td>0.013901</td>\n",
       "    </tr>\n",
       "    <tr>\n",
       "      <th>Difference</th>\n",
       "      <td>0.662296</td>\n",
       "      <td>0.013901</td>\n",
       "      <td>1.000000</td>\n",
       "    </tr>\n",
       "  </tbody>\n",
       "</table>\n",
       "</div>"
      ],
      "text/plain": [
       "                test_data  predicted_data  Difference\n",
       "test_data        1.000000        0.758377    0.662296\n",
       "predicted_data   0.758377        1.000000    0.013901\n",
       "Difference       0.662296        0.013901    1.000000"
      ]
     },
     "execution_count": 173,
     "metadata": {},
     "output_type": "execute_result"
    }
   ],
   "source": [
    "df_compare_2.corr()"
   ]
  },
  {
   "cell_type": "markdown",
   "metadata": {},
   "source": [
    "54.สร้างโมเดลแบบ Decision Tree Regression โดยใช้ทุก features และใช้ Standard Scaler กับทั้ง dependent และ independent variables"
   ]
  },
  {
   "cell_type": "code",
   "execution_count": 174,
   "metadata": {},
   "outputs": [],
   "source": [
    "x_train_dt,x_test_dt,y_train_dt,y_test_dt = train_test_split(x,y,test_size=0.2,random_state=100)"
   ]
  },
  {
   "cell_type": "code",
   "execution_count": 175,
   "metadata": {},
   "outputs": [],
   "source": [
    "y_train_dt = np.array(y_train_dt).reshape(-1,1)\n",
    "y_test_dt = np.array(y_test_dt).reshape(-1,1)"
   ]
  },
  {
   "cell_type": "code",
   "execution_count": 176,
   "metadata": {},
   "outputs": [],
   "source": [
    "sc_x_dt = StandardScaler()\n",
    "sc_y_dt = StandardScaler()"
   ]
  },
  {
   "cell_type": "code",
   "execution_count": 177,
   "metadata": {},
   "outputs": [],
   "source": [
    "sc_x_train_DT = sc_x_dt.fit_transform(x_train_dt)\n",
    "sc_y_train_DT = sc_y_dt.fit_transform(y_train_dt)\n",
    "sc_x_test_DT = sc_x_dt.fit_transform(x_test_dt)\n",
    "sc_y_test_DT = sc_y_dt.fit_transform(y_test_dt)"
   ]
  },
  {
   "cell_type": "code",
   "execution_count": 178,
   "metadata": {},
   "outputs": [
    {
     "data": {
      "text/plain": [
       "DecisionTreeRegressor(ccp_alpha=0.0, criterion='mse', max_depth=None,\n",
       "                      max_features=None, max_leaf_nodes=None,\n",
       "                      min_impurity_decrease=0.0, min_impurity_split=None,\n",
       "                      min_samples_leaf=1, min_samples_split=2,\n",
       "                      min_weight_fraction_leaf=0.0, presort='deprecated',\n",
       "                      random_state=None, splitter='best')"
      ]
     },
     "execution_count": 178,
     "metadata": {},
     "output_type": "execute_result"
    }
   ],
   "source": [
    "from sklearn.tree import DecisionTreeRegressor\n",
    "dt = DecisionTreeRegressor()\n",
    "dt.fit(sc_x_train_DT,sc_y_train_DT)"
   ]
  },
  {
   "cell_type": "code",
   "execution_count": 179,
   "metadata": {},
   "outputs": [],
   "source": [
    "predict_dt = dt.predict(sc_x_test_DT)\n",
    "predict_dt = sc_y_dt.inverse_transform(predict_dt)\n",
    "y_test_DT = sc_y_dt.inverse_transform(sc_y_test_DT)"
   ]
  },
  {
   "cell_type": "markdown",
   "metadata": {},
   "source": [
    "55.ทดสอบโมเดลวัดค่า MAE, MSE, RMSE และ R2"
   ]
  },
  {
   "cell_type": "code",
   "execution_count": 180,
   "metadata": {},
   "outputs": [
    {
     "name": "stdout",
     "output_type": "stream",
     "text": [
      "MAE : 1129.9584564145543\n",
      "MSE : 2563595.671987118\n",
      "RMSE : 1601.1232532154163\n",
      "R2: 0.13107912603209504\n"
     ]
    }
   ],
   "source": [
    "print('MAE :',metrics.mean_absolute_error(y_test_DT,predict_dt))\n",
    "print('MSE :',metrics.mean_squared_error(y_test_DT, predict_dt))\n",
    "print('RMSE :',np.sqrt(metrics.mean_squared_error(y_test_DT, predict_dt)))\n",
    "print('R2:',r2_score(y_test_DT, predict_dt))"
   ]
  },
  {
   "cell_type": "markdown",
   "metadata": {},
   "source": [
    "56.สร้าง distribution plot ของผลต่างระหว่าง y_test กับ predicted results"
   ]
  },
  {
   "cell_type": "code",
   "execution_count": 181,
   "metadata": {},
   "outputs": [
    {
     "data": {
      "text/plain": [
       "<matplotlib.axes._subplots.AxesSubplot at 0x1dc4f630a88>"
      ]
     },
     "execution_count": 181,
     "metadata": {},
     "output_type": "execute_result"
    },
    {
     "data": {
      "image/png": "[encoded data removed]",
      "text/plain": [
       "<Figure size 720x576 with 1 Axes>"
      ]
     },
     "metadata": {
      "needs_background": "light"
     },
     "output_type": "display_data"
    }
   ],
   "source": [
    "plt.figure(figsize = (10,8))\n",
    "sns.distplot((y_test_DT - predict_dt),bins=40)"
   ]
  },
  {
   "cell_type": "markdown",
   "metadata": {},
   "source": [
    "57.สร้าง dataframe เปรียบเทียบ ยอดขายจริงกับการทำนาย"
   ]
  },
  {
   "cell_type": "code",
   "execution_count": 182,
   "metadata": {},
   "outputs": [
    {
     "data": {
      "text/html": [
       "<div>\n",
       "<style scoped>\n",
       "    .dataframe tbody tr th:only-of-type {\n",
       "        vertical-align: middle;\n",
       "    }\n",
       "\n",
       "    .dataframe tbody tr th {\n",
       "        vertical-align: top;\n",
       "    }\n",
       "\n",
       "    .dataframe thead th {\n",
       "        text-align: right;\n",
       "    }\n",
       "</style>\n",
       "<table border=\"1\" class=\"dataframe\">\n",
       "  <thead>\n",
       "    <tr style=\"text-align: right;\">\n",
       "      <th></th>\n",
       "      <th>test_data</th>\n",
       "      <th>predicted_data</th>\n",
       "      <th>Difference</th>\n",
       "    </tr>\n",
       "  </thead>\n",
       "  <tbody>\n",
       "    <tr>\n",
       "      <th>0</th>\n",
       "      <td>4426.2384</td>\n",
       "      <td>4072.103185</td>\n",
       "      <td>354.135215</td>\n",
       "    </tr>\n",
       "    <tr>\n",
       "      <th>1</th>\n",
       "      <td>4845.0266</td>\n",
       "      <td>3624.987758</td>\n",
       "      <td>1220.038842</td>\n",
       "    </tr>\n",
       "    <tr>\n",
       "      <th>2</th>\n",
       "      <td>2293.0152</td>\n",
       "      <td>7591.962316</td>\n",
       "      <td>-5298.947116</td>\n",
       "    </tr>\n",
       "    <tr>\n",
       "      <th>3</th>\n",
       "      <td>1065.2800</td>\n",
       "      <td>4132.524188</td>\n",
       "      <td>-3067.244188</td>\n",
       "    </tr>\n",
       "    <tr>\n",
       "      <th>4</th>\n",
       "      <td>2345.6134</td>\n",
       "      <td>1475.342720</td>\n",
       "      <td>870.270680</td>\n",
       "    </tr>\n",
       "    <tr>\n",
       "      <th>...</th>\n",
       "      <td>...</td>\n",
       "      <td>...</td>\n",
       "      <td>...</td>\n",
       "    </tr>\n",
       "    <tr>\n",
       "      <th>1700</th>\n",
       "      <td>3207.8244</td>\n",
       "      <td>316.602140</td>\n",
       "      <td>2891.222260</td>\n",
       "    </tr>\n",
       "    <tr>\n",
       "      <th>1701</th>\n",
       "      <td>2263.7200</td>\n",
       "      <td>1815.714373</td>\n",
       "      <td>448.005627</td>\n",
       "    </tr>\n",
       "    <tr>\n",
       "      <th>1702</th>\n",
       "      <td>1906.8512</td>\n",
       "      <td>3006.008144</td>\n",
       "      <td>-1099.156944</td>\n",
       "    </tr>\n",
       "    <tr>\n",
       "      <th>1703</th>\n",
       "      <td>2773.0570</td>\n",
       "      <td>3885.469418</td>\n",
       "      <td>-1112.412418</td>\n",
       "    </tr>\n",
       "    <tr>\n",
       "      <th>1704</th>\n",
       "      <td>3327.6684</td>\n",
       "      <td>1420.963817</td>\n",
       "      <td>1906.704583</td>\n",
       "    </tr>\n",
       "  </tbody>\n",
       "</table>\n",
       "<p>1705 rows × 3 columns</p>\n",
       "</div>"
      ],
      "text/plain": [
       "      test_data  predicted_data   Difference\n",
       "0     4426.2384     4072.103185   354.135215\n",
       "1     4845.0266     3624.987758  1220.038842\n",
       "2     2293.0152     7591.962316 -5298.947116\n",
       "3     1065.2800     4132.524188 -3067.244188\n",
       "4     2345.6134     1475.342720   870.270680\n",
       "...         ...             ...          ...\n",
       "1700  3207.8244      316.602140  2891.222260\n",
       "1701  2263.7200     1815.714373   448.005627\n",
       "1702  1906.8512     3006.008144 -1099.156944\n",
       "1703  2773.0570     3885.469418 -1112.412418\n",
       "1704  3327.6684     1420.963817  1906.704583\n",
       "\n",
       "[1705 rows x 3 columns]"
      ]
     },
     "execution_count": 182,
     "metadata": {},
     "output_type": "execute_result"
    }
   ],
   "source": [
    "df_compare_3 = pd.DataFrame({'test_data': y_test_DT.ravel() , 'predicted_data': predict_dt,'Difference':y_test_DT.ravel() - predict_dt})\n",
    "df_compare_3"
   ]
  },
  {
   "cell_type": "markdown",
   "metadata": {},
   "source": [
    "58.หา Correlation จาก dataframe ข้อ 57"
   ]
  },
  {
   "cell_type": "code",
   "execution_count": 183,
   "metadata": {},
   "outputs": [
    {
     "data": {
      "text/html": [
       "<div>\n",
       "<style scoped>\n",
       "    .dataframe tbody tr th:only-of-type {\n",
       "        vertical-align: middle;\n",
       "    }\n",
       "\n",
       "    .dataframe tbody tr th {\n",
       "        vertical-align: top;\n",
       "    }\n",
       "\n",
       "    .dataframe thead th {\n",
       "        text-align: right;\n",
       "    }\n",
       "</style>\n",
       "<table border=\"1\" class=\"dataframe\">\n",
       "  <thead>\n",
       "    <tr style=\"text-align: right;\">\n",
       "      <th></th>\n",
       "      <th>test_data</th>\n",
       "      <th>predicted_data</th>\n",
       "      <th>Difference</th>\n",
       "    </tr>\n",
       "  </thead>\n",
       "  <tbody>\n",
       "    <tr>\n",
       "      <th>test_data</th>\n",
       "      <td>1.000000</td>\n",
       "      <td>0.588962</td>\n",
       "      <td>0.408085</td>\n",
       "    </tr>\n",
       "    <tr>\n",
       "      <th>predicted_data</th>\n",
       "      <td>0.588962</td>\n",
       "      <td>1.000000</td>\n",
       "      <td>-0.497459</td>\n",
       "    </tr>\n",
       "    <tr>\n",
       "      <th>Difference</th>\n",
       "      <td>0.408085</td>\n",
       "      <td>-0.497459</td>\n",
       "      <td>1.000000</td>\n",
       "    </tr>\n",
       "  </tbody>\n",
       "</table>\n",
       "</div>"
      ],
      "text/plain": [
       "                test_data  predicted_data  Difference\n",
       "test_data        1.000000        0.588962    0.408085\n",
       "predicted_data   0.588962        1.000000   -0.497459\n",
       "Difference       0.408085       -0.497459    1.000000"
      ]
     },
     "execution_count": 183,
     "metadata": {},
     "output_type": "execute_result"
    }
   ],
   "source": [
    "df_compare_3.corr()"
   ]
  },
  {
   "cell_type": "markdown",
   "metadata": {},
   "source": [
    "59.สร้างโมเดลแบบ Random Forest Regression โดยใช้ทุก features และใช้ Standard Scaler ทั้ง dependent และ independent variables"
   ]
  },
  {
   "cell_type": "code",
   "execution_count": 184,
   "metadata": {},
   "outputs": [],
   "source": [
    "x_train_rf,x_test_rf,y_train_rf,y_test_rf = train_test_split(x,y,test_size=0.2,random_state=100)"
   ]
  },
  {
   "cell_type": "code",
   "execution_count": 185,
   "metadata": {},
   "outputs": [],
   "source": [
    "y_train_rf = np.array(y_train_rf).reshape(-1,1)\n",
    "y_test_rf = np.array(y_test_rf).reshape(-1,1)"
   ]
  },
  {
   "cell_type": "code",
   "execution_count": 186,
   "metadata": {},
   "outputs": [],
   "source": [
    "sc_x_rf = StandardScaler()\n",
    "sc_y_rf = StandardScaler()"
   ]
  },
  {
   "cell_type": "code",
   "execution_count": 187,
   "metadata": {},
   "outputs": [],
   "source": [
    "sc_x_train_RF = sc_x_rf.fit_transform(x_train_rf)\n",
    "sc_y_train_RF = sc_y_rf.fit_transform(y_train_rf)\n",
    "sc_x_test_RF = sc_x_rf.fit_transform(x_test_rf)\n",
    "sc_y_test_RF = sc_y_rf.fit_transform(y_test_rf)"
   ]
  },
  {
   "cell_type": "code",
   "execution_count": 188,
   "metadata": {},
   "outputs": [
    {
     "name": "stderr",
     "output_type": "stream",
     "text": [
      "C:\\Users\\acer\\Anaconda3\\lib\\site-packages\\ipykernel_launcher.py:3: DataConversionWarning: A column-vector y was passed when a 1d array was expected. Please change the shape of y to (n_samples,), for example using ravel().\n",
      "  This is separate from the ipykernel package so we can avoid doing imports until\n"
     ]
    },
    {
     "data": {
      "text/plain": [
       "RandomForestRegressor(bootstrap=True, ccp_alpha=0.0, criterion='mse',\n",
       "                      max_depth=None, max_features='auto', max_leaf_nodes=None,\n",
       "                      max_samples=None, min_impurity_decrease=0.0,\n",
       "                      min_impurity_split=None, min_samples_leaf=1,\n",
       "                      min_samples_split=2, min_weight_fraction_leaf=0.0,\n",
       "                      n_estimators=100, n_jobs=None, oob_score=False,\n",
       "                      random_state=None, verbose=0, warm_start=False)"
      ]
     },
     "execution_count": 188,
     "metadata": {},
     "output_type": "execute_result"
    }
   ],
   "source": [
    "from sklearn.ensemble import RandomForestRegressor\n",
    "rf = RandomForestRegressor()\n",
    "rf.fit(sc_x_train_RF,sc_y_train_RF)"
   ]
  },
  {
   "cell_type": "code",
   "execution_count": 189,
   "metadata": {},
   "outputs": [],
   "source": [
    "predict_rf = rf.predict(sc_x_test_RF)\n",
    "predict_rf = sc_y_rf.inverse_transform(predict_rf)\n",
    "y_test_RF = sc_y_rf.inverse_transform(sc_y_test_RF)"
   ]
  },
  {
   "cell_type": "markdown",
   "metadata": {},
   "source": [
    "60.ทดสอบโมเดลวัดค่า MAE, MSE, RMSE และ R2"
   ]
  },
  {
   "cell_type": "code",
   "execution_count": 190,
   "metadata": {},
   "outputs": [
    {
     "name": "stdout",
     "output_type": "stream",
     "text": [
      "MAE : 799.8269676418068\n",
      "MSE : 1280512.2536628437\n",
      "RMSE : 1131.5972135273414\n",
      "R2: 0.5659753061929336\n"
     ]
    }
   ],
   "source": [
    "print('MAE :',metrics.mean_absolute_error(y_test_RF,predict_rf))\n",
    "print('MSE :',metrics.mean_squared_error(y_test_RF,predict_rf))\n",
    "print('RMSE :',np.sqrt(metrics.mean_squared_error(y_test_RF,predict_rf)))\n",
    "print('R2:',r2_score(y_test_RF,predict_rf))"
   ]
  },
  {
   "cell_type": "markdown",
   "metadata": {},
   "source": [
    "61.สร้าง distribution plot ของผลต่างระหว่าง y_test กับ predicted results"
   ]
  },
  {
   "cell_type": "code",
   "execution_count": 191,
   "metadata": {},
   "outputs": [
    {
     "data": {
      "text/plain": [
       "<matplotlib.axes._subplots.AxesSubplot at 0x1dc4f6fbec8>"
      ]
     },
     "execution_count": 191,
     "metadata": {},
     "output_type": "execute_result"
    },
    {
     "data": {
      "image/png": "[encoded data removed]",
      "text/plain": [
       "<Figure size 720x576 with 1 Axes>"
      ]
     },
     "metadata": {
      "needs_background": "light"
     },
     "output_type": "display_data"
    }
   ],
   "source": [
    "plt.figure(figsize = (10,8))\n",
    "sns.distplot((y_test_RF-predict_rf),bins=40)"
   ]
  },
  {
   "cell_type": "markdown",
   "metadata": {},
   "source": [
    "62.สร้าง dataframe เปรียบเทียบ ยอดขายจริงกับการทำนาย"
   ]
  },
  {
   "cell_type": "code",
   "execution_count": 192,
   "metadata": {},
   "outputs": [
    {
     "data": {
      "text/html": [
       "<div>\n",
       "<style scoped>\n",
       "    .dataframe tbody tr th:only-of-type {\n",
       "        vertical-align: middle;\n",
       "    }\n",
       "\n",
       "    .dataframe tbody tr th {\n",
       "        vertical-align: top;\n",
       "    }\n",
       "\n",
       "    .dataframe thead th {\n",
       "        text-align: right;\n",
       "    }\n",
       "</style>\n",
       "<table border=\"1\" class=\"dataframe\">\n",
       "  <thead>\n",
       "    <tr style=\"text-align: right;\">\n",
       "      <th></th>\n",
       "      <th>test_data</th>\n",
       "      <th>predicted_data</th>\n",
       "      <th>Difference</th>\n",
       "    </tr>\n",
       "  </thead>\n",
       "  <tbody>\n",
       "    <tr>\n",
       "      <th>0</th>\n",
       "      <td>4426.2384</td>\n",
       "      <td>3332.013025</td>\n",
       "      <td>1094.225375</td>\n",
       "    </tr>\n",
       "    <tr>\n",
       "      <th>1</th>\n",
       "      <td>4845.0266</td>\n",
       "      <td>3963.875740</td>\n",
       "      <td>881.150860</td>\n",
       "    </tr>\n",
       "    <tr>\n",
       "      <th>2</th>\n",
       "      <td>2293.0152</td>\n",
       "      <td>6182.326875</td>\n",
       "      <td>-3889.311675</td>\n",
       "    </tr>\n",
       "    <tr>\n",
       "      <th>3</th>\n",
       "      <td>1065.2800</td>\n",
       "      <td>2021.649294</td>\n",
       "      <td>-956.369294</td>\n",
       "    </tr>\n",
       "    <tr>\n",
       "      <th>4</th>\n",
       "      <td>2345.6134</td>\n",
       "      <td>2467.126640</td>\n",
       "      <td>-121.513240</td>\n",
       "    </tr>\n",
       "    <tr>\n",
       "      <th>...</th>\n",
       "      <td>...</td>\n",
       "      <td>...</td>\n",
       "      <td>...</td>\n",
       "    </tr>\n",
       "    <tr>\n",
       "      <th>1700</th>\n",
       "      <td>3207.8244</td>\n",
       "      <td>2742.720264</td>\n",
       "      <td>465.104136</td>\n",
       "    </tr>\n",
       "    <tr>\n",
       "      <th>1701</th>\n",
       "      <td>2263.7200</td>\n",
       "      <td>1139.126689</td>\n",
       "      <td>1124.593311</td>\n",
       "    </tr>\n",
       "    <tr>\n",
       "      <th>1702</th>\n",
       "      <td>1906.8512</td>\n",
       "      <td>2068.958940</td>\n",
       "      <td>-162.107740</td>\n",
       "    </tr>\n",
       "    <tr>\n",
       "      <th>1703</th>\n",
       "      <td>2773.0570</td>\n",
       "      <td>2358.174143</td>\n",
       "      <td>414.882857</td>\n",
       "    </tr>\n",
       "    <tr>\n",
       "      <th>1704</th>\n",
       "      <td>3327.6684</td>\n",
       "      <td>2723.573519</td>\n",
       "      <td>604.094881</td>\n",
       "    </tr>\n",
       "  </tbody>\n",
       "</table>\n",
       "<p>1705 rows × 3 columns</p>\n",
       "</div>"
      ],
      "text/plain": [
       "      test_data  predicted_data   Difference\n",
       "0     4426.2384     3332.013025  1094.225375\n",
       "1     4845.0266     3963.875740   881.150860\n",
       "2     2293.0152     6182.326875 -3889.311675\n",
       "3     1065.2800     2021.649294  -956.369294\n",
       "4     2345.6134     2467.126640  -121.513240\n",
       "...         ...             ...          ...\n",
       "1700  3207.8244     2742.720264   465.104136\n",
       "1701  2263.7200     1139.126689  1124.593311\n",
       "1702  1906.8512     2068.958940  -162.107740\n",
       "1703  2773.0570     2358.174143   414.882857\n",
       "1704  3327.6684     2723.573519   604.094881\n",
       "\n",
       "[1705 rows x 3 columns]"
      ]
     },
     "execution_count": 192,
     "metadata": {},
     "output_type": "execute_result"
    }
   ],
   "source": [
    "df_compare_4 = pd.DataFrame({'test_data': y_test_RF.ravel() , 'predicted_data': predict_rf,'Difference':y_test_RF.ravel() - predict_rf})\n",
    "df_compare_4"
   ]
  },
  {
   "cell_type": "markdown",
   "metadata": {},
   "source": [
    "63.หา Correlation จาก dataframe ข้อ 62"
   ]
  },
  {
   "cell_type": "code",
   "execution_count": 193,
   "metadata": {},
   "outputs": [
    {
     "data": {
      "text/html": [
       "<div>\n",
       "<style scoped>\n",
       "    .dataframe tbody tr th:only-of-type {\n",
       "        vertical-align: middle;\n",
       "    }\n",
       "\n",
       "    .dataframe tbody tr th {\n",
       "        vertical-align: top;\n",
       "    }\n",
       "\n",
       "    .dataframe thead th {\n",
       "        text-align: right;\n",
       "    }\n",
       "</style>\n",
       "<table border=\"1\" class=\"dataframe\">\n",
       "  <thead>\n",
       "    <tr style=\"text-align: right;\">\n",
       "      <th></th>\n",
       "      <th>test_data</th>\n",
       "      <th>predicted_data</th>\n",
       "      <th>Difference</th>\n",
       "    </tr>\n",
       "  </thead>\n",
       "  <tbody>\n",
       "    <tr>\n",
       "      <th>test_data</th>\n",
       "      <td>1.000000</td>\n",
       "      <td>0.753969</td>\n",
       "      <td>0.599785</td>\n",
       "    </tr>\n",
       "    <tr>\n",
       "      <th>predicted_data</th>\n",
       "      <td>0.753969</td>\n",
       "      <td>1.000000</td>\n",
       "      <td>-0.073415</td>\n",
       "    </tr>\n",
       "    <tr>\n",
       "      <th>Difference</th>\n",
       "      <td>0.599785</td>\n",
       "      <td>-0.073415</td>\n",
       "      <td>1.000000</td>\n",
       "    </tr>\n",
       "  </tbody>\n",
       "</table>\n",
       "</div>"
      ],
      "text/plain": [
       "                test_data  predicted_data  Difference\n",
       "test_data        1.000000        0.753969    0.599785\n",
       "predicted_data   0.753969        1.000000   -0.073415\n",
       "Difference       0.599785       -0.073415    1.000000"
      ]
     },
     "execution_count": 193,
     "metadata": {},
     "output_type": "execute_result"
    }
   ],
   "source": [
    "df_compare_4.corr()"
   ]
  },
  {
   "cell_type": "markdown",
   "metadata": {},
   "source": [
    "64.สร้างโมเดลแบบ Multiple Linear Regression โดยใช้ทุก features และใช้ Standard Scaler ทั้ง dependent และ independent variables"
   ]
  },
  {
   "cell_type": "code",
   "execution_count": 194,
   "metadata": {},
   "outputs": [],
   "source": [
    "sc_x_lm_3 = StandardScaler()\n",
    "sc_y_lm_3 = StandardScaler()"
   ]
  },
  {
   "cell_type": "code",
   "execution_count": 195,
   "metadata": {},
   "outputs": [],
   "source": [
    "x = df.drop(['Item_Outlet_Sales'],axis=1)\n",
    "y = np.array(df['Item_Outlet_Sales']).reshape(-1,1)"
   ]
  },
  {
   "cell_type": "code",
   "execution_count": 196,
   "metadata": {},
   "outputs": [],
   "source": [
    "x = sc_x_lm_3.fit_transform(x)\n",
    "y = sc_y_lm_3.fit_transform(y)"
   ]
  },
  {
   "cell_type": "code",
   "execution_count": 197,
   "metadata": {},
   "outputs": [],
   "source": [
    "x_train_lm_3,x_test_lm_3,y_train_lm_3,y_test_lm_3 = train_test_split(x,y,test_size=0.2,random_state=100)"
   ]
  },
  {
   "cell_type": "code",
   "execution_count": 198,
   "metadata": {},
   "outputs": [
    {
     "data": {
      "text/plain": [
       "LinearRegression(copy_X=True, fit_intercept=True, n_jobs=None, normalize=False)"
      ]
     },
     "execution_count": 198,
     "metadata": {},
     "output_type": "execute_result"
    }
   ],
   "source": [
    "lm_3 = LinearRegression()\n",
    "lm_3.fit(x_train_lm_3,y_train_lm_3)"
   ]
  },
  {
   "cell_type": "code",
   "execution_count": 199,
   "metadata": {},
   "outputs": [],
   "source": [
    "predict_lm_3 = lm_3.predict(x_test_lm_3)\n",
    "predict_lm_3 = sc_y_lm_3.inverse_transform(predict_lm_3)\n",
    "y_test_lm_3 = sc_y_lm_3.inverse_transform(y_test_lm_3)"
   ]
  },
  {
   "cell_type": "markdown",
   "metadata": {},
   "source": [
    "65.ทดสอบโมเดลวัดค่า MAE, MSE, RMSE และ R2"
   ]
  },
  {
   "cell_type": "code",
   "execution_count": 200,
   "metadata": {},
   "outputs": [
    {
     "name": "stdout",
     "output_type": "stream",
     "text": [
      "MAE : 858.6699669449391\n",
      "MSE : 1330974.0431828753\n",
      "RMSE : 1153.6784834532\n",
      "R2: 0.5488714770942742\n"
     ]
    }
   ],
   "source": [
    "print('MAE :',metrics.mean_absolute_error(y_test_lm_3,predict_lm_3))\n",
    "print('MSE :',metrics.mean_squared_error(y_test_lm_3,predict_lm_3))\n",
    "print('RMSE :',np.sqrt(metrics.mean_squared_error(y_test_lm_3,predict_lm_3)))\n",
    "print('R2:',r2_score(y_test_lm_3,predict_lm_3))"
   ]
  },
  {
   "cell_type": "markdown",
   "metadata": {},
   "source": [
    "66.สร้าง distribution plot ของผลต่างระหว่าง y_test กับ predicted results"
   ]
  },
  {
   "cell_type": "code",
   "execution_count": 201,
   "metadata": {},
   "outputs": [
    {
     "data": {
      "text/plain": [
       "<matplotlib.axes._subplots.AxesSubplot at 0x1dc52894bc8>"
      ]
     },
     "execution_count": 201,
     "metadata": {},
     "output_type": "execute_result"
    },
    {
     "data": {
      "image/png": "[encoded data removed]",
      "text/plain": [
       "<Figure size 720x576 with 1 Axes>"
      ]
     },
     "metadata": {
      "needs_background": "light"
     },
     "output_type": "display_data"
    }
   ],
   "source": [
    "plt.figure(figsize = (10,8))\n",
    "sns.distplot((y_test_lm_3-predict_lm_3),bins=40)"
   ]
  },
  {
   "cell_type": "markdown",
   "metadata": {},
   "source": [
    "67.สร้าง dataframe เปรียบเทียบ ยอดขายจริงกับการทำนาย"
   ]
  },
  {
   "cell_type": "code",
   "execution_count": 202,
   "metadata": {},
   "outputs": [
    {
     "data": {
      "text/html": [
       "<div>\n",
       "<style scoped>\n",
       "    .dataframe tbody tr th:only-of-type {\n",
       "        vertical-align: middle;\n",
       "    }\n",
       "\n",
       "    .dataframe tbody tr th {\n",
       "        vertical-align: top;\n",
       "    }\n",
       "\n",
       "    .dataframe thead th {\n",
       "        text-align: right;\n",
       "    }\n",
       "</style>\n",
       "<table border=\"1\" class=\"dataframe\">\n",
       "  <thead>\n",
       "    <tr style=\"text-align: right;\">\n",
       "      <th></th>\n",
       "      <th>test_data</th>\n",
       "      <th>predicted_data</th>\n",
       "      <th>Difference</th>\n",
       "    </tr>\n",
       "  </thead>\n",
       "  <tbody>\n",
       "    <tr>\n",
       "      <th>0</th>\n",
       "      <td>4426.2384</td>\n",
       "      <td>2935.002081</td>\n",
       "      <td>1491.236319</td>\n",
       "    </tr>\n",
       "    <tr>\n",
       "      <th>1</th>\n",
       "      <td>4845.0266</td>\n",
       "      <td>4154.277329</td>\n",
       "      <td>690.749271</td>\n",
       "    </tr>\n",
       "    <tr>\n",
       "      <th>2</th>\n",
       "      <td>2293.0152</td>\n",
       "      <td>4500.212750</td>\n",
       "      <td>-2207.197550</td>\n",
       "    </tr>\n",
       "    <tr>\n",
       "      <th>3</th>\n",
       "      <td>1065.2800</td>\n",
       "      <td>1850.184948</td>\n",
       "      <td>-784.904948</td>\n",
       "    </tr>\n",
       "    <tr>\n",
       "      <th>4</th>\n",
       "      <td>2345.6134</td>\n",
       "      <td>2932.541529</td>\n",
       "      <td>-586.928129</td>\n",
       "    </tr>\n",
       "    <tr>\n",
       "      <th>...</th>\n",
       "      <td>...</td>\n",
       "      <td>...</td>\n",
       "      <td>...</td>\n",
       "    </tr>\n",
       "    <tr>\n",
       "      <th>1700</th>\n",
       "      <td>3207.8244</td>\n",
       "      <td>2471.532978</td>\n",
       "      <td>736.291422</td>\n",
       "    </tr>\n",
       "    <tr>\n",
       "      <th>1701</th>\n",
       "      <td>2263.7200</td>\n",
       "      <td>1494.342224</td>\n",
       "      <td>769.377776</td>\n",
       "    </tr>\n",
       "    <tr>\n",
       "      <th>1702</th>\n",
       "      <td>1906.8512</td>\n",
       "      <td>1893.654705</td>\n",
       "      <td>13.196495</td>\n",
       "    </tr>\n",
       "    <tr>\n",
       "      <th>1703</th>\n",
       "      <td>2773.0570</td>\n",
       "      <td>2762.841536</td>\n",
       "      <td>10.215464</td>\n",
       "    </tr>\n",
       "    <tr>\n",
       "      <th>1704</th>\n",
       "      <td>3327.6684</td>\n",
       "      <td>3097.053532</td>\n",
       "      <td>230.614868</td>\n",
       "    </tr>\n",
       "  </tbody>\n",
       "</table>\n",
       "<p>1705 rows × 3 columns</p>\n",
       "</div>"
      ],
      "text/plain": [
       "      test_data  predicted_data   Difference\n",
       "0     4426.2384     2935.002081  1491.236319\n",
       "1     4845.0266     4154.277329   690.749271\n",
       "2     2293.0152     4500.212750 -2207.197550\n",
       "3     1065.2800     1850.184948  -784.904948\n",
       "4     2345.6134     2932.541529  -586.928129\n",
       "...         ...             ...          ...\n",
       "1700  3207.8244     2471.532978   736.291422\n",
       "1701  2263.7200     1494.342224   769.377776\n",
       "1702  1906.8512     1893.654705    13.196495\n",
       "1703  2773.0570     2762.841536    10.215464\n",
       "1704  3327.6684     3097.053532   230.614868\n",
       "\n",
       "[1705 rows x 3 columns]"
      ]
     },
     "execution_count": 202,
     "metadata": {},
     "output_type": "execute_result"
    }
   ],
   "source": [
    "df_compare_5 = pd.DataFrame({'test_data': y_test_lm_3.ravel() , 'predicted_data': predict_lm_3.ravel(),'Difference':y_test_lm_3.ravel() - predict_lm_3.ravel()})\n",
    "df_compare_5"
   ]
  },
  {
   "cell_type": "markdown",
   "metadata": {},
   "source": [
    "68.หา Correlation จาก dataframe ข้อก่อนหน้า"
   ]
  },
  {
   "cell_type": "code",
   "execution_count": 203,
   "metadata": {},
   "outputs": [
    {
     "data": {
      "text/html": [
       "<div>\n",
       "<style scoped>\n",
       "    .dataframe tbody tr th:only-of-type {\n",
       "        vertical-align: middle;\n",
       "    }\n",
       "\n",
       "    .dataframe tbody tr th {\n",
       "        vertical-align: top;\n",
       "    }\n",
       "\n",
       "    .dataframe thead th {\n",
       "        text-align: right;\n",
       "    }\n",
       "</style>\n",
       "<table border=\"1\" class=\"dataframe\">\n",
       "  <thead>\n",
       "    <tr style=\"text-align: right;\">\n",
       "      <th></th>\n",
       "      <th>test_data</th>\n",
       "      <th>predicted_data</th>\n",
       "      <th>Difference</th>\n",
       "    </tr>\n",
       "  </thead>\n",
       "  <tbody>\n",
       "    <tr>\n",
       "      <th>test_data</th>\n",
       "      <td>1.000000</td>\n",
       "      <td>0.740953</td>\n",
       "      <td>0.682200</td>\n",
       "    </tr>\n",
       "    <tr>\n",
       "      <th>predicted_data</th>\n",
       "      <td>0.740953</td>\n",
       "      <td>1.000000</td>\n",
       "      <td>0.014459</td>\n",
       "    </tr>\n",
       "    <tr>\n",
       "      <th>Difference</th>\n",
       "      <td>0.682200</td>\n",
       "      <td>0.014459</td>\n",
       "      <td>1.000000</td>\n",
       "    </tr>\n",
       "  </tbody>\n",
       "</table>\n",
       "</div>"
      ],
      "text/plain": [
       "                test_data  predicted_data  Difference\n",
       "test_data        1.000000        0.740953    0.682200\n",
       "predicted_data   0.740953        1.000000    0.014459\n",
       "Difference       0.682200        0.014459    1.000000"
      ]
     },
     "execution_count": 203,
     "metadata": {},
     "output_type": "execute_result"
    }
   ],
   "source": [
    "df_compare_5.corr()"
   ]
  },
  {
   "cell_type": "markdown",
   "metadata": {},
   "source": [
    "69.สร้างโมเดลแบบ Support Vector Regression แบบ rbf โดยใช้ทุก features"
   ]
  },
  {
   "cell_type": "code",
   "execution_count": 204,
   "metadata": {},
   "outputs": [],
   "source": [
    "x = df.drop(['Item_Outlet_Sales'],axis=1)\n",
    "y = np.array(df['Item_Outlet_Sales']).reshape(-1,1)"
   ]
  },
  {
   "cell_type": "code",
   "execution_count": 205,
   "metadata": {},
   "outputs": [],
   "source": [
    "x_train_rbf,x_test_rbf,y_train_rbf,y_test_rbf = train_test_split(x,y,test_size=0.2,random_state=100)"
   ]
  },
  {
   "cell_type": "code",
   "execution_count": 206,
   "metadata": {},
   "outputs": [
    {
     "name": "stderr",
     "output_type": "stream",
     "text": [
      "C:\\Users\\acer\\Anaconda3\\lib\\site-packages\\sklearn\\utils\\validation.py:760: DataConversionWarning: A column-vector y was passed when a 1d array was expected. Please change the shape of y to (n_samples, ), for example using ravel().\n",
      "  y = column_or_1d(y, warn=True)\n"
     ]
    },
    {
     "data": {
      "text/plain": [
       "SVR(C=1.0, cache_size=200, coef0=0.0, degree=3, epsilon=0.1, gamma='scale',\n",
       "    kernel='rbf', max_iter=-1, shrinking=True, tol=0.001, verbose=False)"
      ]
     },
     "execution_count": 206,
     "metadata": {},
     "output_type": "execute_result"
    }
   ],
   "source": [
    "regressor_rbf = SVR(kernel = 'rbf')\n",
    "regressor_rbf.fit(x_train_rbf,y_train_rbf)"
   ]
  },
  {
   "cell_type": "code",
   "execution_count": 207,
   "metadata": {},
   "outputs": [],
   "source": [
    "predict_rbf = regressor_rbf.predict(x_test_rbf)"
   ]
  },
  {
   "cell_type": "markdown",
   "metadata": {},
   "source": [
    "70.ทดสอบโมเดลวัดค่า MAE, MSE, RMSE และ R2"
   ]
  },
  {
   "cell_type": "code",
   "execution_count": 208,
   "metadata": {},
   "outputs": [
    {
     "name": "stdout",
     "output_type": "stream",
     "text": [
      "MAE : 1133.6955980095095\n",
      "MSE : 2433887.3271592655\n",
      "RMSE : 1560.0920893201355\n",
      "R2: 0.17504326966843775\n"
     ]
    }
   ],
   "source": [
    "print('MAE :',metrics.mean_absolute_error(y_test_rbf,predict_rbf))\n",
    "print('MSE :',metrics.mean_squared_error(y_test_rbf,predict_rbf))\n",
    "print('RMSE :',np.sqrt(metrics.mean_squared_error(y_test_rbf,predict_rbf)))\n",
    "print('R2:',r2_score(y_test_rbf,predict_rbf))"
   ]
  },
  {
   "cell_type": "markdown",
   "metadata": {},
   "source": [
    "71.สร้าง distribution plot ของผลต่างระหว่าง y_test กับ predicted results"
   ]
  },
  {
   "cell_type": "code",
   "execution_count": 209,
   "metadata": {},
   "outputs": [
    {
     "data": {
      "text/plain": [
       "<matplotlib.axes._subplots.AxesSubplot at 0x1dc4f627b88>"
      ]
     },
     "execution_count": 209,
     "metadata": {},
     "output_type": "execute_result"
    },
    {
     "data": {
      "image/png": "[encoded data removed]",
      "text/plain": [
       "<Figure size 720x576 with 1 Axes>"
      ]
     },
     "metadata": {
      "needs_background": "light"
     },
     "output_type": "display_data"
    }
   ],
   "source": [
    "plt.figure(figsize = (10,8))\n",
    "sns.distplot((y_test_rbf-predict_rbf),bins=40)"
   ]
  },
  {
   "cell_type": "markdown",
   "metadata": {},
   "source": [
    "72.สร้าง dataframe เปรียบเทียบ ยอดขายจริงกับการทำนาย"
   ]
  },
  {
   "cell_type": "code",
   "execution_count": 210,
   "metadata": {},
   "outputs": [
    {
     "data": {
      "text/html": [
       "<div>\n",
       "<style scoped>\n",
       "    .dataframe tbody tr th:only-of-type {\n",
       "        vertical-align: middle;\n",
       "    }\n",
       "\n",
       "    .dataframe tbody tr th {\n",
       "        vertical-align: top;\n",
       "    }\n",
       "\n",
       "    .dataframe thead th {\n",
       "        text-align: right;\n",
       "    }\n",
       "</style>\n",
       "<table border=\"1\" class=\"dataframe\">\n",
       "  <thead>\n",
       "    <tr style=\"text-align: right;\">\n",
       "      <th></th>\n",
       "      <th>test_data</th>\n",
       "      <th>predicted_data</th>\n",
       "      <th>Difference</th>\n",
       "    </tr>\n",
       "  </thead>\n",
       "  <tbody>\n",
       "    <tr>\n",
       "      <th>0</th>\n",
       "      <td>4426.2384</td>\n",
       "      <td>2236.957563</td>\n",
       "      <td>2189.280837</td>\n",
       "    </tr>\n",
       "    <tr>\n",
       "      <th>1</th>\n",
       "      <td>4845.0266</td>\n",
       "      <td>2464.646040</td>\n",
       "      <td>2380.380560</td>\n",
       "    </tr>\n",
       "    <tr>\n",
       "      <th>2</th>\n",
       "      <td>2293.0152</td>\n",
       "      <td>2294.996623</td>\n",
       "      <td>-1.981423</td>\n",
       "    </tr>\n",
       "    <tr>\n",
       "      <th>3</th>\n",
       "      <td>1065.2800</td>\n",
       "      <td>1618.039399</td>\n",
       "      <td>-552.759399</td>\n",
       "    </tr>\n",
       "    <tr>\n",
       "      <th>4</th>\n",
       "      <td>2345.6134</td>\n",
       "      <td>2216.772578</td>\n",
       "      <td>128.840822</td>\n",
       "    </tr>\n",
       "    <tr>\n",
       "      <th>...</th>\n",
       "      <td>...</td>\n",
       "      <td>...</td>\n",
       "      <td>...</td>\n",
       "    </tr>\n",
       "    <tr>\n",
       "      <th>1700</th>\n",
       "      <td>3207.8244</td>\n",
       "      <td>1956.177871</td>\n",
       "      <td>1251.646529</td>\n",
       "    </tr>\n",
       "    <tr>\n",
       "      <th>1701</th>\n",
       "      <td>2263.7200</td>\n",
       "      <td>1478.463089</td>\n",
       "      <td>785.256911</td>\n",
       "    </tr>\n",
       "    <tr>\n",
       "      <th>1702</th>\n",
       "      <td>1906.8512</td>\n",
       "      <td>1697.917063</td>\n",
       "      <td>208.934137</td>\n",
       "    </tr>\n",
       "    <tr>\n",
       "      <th>1703</th>\n",
       "      <td>2773.0570</td>\n",
       "      <td>2098.184603</td>\n",
       "      <td>674.872397</td>\n",
       "    </tr>\n",
       "    <tr>\n",
       "      <th>1704</th>\n",
       "      <td>3327.6684</td>\n",
       "      <td>2316.266758</td>\n",
       "      <td>1011.401642</td>\n",
       "    </tr>\n",
       "  </tbody>\n",
       "</table>\n",
       "<p>1705 rows × 3 columns</p>\n",
       "</div>"
      ],
      "text/plain": [
       "      test_data  predicted_data   Difference\n",
       "0     4426.2384     2236.957563  2189.280837\n",
       "1     4845.0266     2464.646040  2380.380560\n",
       "2     2293.0152     2294.996623    -1.981423\n",
       "3     1065.2800     1618.039399  -552.759399\n",
       "4     2345.6134     2216.772578   128.840822\n",
       "...         ...             ...          ...\n",
       "1700  3207.8244     1956.177871  1251.646529\n",
       "1701  2263.7200     1478.463089   785.256911\n",
       "1702  1906.8512     1697.917063   208.934137\n",
       "1703  2773.0570     2098.184603   674.872397\n",
       "1704  3327.6684     2316.266758  1011.401642\n",
       "\n",
       "[1705 rows x 3 columns]"
      ]
     },
     "execution_count": 210,
     "metadata": {},
     "output_type": "execute_result"
    }
   ],
   "source": [
    "df_compare_6 = pd.DataFrame({'test_data': y_test_rbf.ravel() , 'predicted_data':predict_rbf.ravel(),'Difference':y_test_rbf.ravel() - predict_rbf.ravel()})\n",
    "df_compare_6"
   ]
  },
  {
   "cell_type": "markdown",
   "metadata": {},
   "source": [
    "73.หา Correlation จาก dataframe ข้อก่อนหน้า"
   ]
  },
  {
   "cell_type": "code",
   "execution_count": 211,
   "metadata": {},
   "outputs": [
    {
     "data": {
      "text/html": [
       "<div>\n",
       "<style scoped>\n",
       "    .dataframe tbody tr th:only-of-type {\n",
       "        vertical-align: middle;\n",
       "    }\n",
       "\n",
       "    .dataframe tbody tr th {\n",
       "        vertical-align: top;\n",
       "    }\n",
       "\n",
       "    .dataframe thead th {\n",
       "        text-align: right;\n",
       "    }\n",
       "</style>\n",
       "<table border=\"1\" class=\"dataframe\">\n",
       "  <thead>\n",
       "    <tr style=\"text-align: right;\">\n",
       "      <th></th>\n",
       "      <th>test_data</th>\n",
       "      <th>predicted_data</th>\n",
       "      <th>Difference</th>\n",
       "    </tr>\n",
       "  </thead>\n",
       "  <tbody>\n",
       "    <tr>\n",
       "      <th>test_data</th>\n",
       "      <td>1.000000</td>\n",
       "      <td>0.557934</td>\n",
       "      <td>0.973313</td>\n",
       "    </tr>\n",
       "    <tr>\n",
       "      <th>predicted_data</th>\n",
       "      <td>0.557934</td>\n",
       "      <td>1.000000</td>\n",
       "      <td>0.352603</td>\n",
       "    </tr>\n",
       "    <tr>\n",
       "      <th>Difference</th>\n",
       "      <td>0.973313</td>\n",
       "      <td>0.352603</td>\n",
       "      <td>1.000000</td>\n",
       "    </tr>\n",
       "  </tbody>\n",
       "</table>\n",
       "</div>"
      ],
      "text/plain": [
       "                test_data  predicted_data  Difference\n",
       "test_data        1.000000        0.557934    0.973313\n",
       "predicted_data   0.557934        1.000000    0.352603\n",
       "Difference       0.973313        0.352603    1.000000"
      ]
     },
     "execution_count": 211,
     "metadata": {},
     "output_type": "execute_result"
    }
   ],
   "source": [
    "df_compare_6.corr()"
   ]
  },
  {
   "cell_type": "markdown",
   "metadata": {},
   "source": [
    "74.สร้างโมเดลแบบ Decision Tree Regression โดยใช้ทุก features"
   ]
  },
  {
   "cell_type": "code",
   "execution_count": 212,
   "metadata": {},
   "outputs": [],
   "source": [
    "x_train_dt_2,x_test_dt_2,y_train_dt_2,y_test_dt_2 = train_test_split(x,y,test_size=0.2,random_state=100)"
   ]
  },
  {
   "cell_type": "code",
   "execution_count": 213,
   "metadata": {},
   "outputs": [
    {
     "data": {
      "text/plain": [
       "DecisionTreeRegressor(ccp_alpha=0.0, criterion='mse', max_depth=None,\n",
       "                      max_features=None, max_leaf_nodes=None,\n",
       "                      min_impurity_decrease=0.0, min_impurity_split=None,\n",
       "                      min_samples_leaf=1, min_samples_split=2,\n",
       "                      min_weight_fraction_leaf=0.0, presort='deprecated',\n",
       "                      random_state=None, splitter='best')"
      ]
     },
     "execution_count": 213,
     "metadata": {},
     "output_type": "execute_result"
    }
   ],
   "source": [
    "dt_2 = DecisionTreeRegressor()\n",
    "dt_2.fit(x_train_dt_2,y_train_dt_2)"
   ]
  },
  {
   "cell_type": "code",
   "execution_count": 214,
   "metadata": {},
   "outputs": [],
   "source": [
    "predict_dt_2 = dt_2.predict(x_test_dt_2)"
   ]
  },
  {
   "cell_type": "markdown",
   "metadata": {},
   "source": [
    "75.ทดสอบโมเดลวัดค่า MAE, MSE, RMSE และ R2"
   ]
  },
  {
   "cell_type": "code",
   "execution_count": 215,
   "metadata": {},
   "outputs": [
    {
     "name": "stdout",
     "output_type": "stream",
     "text": [
      "MAE : 1105.3303106158357\n",
      "MSE : 2539222.0885004126\n",
      "RMSE : 1593.4936738187612\n",
      "R2: 0.13934045822906416\n"
     ]
    }
   ],
   "source": [
    "print('MAE :',metrics.mean_absolute_error(y_test_dt_2,predict_dt_2))\n",
    "print('MSE :',metrics.mean_squared_error(y_test_dt_2,predict_dt_2))\n",
    "print('RMSE :',np.sqrt(metrics.mean_squared_error(y_test_dt_2,predict_dt_2)))\n",
    "print('R2:',r2_score(y_test_dt_2,predict_dt_2))"
   ]
  },
  {
   "cell_type": "markdown",
   "metadata": {},
   "source": [
    "76.สร้าง distribution plot ของผลต่างระหว่าง y_test กับ predicted results"
   ]
  },
  {
   "cell_type": "code",
   "execution_count": 216,
   "metadata": {},
   "outputs": [
    {
     "data": {
      "text/plain": [
       "<matplotlib.axes._subplots.AxesSubplot at 0x1dc4f629bc8>"
      ]
     },
     "execution_count": 216,
     "metadata": {},
     "output_type": "execute_result"
    },
    {
     "data": {
      "image/png": "[encoded data removed]",
      "text/plain": [
       "<Figure size 720x576 with 1 Axes>"
      ]
     },
     "metadata": {
      "needs_background": "light"
     },
     "output_type": "display_data"
    }
   ],
   "source": [
    "plt.figure(figsize = (10,8))\n",
    "sns.distplot((y_test_dt_2-predict_dt_2),bins=40)"
   ]
  },
  {
   "cell_type": "markdown",
   "metadata": {},
   "source": [
    "77.สร้าง dataframe เปรียบเทียบ ยอดขายจริงกับการทำนาย"
   ]
  },
  {
   "cell_type": "code",
   "execution_count": 217,
   "metadata": {},
   "outputs": [
    {
     "data": {
      "text/html": [
       "<div>\n",
       "<style scoped>\n",
       "    .dataframe tbody tr th:only-of-type {\n",
       "        vertical-align: middle;\n",
       "    }\n",
       "\n",
       "    .dataframe tbody tr th {\n",
       "        vertical-align: top;\n",
       "    }\n",
       "\n",
       "    .dataframe thead th {\n",
       "        text-align: right;\n",
       "    }\n",
       "</style>\n",
       "<table border=\"1\" class=\"dataframe\">\n",
       "  <thead>\n",
       "    <tr style=\"text-align: right;\">\n",
       "      <th></th>\n",
       "      <th>test_data</th>\n",
       "      <th>predicted_data</th>\n",
       "      <th>Difference</th>\n",
       "    </tr>\n",
       "  </thead>\n",
       "  <tbody>\n",
       "    <tr>\n",
       "      <th>0</th>\n",
       "      <td>4426.2384</td>\n",
       "      <td>4777.7808</td>\n",
       "      <td>-351.5424</td>\n",
       "    </tr>\n",
       "    <tr>\n",
       "      <th>1</th>\n",
       "      <td>4845.0266</td>\n",
       "      <td>5369.0112</td>\n",
       "      <td>-523.9846</td>\n",
       "    </tr>\n",
       "    <tr>\n",
       "      <th>2</th>\n",
       "      <td>2293.0152</td>\n",
       "      <td>4876.9850</td>\n",
       "      <td>-2583.9698</td>\n",
       "    </tr>\n",
       "    <tr>\n",
       "      <th>3</th>\n",
       "      <td>1065.2800</td>\n",
       "      <td>2293.0152</td>\n",
       "      <td>-1227.7352</td>\n",
       "    </tr>\n",
       "    <tr>\n",
       "      <th>4</th>\n",
       "      <td>2345.6134</td>\n",
       "      <td>1438.1280</td>\n",
       "      <td>907.4854</td>\n",
       "    </tr>\n",
       "    <tr>\n",
       "      <th>...</th>\n",
       "      <td>...</td>\n",
       "      <td>...</td>\n",
       "      <td>...</td>\n",
       "    </tr>\n",
       "    <tr>\n",
       "      <th>1700</th>\n",
       "      <td>3207.8244</td>\n",
       "      <td>2693.8268</td>\n",
       "      <td>513.9976</td>\n",
       "    </tr>\n",
       "    <tr>\n",
       "      <th>1701</th>\n",
       "      <td>2263.7200</td>\n",
       "      <td>1775.6886</td>\n",
       "      <td>488.0314</td>\n",
       "    </tr>\n",
       "    <tr>\n",
       "      <th>1702</th>\n",
       "      <td>1906.8512</td>\n",
       "      <td>1325.6078</td>\n",
       "      <td>581.2434</td>\n",
       "    </tr>\n",
       "    <tr>\n",
       "      <th>1703</th>\n",
       "      <td>2773.0570</td>\n",
       "      <td>3828.3500</td>\n",
       "      <td>-1055.2930</td>\n",
       "    </tr>\n",
       "    <tr>\n",
       "      <th>1704</th>\n",
       "      <td>3327.6684</td>\n",
       "      <td>1384.1982</td>\n",
       "      <td>1943.4702</td>\n",
       "    </tr>\n",
       "  </tbody>\n",
       "</table>\n",
       "<p>1705 rows × 3 columns</p>\n",
       "</div>"
      ],
      "text/plain": [
       "      test_data  predicted_data  Difference\n",
       "0     4426.2384       4777.7808   -351.5424\n",
       "1     4845.0266       5369.0112   -523.9846\n",
       "2     2293.0152       4876.9850  -2583.9698\n",
       "3     1065.2800       2293.0152  -1227.7352\n",
       "4     2345.6134       1438.1280    907.4854\n",
       "...         ...             ...         ...\n",
       "1700  3207.8244       2693.8268    513.9976\n",
       "1701  2263.7200       1775.6886    488.0314\n",
       "1702  1906.8512       1325.6078    581.2434\n",
       "1703  2773.0570       3828.3500  -1055.2930\n",
       "1704  3327.6684       1384.1982   1943.4702\n",
       "\n",
       "[1705 rows x 3 columns]"
      ]
     },
     "execution_count": 217,
     "metadata": {},
     "output_type": "execute_result"
    }
   ],
   "source": [
    "df_compare_7 = pd.DataFrame({'test_data': y_test_dt_2.ravel() , 'predicted_data':predict_dt_2.ravel(),'Difference':y_test_dt_2.ravel() - predict_dt_2.ravel()})\n",
    "df_compare_7"
   ]
  },
  {
   "cell_type": "markdown",
   "metadata": {},
   "source": [
    "78.หา Correlation จาก dataframe ข้อก่อนหน้า"
   ]
  },
  {
   "cell_type": "code",
   "execution_count": 218,
   "metadata": {},
   "outputs": [
    {
     "data": {
      "text/html": [
       "<div>\n",
       "<style scoped>\n",
       "    .dataframe tbody tr th:only-of-type {\n",
       "        vertical-align: middle;\n",
       "    }\n",
       "\n",
       "    .dataframe tbody tr th {\n",
       "        vertical-align: top;\n",
       "    }\n",
       "\n",
       "    .dataframe thead th {\n",
       "        text-align: right;\n",
       "    }\n",
       "</style>\n",
       "<table border=\"1\" class=\"dataframe\">\n",
       "  <thead>\n",
       "    <tr style=\"text-align: right;\">\n",
       "      <th></th>\n",
       "      <th>test_data</th>\n",
       "      <th>predicted_data</th>\n",
       "      <th>Difference</th>\n",
       "    </tr>\n",
       "  </thead>\n",
       "  <tbody>\n",
       "    <tr>\n",
       "      <th>test_data</th>\n",
       "      <td>1.000000</td>\n",
       "      <td>0.590120</td>\n",
       "      <td>0.412244</td>\n",
       "    </tr>\n",
       "    <tr>\n",
       "      <th>predicted_data</th>\n",
       "      <td>0.590120</td>\n",
       "      <td>1.000000</td>\n",
       "      <td>-0.492249</td>\n",
       "    </tr>\n",
       "    <tr>\n",
       "      <th>Difference</th>\n",
       "      <td>0.412244</td>\n",
       "      <td>-0.492249</td>\n",
       "      <td>1.000000</td>\n",
       "    </tr>\n",
       "  </tbody>\n",
       "</table>\n",
       "</div>"
      ],
      "text/plain": [
       "                test_data  predicted_data  Difference\n",
       "test_data        1.000000        0.590120    0.412244\n",
       "predicted_data   0.590120        1.000000   -0.492249\n",
       "Difference       0.412244       -0.492249    1.000000"
      ]
     },
     "execution_count": 218,
     "metadata": {},
     "output_type": "execute_result"
    }
   ],
   "source": [
    "df_compare_7.corr()"
   ]
  },
  {
   "cell_type": "markdown",
   "metadata": {},
   "source": [
    "79.สร้างโมเดลแบบ Random Forest Regression โดยใช้ทุก features"
   ]
  },
  {
   "cell_type": "code",
   "execution_count": 219,
   "metadata": {},
   "outputs": [],
   "source": [
    "x_train_rf_2,x_test_rf_2,y_train_rf_2,y_test_rf_2 = train_test_split(x,y,test_size=0.2,random_state=100)"
   ]
  },
  {
   "cell_type": "code",
   "execution_count": 220,
   "metadata": {},
   "outputs": [
    {
     "name": "stderr",
     "output_type": "stream",
     "text": [
      "C:\\Users\\acer\\Anaconda3\\lib\\site-packages\\ipykernel_launcher.py:2: DataConversionWarning: A column-vector y was passed when a 1d array was expected. Please change the shape of y to (n_samples,), for example using ravel().\n",
      "  \n"
     ]
    },
    {
     "data": {
      "text/plain": [
       "RandomForestRegressor(bootstrap=True, ccp_alpha=0.0, criterion='mse',\n",
       "                      max_depth=None, max_features='auto', max_leaf_nodes=None,\n",
       "                      max_samples=None, min_impurity_decrease=0.0,\n",
       "                      min_impurity_split=None, min_samples_leaf=1,\n",
       "                      min_samples_split=2, min_weight_fraction_leaf=0.0,\n",
       "                      n_estimators=100, n_jobs=None, oob_score=False,\n",
       "                      random_state=None, verbose=0, warm_start=False)"
      ]
     },
     "execution_count": 220,
     "metadata": {},
     "output_type": "execute_result"
    }
   ],
   "source": [
    "rf_2 = RandomForestRegressor()\n",
    "rf_2.fit(x_train_rf_2,y_train_rf_2)"
   ]
  },
  {
   "cell_type": "code",
   "execution_count": 221,
   "metadata": {},
   "outputs": [],
   "source": [
    "predict_rf_2 = rf_2.predict(x_test_rf_2)"
   ]
  },
  {
   "cell_type": "markdown",
   "metadata": {},
   "source": [
    "80.ทดสอบโมเดลวัดค่า MAE, MSE, RMSE และ R2"
   ]
  },
  {
   "cell_type": "code",
   "execution_count": 222,
   "metadata": {},
   "outputs": [
    {
     "name": "stdout",
     "output_type": "stream",
     "text": [
      "MAE : 804.9149191049853\n",
      "MSE : 1297519.2326296454\n",
      "RMSE : 1139.0870171455933\n",
      "R2: 0.5602108562100965\n"
     ]
    }
   ],
   "source": [
    "print('MAE :',metrics.mean_absolute_error(y_test_rf_2,predict_rf_2))\n",
    "print('MSE :',metrics.mean_squared_error(y_test_rf_2,predict_rf_2))\n",
    "print('RMSE :',np.sqrt(metrics.mean_squared_error(y_test_rf_2,predict_rf_2)))\n",
    "print('R2:',r2_score(y_test_rf_2,predict_rf_2))"
   ]
  },
  {
   "cell_type": "markdown",
   "metadata": {},
   "source": [
    "81.สร้าง distribution plot ของผลต่างระหว่าง y_test กับ predicted results"
   ]
  },
  {
   "cell_type": "code",
   "execution_count": 223,
   "metadata": {},
   "outputs": [
    {
     "data": {
      "text/plain": [
       "<matplotlib.axes._subplots.AxesSubplot at 0x1dc51681588>"
      ]
     },
     "execution_count": 223,
     "metadata": {},
     "output_type": "execute_result"
    },
    {
     "data": {
      "image/png": "[encoded data removed]",
      "text/plain": [
       "<Figure size 720x576 with 1 Axes>"
      ]
     },
     "metadata": {
      "needs_background": "light"
     },
     "output_type": "display_data"
    }
   ],
   "source": [
    "plt.figure(figsize = (10,8))\n",
    "sns.distplot((y_test_rf_2-predict_rf_2),bins=40)"
   ]
  },
  {
   "cell_type": "markdown",
   "metadata": {},
   "source": [
    "82.สร้าง dataframe เปรียบเทียบ ยอดขายจริงกับการทำนาย"
   ]
  },
  {
   "cell_type": "code",
   "execution_count": 224,
   "metadata": {},
   "outputs": [
    {
     "data": {
      "text/html": [
       "<div>\n",
       "<style scoped>\n",
       "    .dataframe tbody tr th:only-of-type {\n",
       "        vertical-align: middle;\n",
       "    }\n",
       "\n",
       "    .dataframe tbody tr th {\n",
       "        vertical-align: top;\n",
       "    }\n",
       "\n",
       "    .dataframe thead th {\n",
       "        text-align: right;\n",
       "    }\n",
       "</style>\n",
       "<table border=\"1\" class=\"dataframe\">\n",
       "  <thead>\n",
       "    <tr style=\"text-align: right;\">\n",
       "      <th></th>\n",
       "      <th>test_data</th>\n",
       "      <th>predicted_data</th>\n",
       "      <th>Difference</th>\n",
       "    </tr>\n",
       "  </thead>\n",
       "  <tbody>\n",
       "    <tr>\n",
       "      <th>0</th>\n",
       "      <td>4426.2384</td>\n",
       "      <td>3062.433654</td>\n",
       "      <td>1363.804746</td>\n",
       "    </tr>\n",
       "    <tr>\n",
       "      <th>1</th>\n",
       "      <td>4845.0266</td>\n",
       "      <td>3844.688732</td>\n",
       "      <td>1000.337868</td>\n",
       "    </tr>\n",
       "    <tr>\n",
       "      <th>2</th>\n",
       "      <td>2293.0152</td>\n",
       "      <td>5665.132408</td>\n",
       "      <td>-3372.117208</td>\n",
       "    </tr>\n",
       "    <tr>\n",
       "      <th>3</th>\n",
       "      <td>1065.2800</td>\n",
       "      <td>1821.422402</td>\n",
       "      <td>-756.142402</td>\n",
       "    </tr>\n",
       "    <tr>\n",
       "      <th>4</th>\n",
       "      <td>2345.6134</td>\n",
       "      <td>2204.703488</td>\n",
       "      <td>140.909912</td>\n",
       "    </tr>\n",
       "    <tr>\n",
       "      <th>...</th>\n",
       "      <td>...</td>\n",
       "      <td>...</td>\n",
       "      <td>...</td>\n",
       "    </tr>\n",
       "    <tr>\n",
       "      <th>1700</th>\n",
       "      <td>3207.8244</td>\n",
       "      <td>2447.101294</td>\n",
       "      <td>760.723106</td>\n",
       "    </tr>\n",
       "    <tr>\n",
       "      <th>1701</th>\n",
       "      <td>2263.7200</td>\n",
       "      <td>1152.593012</td>\n",
       "      <td>1111.126988</td>\n",
       "    </tr>\n",
       "    <tr>\n",
       "      <th>1702</th>\n",
       "      <td>1906.8512</td>\n",
       "      <td>2144.009160</td>\n",
       "      <td>-237.157960</td>\n",
       "    </tr>\n",
       "    <tr>\n",
       "      <th>1703</th>\n",
       "      <td>2773.0570</td>\n",
       "      <td>2659.724524</td>\n",
       "      <td>113.332476</td>\n",
       "    </tr>\n",
       "    <tr>\n",
       "      <th>1704</th>\n",
       "      <td>3327.6684</td>\n",
       "      <td>2562.690832</td>\n",
       "      <td>764.977568</td>\n",
       "    </tr>\n",
       "  </tbody>\n",
       "</table>\n",
       "<p>1705 rows × 3 columns</p>\n",
       "</div>"
      ],
      "text/plain": [
       "      test_data  predicted_data   Difference\n",
       "0     4426.2384     3062.433654  1363.804746\n",
       "1     4845.0266     3844.688732  1000.337868\n",
       "2     2293.0152     5665.132408 -3372.117208\n",
       "3     1065.2800     1821.422402  -756.142402\n",
       "4     2345.6134     2204.703488   140.909912\n",
       "...         ...             ...          ...\n",
       "1700  3207.8244     2447.101294   760.723106\n",
       "1701  2263.7200     1152.593012  1111.126988\n",
       "1702  1906.8512     2144.009160  -237.157960\n",
       "1703  2773.0570     2659.724524   113.332476\n",
       "1704  3327.6684     2562.690832   764.977568\n",
       "\n",
       "[1705 rows x 3 columns]"
      ]
     },
     "execution_count": 224,
     "metadata": {},
     "output_type": "execute_result"
    }
   ],
   "source": [
    "df_compare_8 = pd.DataFrame({'test_data': y_test_rf_2.ravel() , 'predicted_data':predict_rf_2.ravel(),'Difference':y_test_rf_2.ravel() - predict_rf_2.ravel()})\n",
    "df_compare_8"
   ]
  },
  {
   "cell_type": "markdown",
   "metadata": {},
   "source": [
    "83.หา Correlation จาก dataframe ข้อก่อนหน้า"
   ]
  },
  {
   "cell_type": "code",
   "execution_count": 225,
   "metadata": {},
   "outputs": [
    {
     "data": {
      "text/html": [
       "<div>\n",
       "<style scoped>\n",
       "    .dataframe tbody tr th:only-of-type {\n",
       "        vertical-align: middle;\n",
       "    }\n",
       "\n",
       "    .dataframe tbody tr th {\n",
       "        vertical-align: top;\n",
       "    }\n",
       "\n",
       "    .dataframe thead th {\n",
       "        text-align: right;\n",
       "    }\n",
       "</style>\n",
       "<table border=\"1\" class=\"dataframe\">\n",
       "  <thead>\n",
       "    <tr style=\"text-align: right;\">\n",
       "      <th></th>\n",
       "      <th>test_data</th>\n",
       "      <th>predicted_data</th>\n",
       "      <th>Difference</th>\n",
       "    </tr>\n",
       "  </thead>\n",
       "  <tbody>\n",
       "    <tr>\n",
       "      <th>test_data</th>\n",
       "      <td>1.000000</td>\n",
       "      <td>0.750136</td>\n",
       "      <td>0.603024</td>\n",
       "    </tr>\n",
       "    <tr>\n",
       "      <th>predicted_data</th>\n",
       "      <td>0.750136</td>\n",
       "      <td>1.000000</td>\n",
       "      <td>-0.075171</td>\n",
       "    </tr>\n",
       "    <tr>\n",
       "      <th>Difference</th>\n",
       "      <td>0.603024</td>\n",
       "      <td>-0.075171</td>\n",
       "      <td>1.000000</td>\n",
       "    </tr>\n",
       "  </tbody>\n",
       "</table>\n",
       "</div>"
      ],
      "text/plain": [
       "                test_data  predicted_data  Difference\n",
       "test_data        1.000000        0.750136    0.603024\n",
       "predicted_data   0.750136        1.000000   -0.075171\n",
       "Difference       0.603024       -0.075171    1.000000"
      ]
     },
     "execution_count": 225,
     "metadata": {},
     "output_type": "execute_result"
    }
   ],
   "source": [
    "df_compare_8.corr()"
   ]
  },
  {
   "cell_type": "markdown",
   "metadata": {},
   "source": [
    "84.สร้าง bar chart แสดงค่า RMSE ของทุกผลลัพธ์ทั้งหมดที่ทำมา ยกเว้น 1 indepedent variable (สองอันแรก) แล้วเปรียบเทียบว่า Model มีประสิทธิภาพมากที่สุด"
   ]
  },
  {
   "cell_type": "code",
   "execution_count": 226,
   "metadata": {},
   "outputs": [],
   "source": [
    "x = ['Multiple Linear Regression', 'SVR + standard scaler','Decision Tree Regression + standard scaler','Random Forest Regression + standard scaler','Multiple Linear Regression + standard scaler','SVR','Decision Tree Regression','Random Forest Regression']\n",
    "y_rmse = [np.sqrt(metrics.mean_squared_error(y_test_lm_2, predicted_lm_2)),np.sqrt(metrics.mean_squared_error(y_test_rbf_2, predicted_rbf_2)),np.sqrt(metrics.mean_squared_error(y_test_DT, predict_dt)),np.sqrt(metrics.mean_squared_error(y_test_RF,predict_rf)),np.sqrt(metrics.mean_squared_error(y_test_lm_3,predict_lm_3)),np.sqrt(metrics.mean_squared_error(y_test_rbf,predict_rbf)),np.sqrt(metrics.mean_squared_error(y_test_dt_2,predict_dt_2)),np.sqrt(metrics.mean_squared_error(y_test_rf_2,predict_rf_2))]\n",
    "y_r2 = [r2_score(y_test_lm_2, predicted_lm_2),r2_score(y_test_rbf_2, predicted_rbf_2),r2_score(y_test_DT, predict_dt),r2_score(y_test_RF,predict_rf),r2_score(y_test_lm_3,predict_lm_3),r2_score(y_test_rbf,predict_rbf),r2_score(y_test_dt_2,predict_dt_2),r2_score(y_test_rf_2,predict_rf_2)]\n"
   ]
  },
  {
   "cell_type": "code",
   "execution_count": 227,
   "metadata": {},
   "outputs": [
    {
     "data": {
      "image/png": "[encoded data removed]",
      "text/plain": [
       "<Figure size 720x576 with 1 Axes>"
      ]
     },
     "metadata": {
      "needs_background": "light"
     },
     "output_type": "display_data"
    }
   ],
   "source": [
    "fig = plt.figure(figsize=(10,8))\n",
    "sns.barplot(x=x,y=y_rmse)\n",
    "fig.autofmt_xdate()"
   ]
  },
  {
   "cell_type": "markdown",
   "metadata": {},
   "source": [
    "85.สร้าง bar chart แสดงค่า r2_score ของทุกผลลัพธ์ทั้งหมดที่ทำมา ยกเว้น 1 indepedent variable (สองอันแรก) แล้วเปรียบเทียบว่า Model มีประสิทธิภาพมากที่สุด"
   ]
  },
  {
   "cell_type": "code",
   "execution_count": 228,
   "metadata": {},
   "outputs": [
    {
     "data": {
      "image/png": "[encoded data removed]",
      "text/plain": [
       "<Figure size 720x576 with 1 Axes>"
      ]
     },
     "metadata": {
      "needs_background": "light"
     },
     "output_type": "display_data"
    }
   ],
   "source": [
    "fig = plt.figure(figsize=(10,8))\n",
    "sns.barplot(x=x,y=y_r2)\n",
    "fig.autofmt_xdate()"
   ]
  }
 ],
 "metadata": {
  "kernelspec": {
   "display_name": "Python 3",
   "language": "python",
   "name": "python3"
  },
  "language_info": {
   "codemirror_mode": {
    "name": "ipython",
    "version": 3
   },
   "file_extension": ".py",
   "mimetype": "text/x-python",
   "name": "python",
   "nbconvert_exporter": "python",
   "pygments_lexer": "ipython3",
   "version": "3.7.6"
  }
 },
 "nbformat": 4,
 "nbformat_minor": 4
}
