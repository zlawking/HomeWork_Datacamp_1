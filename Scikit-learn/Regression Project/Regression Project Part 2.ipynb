{
 "cells": [
  {
   "cell_type": "code",
   "execution_count": 111,
   "metadata": {},
   "outputs": [],
   "source": [
    "import pandas as pd\n",
    "import numpy as np\n",
    "import matplotlib.pyplot as plt\n",
    "import seaborn as sns\n",
    "from matplotlib.pyplot import show\n",
    "%matplotlib inline"
   ]
  },
  {
   "cell_type": "code",
   "execution_count": 112,
   "metadata": {},
   "outputs": [
    {
     "data": {
      "text/html": [
       "<div>\n",
       "<style scoped>\n",
       "    .dataframe tbody tr th:only-of-type {\n",
       "        vertical-align: middle;\n",
       "    }\n",
       "\n",
       "    .dataframe tbody tr th {\n",
       "        vertical-align: top;\n",
       "    }\n",
       "\n",
       "    .dataframe thead th {\n",
       "        text-align: right;\n",
       "    }\n",
       "</style>\n",
       "<table border=\"1\" class=\"dataframe\">\n",
       "  <thead>\n",
       "    <tr style=\"text-align: right;\">\n",
       "      <th></th>\n",
       "      <th>Item_Identifier</th>\n",
       "      <th>Item_Weight</th>\n",
       "      <th>Item_Fat_Content</th>\n",
       "      <th>Item_Visibility</th>\n",
       "      <th>Item_Type</th>\n",
       "      <th>Item_MRP</th>\n",
       "      <th>Outlet_Identifier</th>\n",
       "      <th>Outlet_Establishment_Year</th>\n",
       "      <th>Outlet_Size</th>\n",
       "      <th>Outlet_Location_Type</th>\n",
       "      <th>Outlet_Type</th>\n",
       "      <th>Item_Outlet_Sales</th>\n",
       "    </tr>\n",
       "  </thead>\n",
       "  <tbody>\n",
       "    <tr>\n",
       "      <th>0</th>\n",
       "      <td>FDA15</td>\n",
       "      <td>9.300</td>\n",
       "      <td>Low Fat</td>\n",
       "      <td>0.016047</td>\n",
       "      <td>Dairy</td>\n",
       "      <td>249.8092</td>\n",
       "      <td>OUT049</td>\n",
       "      <td>1999</td>\n",
       "      <td>Medium</td>\n",
       "      <td>Tier 1</td>\n",
       "      <td>Supermarket Type1</td>\n",
       "      <td>3735.1380</td>\n",
       "    </tr>\n",
       "    <tr>\n",
       "      <th>1</th>\n",
       "      <td>DRC01</td>\n",
       "      <td>5.920</td>\n",
       "      <td>Regular</td>\n",
       "      <td>0.019278</td>\n",
       "      <td>Soft Drinks</td>\n",
       "      <td>48.2692</td>\n",
       "      <td>OUT018</td>\n",
       "      <td>2009</td>\n",
       "      <td>Medium</td>\n",
       "      <td>Tier 3</td>\n",
       "      <td>Supermarket Type2</td>\n",
       "      <td>443.4228</td>\n",
       "    </tr>\n",
       "    <tr>\n",
       "      <th>2</th>\n",
       "      <td>FDN15</td>\n",
       "      <td>17.500</td>\n",
       "      <td>Low Fat</td>\n",
       "      <td>0.016760</td>\n",
       "      <td>Meat</td>\n",
       "      <td>141.6180</td>\n",
       "      <td>OUT049</td>\n",
       "      <td>1999</td>\n",
       "      <td>Medium</td>\n",
       "      <td>Tier 1</td>\n",
       "      <td>Supermarket Type1</td>\n",
       "      <td>2097.2700</td>\n",
       "    </tr>\n",
       "    <tr>\n",
       "      <th>3</th>\n",
       "      <td>FDX07</td>\n",
       "      <td>19.200</td>\n",
       "      <td>Regular</td>\n",
       "      <td>0.000000</td>\n",
       "      <td>Fruits and Vegetables</td>\n",
       "      <td>182.0950</td>\n",
       "      <td>OUT010</td>\n",
       "      <td>1998</td>\n",
       "      <td>NaN</td>\n",
       "      <td>Tier 3</td>\n",
       "      <td>Grocery Store</td>\n",
       "      <td>732.3800</td>\n",
       "    </tr>\n",
       "    <tr>\n",
       "      <th>4</th>\n",
       "      <td>NCD19</td>\n",
       "      <td>8.930</td>\n",
       "      <td>Low Fat</td>\n",
       "      <td>0.000000</td>\n",
       "      <td>Household</td>\n",
       "      <td>53.8614</td>\n",
       "      <td>OUT013</td>\n",
       "      <td>1987</td>\n",
       "      <td>High</td>\n",
       "      <td>Tier 3</td>\n",
       "      <td>Supermarket Type1</td>\n",
       "      <td>994.7052</td>\n",
       "    </tr>\n",
       "    <tr>\n",
       "      <th>...</th>\n",
       "      <td>...</td>\n",
       "      <td>...</td>\n",
       "      <td>...</td>\n",
       "      <td>...</td>\n",
       "      <td>...</td>\n",
       "      <td>...</td>\n",
       "      <td>...</td>\n",
       "      <td>...</td>\n",
       "      <td>...</td>\n",
       "      <td>...</td>\n",
       "      <td>...</td>\n",
       "      <td>...</td>\n",
       "    </tr>\n",
       "    <tr>\n",
       "      <th>8518</th>\n",
       "      <td>FDF22</td>\n",
       "      <td>6.865</td>\n",
       "      <td>Low Fat</td>\n",
       "      <td>0.056783</td>\n",
       "      <td>Snack Foods</td>\n",
       "      <td>214.5218</td>\n",
       "      <td>OUT013</td>\n",
       "      <td>1987</td>\n",
       "      <td>High</td>\n",
       "      <td>Tier 3</td>\n",
       "      <td>Supermarket Type1</td>\n",
       "      <td>2778.3834</td>\n",
       "    </tr>\n",
       "    <tr>\n",
       "      <th>8519</th>\n",
       "      <td>FDS36</td>\n",
       "      <td>8.380</td>\n",
       "      <td>Regular</td>\n",
       "      <td>0.046982</td>\n",
       "      <td>Baking Goods</td>\n",
       "      <td>108.1570</td>\n",
       "      <td>OUT045</td>\n",
       "      <td>2002</td>\n",
       "      <td>NaN</td>\n",
       "      <td>Tier 2</td>\n",
       "      <td>Supermarket Type1</td>\n",
       "      <td>549.2850</td>\n",
       "    </tr>\n",
       "    <tr>\n",
       "      <th>8520</th>\n",
       "      <td>NCJ29</td>\n",
       "      <td>10.600</td>\n",
       "      <td>Low Fat</td>\n",
       "      <td>0.035186</td>\n",
       "      <td>Health and Hygiene</td>\n",
       "      <td>85.1224</td>\n",
       "      <td>OUT035</td>\n",
       "      <td>2004</td>\n",
       "      <td>Small</td>\n",
       "      <td>Tier 2</td>\n",
       "      <td>Supermarket Type1</td>\n",
       "      <td>1193.1136</td>\n",
       "    </tr>\n",
       "    <tr>\n",
       "      <th>8521</th>\n",
       "      <td>FDN46</td>\n",
       "      <td>7.210</td>\n",
       "      <td>Regular</td>\n",
       "      <td>0.145221</td>\n",
       "      <td>Snack Foods</td>\n",
       "      <td>103.1332</td>\n",
       "      <td>OUT018</td>\n",
       "      <td>2009</td>\n",
       "      <td>Medium</td>\n",
       "      <td>Tier 3</td>\n",
       "      <td>Supermarket Type2</td>\n",
       "      <td>1845.5976</td>\n",
       "    </tr>\n",
       "    <tr>\n",
       "      <th>8522</th>\n",
       "      <td>DRG01</td>\n",
       "      <td>14.800</td>\n",
       "      <td>Low Fat</td>\n",
       "      <td>0.044878</td>\n",
       "      <td>Soft Drinks</td>\n",
       "      <td>75.4670</td>\n",
       "      <td>OUT046</td>\n",
       "      <td>1997</td>\n",
       "      <td>Small</td>\n",
       "      <td>Tier 1</td>\n",
       "      <td>Supermarket Type1</td>\n",
       "      <td>765.6700</td>\n",
       "    </tr>\n",
       "  </tbody>\n",
       "</table>\n",
       "<p>8523 rows × 12 columns</p>\n",
       "</div>"
      ],
      "text/plain": [
       "     Item_Identifier  Item_Weight Item_Fat_Content  Item_Visibility  \\\n",
       "0              FDA15        9.300          Low Fat         0.016047   \n",
       "1              DRC01        5.920          Regular         0.019278   \n",
       "2              FDN15       17.500          Low Fat         0.016760   \n",
       "3              FDX07       19.200          Regular         0.000000   \n",
       "4              NCD19        8.930          Low Fat         0.000000   \n",
       "...              ...          ...              ...              ...   \n",
       "8518           FDF22        6.865          Low Fat         0.056783   \n",
       "8519           FDS36        8.380          Regular         0.046982   \n",
       "8520           NCJ29       10.600          Low Fat         0.035186   \n",
       "8521           FDN46        7.210          Regular         0.145221   \n",
       "8522           DRG01       14.800          Low Fat         0.044878   \n",
       "\n",
       "                  Item_Type  Item_MRP Outlet_Identifier  \\\n",
       "0                     Dairy  249.8092            OUT049   \n",
       "1               Soft Drinks   48.2692            OUT018   \n",
       "2                      Meat  141.6180            OUT049   \n",
       "3     Fruits and Vegetables  182.0950            OUT010   \n",
       "4                 Household   53.8614            OUT013   \n",
       "...                     ...       ...               ...   \n",
       "8518            Snack Foods  214.5218            OUT013   \n",
       "8519           Baking Goods  108.1570            OUT045   \n",
       "8520     Health and Hygiene   85.1224            OUT035   \n",
       "8521            Snack Foods  103.1332            OUT018   \n",
       "8522            Soft Drinks   75.4670            OUT046   \n",
       "\n",
       "      Outlet_Establishment_Year Outlet_Size Outlet_Location_Type  \\\n",
       "0                          1999      Medium               Tier 1   \n",
       "1                          2009      Medium               Tier 3   \n",
       "2                          1999      Medium               Tier 1   \n",
       "3                          1998         NaN               Tier 3   \n",
       "4                          1987        High               Tier 3   \n",
       "...                         ...         ...                  ...   \n",
       "8518                       1987        High               Tier 3   \n",
       "8519                       2002         NaN               Tier 2   \n",
       "8520                       2004       Small               Tier 2   \n",
       "8521                       2009      Medium               Tier 3   \n",
       "8522                       1997       Small               Tier 1   \n",
       "\n",
       "            Outlet_Type  Item_Outlet_Sales  \n",
       "0     Supermarket Type1          3735.1380  \n",
       "1     Supermarket Type2           443.4228  \n",
       "2     Supermarket Type1          2097.2700  \n",
       "3         Grocery Store           732.3800  \n",
       "4     Supermarket Type1           994.7052  \n",
       "...                 ...                ...  \n",
       "8518  Supermarket Type1          2778.3834  \n",
       "8519  Supermarket Type1           549.2850  \n",
       "8520  Supermarket Type1          1193.1136  \n",
       "8521  Supermarket Type2          1845.5976  \n",
       "8522  Supermarket Type1           765.6700  \n",
       "\n",
       "[8523 rows x 12 columns]"
      ]
     },
     "execution_count": 112,
     "metadata": {},
     "output_type": "execute_result"
    }
   ],
   "source": [
    "df = pd.read_csv('datasets_8538_11952_Train.csv')\n",
    "df"
   ]
  },
  {
   "cell_type": "markdown",
   "metadata": {},
   "source": [
    "25.แสดง dataframe ที่ ชนิดของสินค้าคือน้ำอัดลมและขนาดของ outlet คือเล็ก (hint: ใช้ bitwise operator)"
   ]
  },
  {
   "cell_type": "code",
   "execution_count": 113,
   "metadata": {},
   "outputs": [
    {
     "data": {
      "text/html": [
       "<div>\n",
       "<style scoped>\n",
       "    .dataframe tbody tr th:only-of-type {\n",
       "        vertical-align: middle;\n",
       "    }\n",
       "\n",
       "    .dataframe tbody tr th {\n",
       "        vertical-align: top;\n",
       "    }\n",
       "\n",
       "    .dataframe thead th {\n",
       "        text-align: right;\n",
       "    }\n",
       "</style>\n",
       "<table border=\"1\" class=\"dataframe\">\n",
       "  <thead>\n",
       "    <tr style=\"text-align: right;\">\n",
       "      <th></th>\n",
       "      <th>Item_Identifier</th>\n",
       "      <th>Item_Weight</th>\n",
       "      <th>Item_Fat_Content</th>\n",
       "      <th>Item_Visibility</th>\n",
       "      <th>Item_Type</th>\n",
       "      <th>Item_MRP</th>\n",
       "      <th>Outlet_Identifier</th>\n",
       "      <th>Outlet_Establishment_Year</th>\n",
       "      <th>Outlet_Size</th>\n",
       "      <th>Outlet_Location_Type</th>\n",
       "      <th>Outlet_Type</th>\n",
       "      <th>Item_Outlet_Sales</th>\n",
       "    </tr>\n",
       "  </thead>\n",
       "  <tbody>\n",
       "    <tr>\n",
       "      <th>34</th>\n",
       "      <td>DRH01</td>\n",
       "      <td>17.500</td>\n",
       "      <td>Low Fat</td>\n",
       "      <td>0.097904</td>\n",
       "      <td>Soft Drinks</td>\n",
       "      <td>174.8738</td>\n",
       "      <td>OUT046</td>\n",
       "      <td>1997</td>\n",
       "      <td>Small</td>\n",
       "      <td>Tier 1</td>\n",
       "      <td>Supermarket Type1</td>\n",
       "      <td>2085.2856</td>\n",
       "    </tr>\n",
       "    <tr>\n",
       "      <th>108</th>\n",
       "      <td>DRE60</td>\n",
       "      <td>NaN</td>\n",
       "      <td>low fat</td>\n",
       "      <td>0.278974</td>\n",
       "      <td>Soft Drinks</td>\n",
       "      <td>225.3720</td>\n",
       "      <td>OUT019</td>\n",
       "      <td>1985</td>\n",
       "      <td>Small</td>\n",
       "      <td>Tier 1</td>\n",
       "      <td>Grocery Store</td>\n",
       "      <td>679.1160</td>\n",
       "    </tr>\n",
       "    <tr>\n",
       "      <th>126</th>\n",
       "      <td>DRI49</td>\n",
       "      <td>14.150</td>\n",
       "      <td>Low Fat</td>\n",
       "      <td>0.183507</td>\n",
       "      <td>Soft Drinks</td>\n",
       "      <td>82.4276</td>\n",
       "      <td>OUT046</td>\n",
       "      <td>1997</td>\n",
       "      <td>Small</td>\n",
       "      <td>Tier 1</td>\n",
       "      <td>Supermarket Type1</td>\n",
       "      <td>1137.1864</td>\n",
       "    </tr>\n",
       "    <tr>\n",
       "      <th>163</th>\n",
       "      <td>DRF49</td>\n",
       "      <td>7.270</td>\n",
       "      <td>Low Fat</td>\n",
       "      <td>0.071078</td>\n",
       "      <td>Soft Drinks</td>\n",
       "      <td>114.2518</td>\n",
       "      <td>OUT046</td>\n",
       "      <td>1997</td>\n",
       "      <td>Small</td>\n",
       "      <td>Tier 1</td>\n",
       "      <td>Supermarket Type1</td>\n",
       "      <td>2618.5914</td>\n",
       "    </tr>\n",
       "    <tr>\n",
       "      <th>178</th>\n",
       "      <td>DRY23</td>\n",
       "      <td>NaN</td>\n",
       "      <td>Regular</td>\n",
       "      <td>0.191014</td>\n",
       "      <td>Soft Drinks</td>\n",
       "      <td>42.1112</td>\n",
       "      <td>OUT019</td>\n",
       "      <td>1985</td>\n",
       "      <td>Small</td>\n",
       "      <td>Tier 1</td>\n",
       "      <td>Grocery Store</td>\n",
       "      <td>42.6112</td>\n",
       "    </tr>\n",
       "    <tr>\n",
       "      <th>...</th>\n",
       "      <td>...</td>\n",
       "      <td>...</td>\n",
       "      <td>...</td>\n",
       "      <td>...</td>\n",
       "      <td>...</td>\n",
       "      <td>...</td>\n",
       "      <td>...</td>\n",
       "      <td>...</td>\n",
       "      <td>...</td>\n",
       "      <td>...</td>\n",
       "      <td>...</td>\n",
       "      <td>...</td>\n",
       "    </tr>\n",
       "    <tr>\n",
       "      <th>8071</th>\n",
       "      <td>DRD25</td>\n",
       "      <td>6.135</td>\n",
       "      <td>Low Fat</td>\n",
       "      <td>0.000000</td>\n",
       "      <td>Soft Drinks</td>\n",
       "      <td>114.2860</td>\n",
       "      <td>OUT046</td>\n",
       "      <td>1997</td>\n",
       "      <td>Small</td>\n",
       "      <td>Tier 1</td>\n",
       "      <td>Supermarket Type1</td>\n",
       "      <td>2376.9060</td>\n",
       "    </tr>\n",
       "    <tr>\n",
       "      <th>8276</th>\n",
       "      <td>DRH13</td>\n",
       "      <td>8.575</td>\n",
       "      <td>Low Fat</td>\n",
       "      <td>0.023886</td>\n",
       "      <td>Soft Drinks</td>\n",
       "      <td>106.6280</td>\n",
       "      <td>OUT046</td>\n",
       "      <td>1997</td>\n",
       "      <td>Small</td>\n",
       "      <td>Tier 1</td>\n",
       "      <td>Supermarket Type1</td>\n",
       "      <td>958.7520</td>\n",
       "    </tr>\n",
       "    <tr>\n",
       "      <th>8325</th>\n",
       "      <td>DRK49</td>\n",
       "      <td>14.150</td>\n",
       "      <td>Low Fat</td>\n",
       "      <td>0.035937</td>\n",
       "      <td>Soft Drinks</td>\n",
       "      <td>41.0138</td>\n",
       "      <td>OUT035</td>\n",
       "      <td>2004</td>\n",
       "      <td>Small</td>\n",
       "      <td>Tier 2</td>\n",
       "      <td>Supermarket Type1</td>\n",
       "      <td>771.6622</td>\n",
       "    </tr>\n",
       "    <tr>\n",
       "      <th>8434</th>\n",
       "      <td>DRJ13</td>\n",
       "      <td>12.650</td>\n",
       "      <td>Low Fat</td>\n",
       "      <td>0.062878</td>\n",
       "      <td>Soft Drinks</td>\n",
       "      <td>160.9578</td>\n",
       "      <td>OUT035</td>\n",
       "      <td>2004</td>\n",
       "      <td>Small</td>\n",
       "      <td>Tier 2</td>\n",
       "      <td>Supermarket Type1</td>\n",
       "      <td>4332.3606</td>\n",
       "    </tr>\n",
       "    <tr>\n",
       "      <th>8522</th>\n",
       "      <td>DRG01</td>\n",
       "      <td>14.800</td>\n",
       "      <td>Low Fat</td>\n",
       "      <td>0.044878</td>\n",
       "      <td>Soft Drinks</td>\n",
       "      <td>75.4670</td>\n",
       "      <td>OUT046</td>\n",
       "      <td>1997</td>\n",
       "      <td>Small</td>\n",
       "      <td>Tier 1</td>\n",
       "      <td>Supermarket Type1</td>\n",
       "      <td>765.6700</td>\n",
       "    </tr>\n",
       "  </tbody>\n",
       "</table>\n",
       "<p>126 rows × 12 columns</p>\n",
       "</div>"
      ],
      "text/plain": [
       "     Item_Identifier  Item_Weight Item_Fat_Content  Item_Visibility  \\\n",
       "34             DRH01       17.500          Low Fat         0.097904   \n",
       "108            DRE60          NaN          low fat         0.278974   \n",
       "126            DRI49       14.150          Low Fat         0.183507   \n",
       "163            DRF49        7.270          Low Fat         0.071078   \n",
       "178            DRY23          NaN          Regular         0.191014   \n",
       "...              ...          ...              ...              ...   \n",
       "8071           DRD25        6.135          Low Fat         0.000000   \n",
       "8276           DRH13        8.575          Low Fat         0.023886   \n",
       "8325           DRK49       14.150          Low Fat         0.035937   \n",
       "8434           DRJ13       12.650          Low Fat         0.062878   \n",
       "8522           DRG01       14.800          Low Fat         0.044878   \n",
       "\n",
       "        Item_Type  Item_MRP Outlet_Identifier  Outlet_Establishment_Year  \\\n",
       "34    Soft Drinks  174.8738            OUT046                       1997   \n",
       "108   Soft Drinks  225.3720            OUT019                       1985   \n",
       "126   Soft Drinks   82.4276            OUT046                       1997   \n",
       "163   Soft Drinks  114.2518            OUT046                       1997   \n",
       "178   Soft Drinks   42.1112            OUT019                       1985   \n",
       "...           ...       ...               ...                        ...   \n",
       "8071  Soft Drinks  114.2860            OUT046                       1997   \n",
       "8276  Soft Drinks  106.6280            OUT046                       1997   \n",
       "8325  Soft Drinks   41.0138            OUT035                       2004   \n",
       "8434  Soft Drinks  160.9578            OUT035                       2004   \n",
       "8522  Soft Drinks   75.4670            OUT046                       1997   \n",
       "\n",
       "     Outlet_Size Outlet_Location_Type        Outlet_Type  Item_Outlet_Sales  \n",
       "34         Small               Tier 1  Supermarket Type1          2085.2856  \n",
       "108        Small               Tier 1      Grocery Store           679.1160  \n",
       "126        Small               Tier 1  Supermarket Type1          1137.1864  \n",
       "163        Small               Tier 1  Supermarket Type1          2618.5914  \n",
       "178        Small               Tier 1      Grocery Store            42.6112  \n",
       "...          ...                  ...                ...                ...  \n",
       "8071       Small               Tier 1  Supermarket Type1          2376.9060  \n",
       "8276       Small               Tier 1  Supermarket Type1           958.7520  \n",
       "8325       Small               Tier 2  Supermarket Type1           771.6622  \n",
       "8434       Small               Tier 2  Supermarket Type1          4332.3606  \n",
       "8522       Small               Tier 1  Supermarket Type1           765.6700  \n",
       "\n",
       "[126 rows x 12 columns]"
      ]
     },
     "execution_count": 113,
     "metadata": {},
     "output_type": "execute_result"
    }
   ],
   "source": [
    "df[(df['Outlet_Size'] == 'Small') & (df['Item_Type']== 'Soft Drinks')]"
   ]
  },
  {
   "cell_type": "markdown",
   "metadata": {},
   "source": [
    "26.bitwise operator ต่างกับ logical operator อย่างไร (อ้างอิงจากข้อ 25 ได้)"
   ]
  },
  {
   "cell_type": "markdown",
   "metadata": {},
   "source": [
    "logical operator ใช้กับ boolean และ ได้ค่า boolean  <p>\n",
    "bitwise operator เป็นตัวดำเนินการที่ทำงานในระดับบิตของข้อมูลโดยโปรแกรมจะเปลี่ยนข้อมูลของเราเป็นเลขฐาน 2 "
   ]
  },
  {
   "cell_type": "markdown",
   "metadata": {},
   "source": [
    "27.เช็คและแปลงข้อมูลให้อยู่ในรูปแบบที่เหมาะสม (hint: แปลง data dtype บางคอลัมน์)"
   ]
  },
  {
   "cell_type": "code",
   "execution_count": 114,
   "metadata": {},
   "outputs": [
    {
     "data": {
      "text/plain": [
       "Item_Identifier               object\n",
       "Item_Weight                  float64\n",
       "Item_Fat_Content              object\n",
       "Item_Visibility              float64\n",
       "Item_Type                     object\n",
       "Item_MRP                     float64\n",
       "Outlet_Identifier             object\n",
       "Outlet_Establishment_Year      int64\n",
       "Outlet_Size                   object\n",
       "Outlet_Location_Type          object\n",
       "Outlet_Type                   object\n",
       "Item_Outlet_Sales            float64\n",
       "dtype: object"
      ]
     },
     "execution_count": 114,
     "metadata": {},
     "output_type": "execute_result"
    }
   ],
   "source": [
    "df.dtypes"
   ]
  },
  {
   "cell_type": "code",
   "execution_count": 115,
   "metadata": {},
   "outputs": [],
   "source": [
    "df['Outlet_Establishment_Year'] = df['Outlet_Establishment_Year'].astype('object')\n",
    "df['Item_Fat_Content'] = df['Item_Fat_Content'].replace(['low fat','reg','LF'],['Low Fat','Regular','Low Fat'])"
   ]
  },
  {
   "cell_type": "code",
   "execution_count": 116,
   "metadata": {},
   "outputs": [
    {
     "name": "stdout",
     "output_type": "stream",
     "text": [
      "['FDA15' 'DRC01' 'FDN15' ... 'NCF55' 'NCW30' 'NCW05']\n",
      "['Low Fat' 'Regular']\n",
      "['Dairy' 'Soft Drinks' 'Meat' 'Fruits and Vegetables' 'Household'\n",
      " 'Baking Goods' 'Snack Foods' 'Frozen Foods' 'Breakfast'\n",
      " 'Health and Hygiene' 'Hard Drinks' 'Canned' 'Breads' 'Starchy Foods'\n",
      " 'Others' 'Seafood']\n",
      "['OUT049' 'OUT018' 'OUT010' 'OUT013' 'OUT027' 'OUT045' 'OUT017' 'OUT046'\n",
      " 'OUT035' 'OUT019']\n",
      "[1999 2009 1998 1987 1985 2002 2007 1997 2004]\n",
      "['Medium' nan 'High' 'Small']\n",
      "['Tier 1' 'Tier 3' 'Tier 2']\n",
      "['Supermarket Type1' 'Supermarket Type2' 'Grocery Store'\n",
      " 'Supermarket Type3']\n"
     ]
    }
   ],
   "source": [
    "for col in df.select_dtypes(include=[object]):\n",
    "    print(df[col].unique())"
   ]
  },
  {
   "cell_type": "markdown",
   "metadata": {},
   "source": [
    "28.สร้าง heatmap แสดงข้อมูลที่หายไปของแต่ละ column (สามารถย้อนไปดู titanic dataset ได้)"
   ]
  },
  {
   "cell_type": "code",
   "execution_count": 117,
   "metadata": {},
   "outputs": [
    {
     "data": {
      "text/plain": [
       "<matplotlib.axes._subplots.AxesSubplot at 0x1bb4a279788>"
      ]
     },
     "execution_count": 117,
     "metadata": {},
     "output_type": "execute_result"
    },
    {
     "data": {
      "image/png": "[encoded data removed]",
      "text/plain": [
       "<Figure size 720x576 with 2 Axes>"
      ]
     },
     "metadata": {
      "needs_background": "light"
     },
     "output_type": "display_data"
    }
   ],
   "source": [
    "fig = plt.figure(figsize=(10,8))\n",
    "sns.heatmap(df.isnull(), cbar=True, cmap='Accent')"
   ]
  },
  {
   "cell_type": "markdown",
   "metadata": {},
   "source": [
    "29.เช็คว่ามีข้อมูลที่หายไปไหม ถ้าเป็นตัวเลขให้ใส่ด้วยค่าเฉลี่ย ถ้าเป็น Categorical ให้ใส่ด้วย Category อันที่มีความถี่สูงที่สุด"
   ]
  },
  {
   "cell_type": "code",
   "execution_count": 118,
   "metadata": {},
   "outputs": [
    {
     "data": {
      "text/plain": [
       "Medium    2793\n",
       "Name: Outlet_Size, dtype: int64"
      ]
     },
     "execution_count": 118,
     "metadata": {},
     "output_type": "execute_result"
    }
   ],
   "source": [
    "df[\"Outlet_Size\"].value_counts().head(1)"
   ]
  },
  {
   "cell_type": "code",
   "execution_count": 119,
   "metadata": {},
   "outputs": [],
   "source": [
    "df[\"Item_Weight\"] = df[\"Item_Weight\"].fillna(df[\"Item_Weight\"].mean())\n",
    "df[\"Outlet_Size\"] = df[\"Outlet_Size\"].fillna('Medium')"
   ]
  },
  {
   "cell_type": "markdown",
   "metadata": {},
   "source": [
    "30.drop ข้อมูลที่คิดว่าไม่มีผลต่อยอดขายออก และให้เหตุผลว่าทำไม"
   ]
  },
  {
   "cell_type": "code",
   "execution_count": 120,
   "metadata": {},
   "outputs": [],
   "source": [
    "df = df.drop(columns=['Item_Identifier'])\n",
    "# เพราะเป็น ID เลยไม่มีผลต่อยอดขาย"
   ]
  },
  {
   "cell_type": "markdown",
   "metadata": {},
   "source": [
    "31.Print ยอดขายที่มากสุดและน้อยสุดใน dataframe"
   ]
  },
  {
   "cell_type": "code",
   "execution_count": 121,
   "metadata": {},
   "outputs": [
    {
     "data": {
      "text/plain": [
       "13086.9648"
      ]
     },
     "execution_count": 121,
     "metadata": {},
     "output_type": "execute_result"
    }
   ],
   "source": [
    "df['Item_Outlet_Sales'].max()"
   ]
  },
  {
   "cell_type": "code",
   "execution_count": 122,
   "metadata": {},
   "outputs": [
    {
     "data": {
      "text/plain": [
       "33.29"
      ]
     },
     "execution_count": 122,
     "metadata": {},
     "output_type": "execute_result"
    }
   ],
   "source": [
    "df['Item_Outlet_Sales'].min()"
   ]
  },
  {
   "cell_type": "markdown",
   "metadata": {},
   "source": [
    "32.ทำ dummies สำหรับ Categorical data และ สร้าง train/test split ด้วย 80:20 ratio"
   ]
  },
  {
   "cell_type": "code",
   "execution_count": 123,
   "metadata": {},
   "outputs": [
    {
     "data": {
      "text/html": [
       "<div>\n",
       "<style scoped>\n",
       "    .dataframe tbody tr th:only-of-type {\n",
       "        vertical-align: middle;\n",
       "    }\n",
       "\n",
       "    .dataframe tbody tr th {\n",
       "        vertical-align: top;\n",
       "    }\n",
       "\n",
       "    .dataframe thead th {\n",
       "        text-align: right;\n",
       "    }\n",
       "</style>\n",
       "<table border=\"1\" class=\"dataframe\">\n",
       "  <thead>\n",
       "    <tr style=\"text-align: right;\">\n",
       "      <th></th>\n",
       "      <th>Item_Weight</th>\n",
       "      <th>Item_Visibility</th>\n",
       "      <th>Item_MRP</th>\n",
       "      <th>Item_Outlet_Sales</th>\n",
       "      <th>Item_Fat_Content_Regular</th>\n",
       "      <th>Item_Type_Breads</th>\n",
       "      <th>Item_Type_Breakfast</th>\n",
       "      <th>Item_Type_Canned</th>\n",
       "      <th>Item_Type_Dairy</th>\n",
       "      <th>Item_Type_Frozen Foods</th>\n",
       "      <th>...</th>\n",
       "      <th>Outlet_Establishment_Year_2004</th>\n",
       "      <th>Outlet_Establishment_Year_2007</th>\n",
       "      <th>Outlet_Establishment_Year_2009</th>\n",
       "      <th>Outlet_Size_Medium</th>\n",
       "      <th>Outlet_Size_Small</th>\n",
       "      <th>Outlet_Location_Type_Tier 2</th>\n",
       "      <th>Outlet_Location_Type_Tier 3</th>\n",
       "      <th>Outlet_Type_Supermarket Type1</th>\n",
       "      <th>Outlet_Type_Supermarket Type2</th>\n",
       "      <th>Outlet_Type_Supermarket Type3</th>\n",
       "    </tr>\n",
       "  </thead>\n",
       "  <tbody>\n",
       "    <tr>\n",
       "      <th>0</th>\n",
       "      <td>9.300</td>\n",
       "      <td>0.016047</td>\n",
       "      <td>249.8092</td>\n",
       "      <td>3735.1380</td>\n",
       "      <td>0</td>\n",
       "      <td>0</td>\n",
       "      <td>0</td>\n",
       "      <td>0</td>\n",
       "      <td>1</td>\n",
       "      <td>0</td>\n",
       "      <td>...</td>\n",
       "      <td>0</td>\n",
       "      <td>0</td>\n",
       "      <td>0</td>\n",
       "      <td>1</td>\n",
       "      <td>0</td>\n",
       "      <td>0</td>\n",
       "      <td>0</td>\n",
       "      <td>1</td>\n",
       "      <td>0</td>\n",
       "      <td>0</td>\n",
       "    </tr>\n",
       "    <tr>\n",
       "      <th>1</th>\n",
       "      <td>5.920</td>\n",
       "      <td>0.019278</td>\n",
       "      <td>48.2692</td>\n",
       "      <td>443.4228</td>\n",
       "      <td>1</td>\n",
       "      <td>0</td>\n",
       "      <td>0</td>\n",
       "      <td>0</td>\n",
       "      <td>0</td>\n",
       "      <td>0</td>\n",
       "      <td>...</td>\n",
       "      <td>0</td>\n",
       "      <td>0</td>\n",
       "      <td>1</td>\n",
       "      <td>1</td>\n",
       "      <td>0</td>\n",
       "      <td>0</td>\n",
       "      <td>1</td>\n",
       "      <td>0</td>\n",
       "      <td>1</td>\n",
       "      <td>0</td>\n",
       "    </tr>\n",
       "    <tr>\n",
       "      <th>2</th>\n",
       "      <td>17.500</td>\n",
       "      <td>0.016760</td>\n",
       "      <td>141.6180</td>\n",
       "      <td>2097.2700</td>\n",
       "      <td>0</td>\n",
       "      <td>0</td>\n",
       "      <td>0</td>\n",
       "      <td>0</td>\n",
       "      <td>0</td>\n",
       "      <td>0</td>\n",
       "      <td>...</td>\n",
       "      <td>0</td>\n",
       "      <td>0</td>\n",
       "      <td>0</td>\n",
       "      <td>1</td>\n",
       "      <td>0</td>\n",
       "      <td>0</td>\n",
       "      <td>0</td>\n",
       "      <td>1</td>\n",
       "      <td>0</td>\n",
       "      <td>0</td>\n",
       "    </tr>\n",
       "    <tr>\n",
       "      <th>3</th>\n",
       "      <td>19.200</td>\n",
       "      <td>0.000000</td>\n",
       "      <td>182.0950</td>\n",
       "      <td>732.3800</td>\n",
       "      <td>1</td>\n",
       "      <td>0</td>\n",
       "      <td>0</td>\n",
       "      <td>0</td>\n",
       "      <td>0</td>\n",
       "      <td>0</td>\n",
       "      <td>...</td>\n",
       "      <td>0</td>\n",
       "      <td>0</td>\n",
       "      <td>0</td>\n",
       "      <td>1</td>\n",
       "      <td>0</td>\n",
       "      <td>0</td>\n",
       "      <td>1</td>\n",
       "      <td>0</td>\n",
       "      <td>0</td>\n",
       "      <td>0</td>\n",
       "    </tr>\n",
       "    <tr>\n",
       "      <th>4</th>\n",
       "      <td>8.930</td>\n",
       "      <td>0.000000</td>\n",
       "      <td>53.8614</td>\n",
       "      <td>994.7052</td>\n",
       "      <td>0</td>\n",
       "      <td>0</td>\n",
       "      <td>0</td>\n",
       "      <td>0</td>\n",
       "      <td>0</td>\n",
       "      <td>0</td>\n",
       "      <td>...</td>\n",
       "      <td>0</td>\n",
       "      <td>0</td>\n",
       "      <td>0</td>\n",
       "      <td>0</td>\n",
       "      <td>0</td>\n",
       "      <td>0</td>\n",
       "      <td>1</td>\n",
       "      <td>1</td>\n",
       "      <td>0</td>\n",
       "      <td>0</td>\n",
       "    </tr>\n",
       "    <tr>\n",
       "      <th>...</th>\n",
       "      <td>...</td>\n",
       "      <td>...</td>\n",
       "      <td>...</td>\n",
       "      <td>...</td>\n",
       "      <td>...</td>\n",
       "      <td>...</td>\n",
       "      <td>...</td>\n",
       "      <td>...</td>\n",
       "      <td>...</td>\n",
       "      <td>...</td>\n",
       "      <td>...</td>\n",
       "      <td>...</td>\n",
       "      <td>...</td>\n",
       "      <td>...</td>\n",
       "      <td>...</td>\n",
       "      <td>...</td>\n",
       "      <td>...</td>\n",
       "      <td>...</td>\n",
       "      <td>...</td>\n",
       "      <td>...</td>\n",
       "      <td>...</td>\n",
       "    </tr>\n",
       "    <tr>\n",
       "      <th>8518</th>\n",
       "      <td>6.865</td>\n",
       "      <td>0.056783</td>\n",
       "      <td>214.5218</td>\n",
       "      <td>2778.3834</td>\n",
       "      <td>0</td>\n",
       "      <td>0</td>\n",
       "      <td>0</td>\n",
       "      <td>0</td>\n",
       "      <td>0</td>\n",
       "      <td>0</td>\n",
       "      <td>...</td>\n",
       "      <td>0</td>\n",
       "      <td>0</td>\n",
       "      <td>0</td>\n",
       "      <td>0</td>\n",
       "      <td>0</td>\n",
       "      <td>0</td>\n",
       "      <td>1</td>\n",
       "      <td>1</td>\n",
       "      <td>0</td>\n",
       "      <td>0</td>\n",
       "    </tr>\n",
       "    <tr>\n",
       "      <th>8519</th>\n",
       "      <td>8.380</td>\n",
       "      <td>0.046982</td>\n",
       "      <td>108.1570</td>\n",
       "      <td>549.2850</td>\n",
       "      <td>1</td>\n",
       "      <td>0</td>\n",
       "      <td>0</td>\n",
       "      <td>0</td>\n",
       "      <td>0</td>\n",
       "      <td>0</td>\n",
       "      <td>...</td>\n",
       "      <td>0</td>\n",
       "      <td>0</td>\n",
       "      <td>0</td>\n",
       "      <td>1</td>\n",
       "      <td>0</td>\n",
       "      <td>1</td>\n",
       "      <td>0</td>\n",
       "      <td>1</td>\n",
       "      <td>0</td>\n",
       "      <td>0</td>\n",
       "    </tr>\n",
       "    <tr>\n",
       "      <th>8520</th>\n",
       "      <td>10.600</td>\n",
       "      <td>0.035186</td>\n",
       "      <td>85.1224</td>\n",
       "      <td>1193.1136</td>\n",
       "      <td>0</td>\n",
       "      <td>0</td>\n",
       "      <td>0</td>\n",
       "      <td>0</td>\n",
       "      <td>0</td>\n",
       "      <td>0</td>\n",
       "      <td>...</td>\n",
       "      <td>1</td>\n",
       "      <td>0</td>\n",
       "      <td>0</td>\n",
       "      <td>0</td>\n",
       "      <td>1</td>\n",
       "      <td>1</td>\n",
       "      <td>0</td>\n",
       "      <td>1</td>\n",
       "      <td>0</td>\n",
       "      <td>0</td>\n",
       "    </tr>\n",
       "    <tr>\n",
       "      <th>8521</th>\n",
       "      <td>7.210</td>\n",
       "      <td>0.145221</td>\n",
       "      <td>103.1332</td>\n",
       "      <td>1845.5976</td>\n",
       "      <td>1</td>\n",
       "      <td>0</td>\n",
       "      <td>0</td>\n",
       "      <td>0</td>\n",
       "      <td>0</td>\n",
       "      <td>0</td>\n",
       "      <td>...</td>\n",
       "      <td>0</td>\n",
       "      <td>0</td>\n",
       "      <td>1</td>\n",
       "      <td>1</td>\n",
       "      <td>0</td>\n",
       "      <td>0</td>\n",
       "      <td>1</td>\n",
       "      <td>0</td>\n",
       "      <td>1</td>\n",
       "      <td>0</td>\n",
       "    </tr>\n",
       "    <tr>\n",
       "      <th>8522</th>\n",
       "      <td>14.800</td>\n",
       "      <td>0.044878</td>\n",
       "      <td>75.4670</td>\n",
       "      <td>765.6700</td>\n",
       "      <td>0</td>\n",
       "      <td>0</td>\n",
       "      <td>0</td>\n",
       "      <td>0</td>\n",
       "      <td>0</td>\n",
       "      <td>0</td>\n",
       "      <td>...</td>\n",
       "      <td>0</td>\n",
       "      <td>0</td>\n",
       "      <td>0</td>\n",
       "      <td>0</td>\n",
       "      <td>1</td>\n",
       "      <td>0</td>\n",
       "      <td>0</td>\n",
       "      <td>1</td>\n",
       "      <td>0</td>\n",
       "      <td>0</td>\n",
       "    </tr>\n",
       "  </tbody>\n",
       "</table>\n",
       "<p>8523 rows × 44 columns</p>\n",
       "</div>"
      ],
      "text/plain": [
       "      Item_Weight  Item_Visibility  Item_MRP  Item_Outlet_Sales  \\\n",
       "0           9.300         0.016047  249.8092          3735.1380   \n",
       "1           5.920         0.019278   48.2692           443.4228   \n",
       "2          17.500         0.016760  141.6180          2097.2700   \n",
       "3          19.200         0.000000  182.0950           732.3800   \n",
       "4           8.930         0.000000   53.8614           994.7052   \n",
       "...           ...              ...       ...                ...   \n",
       "8518        6.865         0.056783  214.5218          2778.3834   \n",
       "8519        8.380         0.046982  108.1570           549.2850   \n",
       "8520       10.600         0.035186   85.1224          1193.1136   \n",
       "8521        7.210         0.145221  103.1332          1845.5976   \n",
       "8522       14.800         0.044878   75.4670           765.6700   \n",
       "\n",
       "      Item_Fat_Content_Regular  Item_Type_Breads  Item_Type_Breakfast  \\\n",
       "0                            0                 0                    0   \n",
       "1                            1                 0                    0   \n",
       "2                            0                 0                    0   \n",
       "3                            1                 0                    0   \n",
       "4                            0                 0                    0   \n",
       "...                        ...               ...                  ...   \n",
       "8518                         0                 0                    0   \n",
       "8519                         1                 0                    0   \n",
       "8520                         0                 0                    0   \n",
       "8521                         1                 0                    0   \n",
       "8522                         0                 0                    0   \n",
       "\n",
       "      Item_Type_Canned  Item_Type_Dairy  Item_Type_Frozen Foods  ...  \\\n",
       "0                    0                1                       0  ...   \n",
       "1                    0                0                       0  ...   \n",
       "2                    0                0                       0  ...   \n",
       "3                    0                0                       0  ...   \n",
       "4                    0                0                       0  ...   \n",
       "...                ...              ...                     ...  ...   \n",
       "8518                 0                0                       0  ...   \n",
       "8519                 0                0                       0  ...   \n",
       "8520                 0                0                       0  ...   \n",
       "8521                 0                0                       0  ...   \n",
       "8522                 0                0                       0  ...   \n",
       "\n",
       "      Outlet_Establishment_Year_2004  Outlet_Establishment_Year_2007  \\\n",
       "0                                  0                               0   \n",
       "1                                  0                               0   \n",
       "2                                  0                               0   \n",
       "3                                  0                               0   \n",
       "4                                  0                               0   \n",
       "...                              ...                             ...   \n",
       "8518                               0                               0   \n",
       "8519                               0                               0   \n",
       "8520                               1                               0   \n",
       "8521                               0                               0   \n",
       "8522                               0                               0   \n",
       "\n",
       "      Outlet_Establishment_Year_2009  Outlet_Size_Medium  Outlet_Size_Small  \\\n",
       "0                                  0                   1                  0   \n",
       "1                                  1                   1                  0   \n",
       "2                                  0                   1                  0   \n",
       "3                                  0                   1                  0   \n",
       "4                                  0                   0                  0   \n",
       "...                              ...                 ...                ...   \n",
       "8518                               0                   0                  0   \n",
       "8519                               0                   1                  0   \n",
       "8520                               0                   0                  1   \n",
       "8521                               1                   1                  0   \n",
       "8522                               0                   0                  1   \n",
       "\n",
       "      Outlet_Location_Type_Tier 2  Outlet_Location_Type_Tier 3  \\\n",
       "0                               0                            0   \n",
       "1                               0                            1   \n",
       "2                               0                            0   \n",
       "3                               0                            1   \n",
       "4                               0                            1   \n",
       "...                           ...                          ...   \n",
       "8518                            0                            1   \n",
       "8519                            1                            0   \n",
       "8520                            1                            0   \n",
       "8521                            0                            1   \n",
       "8522                            0                            0   \n",
       "\n",
       "      Outlet_Type_Supermarket Type1  Outlet_Type_Supermarket Type2  \\\n",
       "0                                 1                              0   \n",
       "1                                 0                              1   \n",
       "2                                 1                              0   \n",
       "3                                 0                              0   \n",
       "4                                 1                              0   \n",
       "...                             ...                            ...   \n",
       "8518                              1                              0   \n",
       "8519                              1                              0   \n",
       "8520                              1                              0   \n",
       "8521                              0                              1   \n",
       "8522                              1                              0   \n",
       "\n",
       "      Outlet_Type_Supermarket Type3  \n",
       "0                                 0  \n",
       "1                                 0  \n",
       "2                                 0  \n",
       "3                                 0  \n",
       "4                                 0  \n",
       "...                             ...  \n",
       "8518                              0  \n",
       "8519                              0  \n",
       "8520                              0  \n",
       "8521                              0  \n",
       "8522                              0  \n",
       "\n",
       "[8523 rows x 44 columns]"
      ]
     },
     "execution_count": 123,
     "metadata": {},
     "output_type": "execute_result"
    }
   ],
   "source": [
    "df = pd.get_dummies(df,drop_first=True)\n",
    "df"
   ]
  },
  {
   "cell_type": "code",
   "execution_count": 124,
   "metadata": {},
   "outputs": [],
   "source": [
    "from sklearn.model_selection import train_test_split\n",
    "from sklearn.metrics import accuracy_score,f1_score,precision_score,recall_score\n",
    "from sklearn.preprocessing import StandardScaler\n",
    "from sklearn.preprocessing import MinMaxScaler\n",
    "from sklearn.linear_model import LinearRegression\n",
    "from sklearn.metrics import r2_score\n",
    "from sklearn import metrics"
   ]
  },
  {
   "cell_type": "markdown",
   "metadata": {},
   "source": [
    "33.สร้างโมเดลแบบ Simple Linear Regression โดยใช้ Item_MRP เป็น independent variable เพียงตัวเดียว"
   ]
  },
  {
   "cell_type": "code",
   "execution_count": 125,
   "metadata": {},
   "outputs": [],
   "source": [
    "x_Item_MRP = df['Item_MRP']\n",
    "y_Item_Outlet_Sales = df['Item_Outlet_Sales']"
   ]
  },
  {
   "cell_type": "code",
   "execution_count": 126,
   "metadata": {},
   "outputs": [],
   "source": [
    "x_train_lm,x_test_lm,y_train_lm,y_test_lm = train_test_split(x_Item_MRP,y_Item_Outlet_Sales,test_size=0.2,random_state=100)"
   ]
  },
  {
   "cell_type": "code",
   "execution_count": 127,
   "metadata": {},
   "outputs": [],
   "source": [
    "x_train_lm = np.array(x_train_lm).reshape(-1,1)\n",
    "x_test_lm = np.array(x_test_lm).reshape(-1,1)"
   ]
  },
  {
   "cell_type": "code",
   "execution_count": 128,
   "metadata": {},
   "outputs": [
    {
     "data": {
      "text/plain": [
       "LinearRegression(copy_X=True, fit_intercept=True, n_jobs=None, normalize=False)"
      ]
     },
     "execution_count": 128,
     "metadata": {},
     "output_type": "execute_result"
    }
   ],
   "source": [
    "lm = LinearRegression()\n",
    "lm.fit(x_train_lm,y_train_lm)"
   ]
  },
  {
   "cell_type": "code",
   "execution_count": 129,
   "metadata": {},
   "outputs": [],
   "source": [
    "predicted_lm = lm.predict(x_test_lm)"
   ]
  },
  {
   "cell_type": "markdown",
   "metadata": {},
   "source": [
    "34.แสดงค่า intercept และ coefficient พร้อมกับอธิบายทั้งสองค่าว่าคืออะไรและหมายความว่าอย่างไร"
   ]
  },
  {
   "cell_type": "code",
   "execution_count": 130,
   "metadata": {},
   "outputs": [
    {
     "name": "stdout",
     "output_type": "stream",
     "text": [
      "-19.00358982934722\n",
      "[15.58031428]\n"
     ]
    }
   ],
   "source": [
    "print(lm.intercept_)\n",
    "print(lm.coef_)\n",
    "# y = ax + b\n",
    "# intercept(b) = y เมื่อ x = 0 (ตัดแกน y)\n",
    "# coefficient(a) =  ความชัน"
   ]
  },
  {
   "cell_type": "markdown",
   "metadata": {},
   "source": [
    "35.ทดสอบโมเดลวัดค่า MAE, MSE, RMSE และ R2"
   ]
  },
  {
   "cell_type": "code",
   "execution_count": 131,
   "metadata": {},
   "outputs": [
    {
     "name": "stdout",
     "output_type": "stream",
     "text": [
      "MAE: 1048.9970644622563\n",
      "MSE: 2036040.671558162\n",
      "RMSE: 1426.8989703402838\n",
      "R2: 0.3098918604456873\n"
     ]
    }
   ],
   "source": [
    "print('MAE:',metrics.mean_absolute_error(y_test_lm, predicted_lm))\n",
    "print('MSE:',metrics.mean_squared_error(y_test_lm, predicted_lm))\n",
    "print('RMSE:',np.sqrt(metrics.mean_squared_error(y_test_lm, predicted_lm)))\n",
    "print('R2:',r2_score(y_test_lm, predicted_lm))"
   ]
  },
  {
   "cell_type": "markdown",
   "metadata": {},
   "source": [
    "36.สร้าง distribution plot ของผลต่างระหว่าง y_test กับ predicted results และอธิบายความหมาย"
   ]
  },
  {
   "cell_type": "code",
   "execution_count": 132,
   "metadata": {},
   "outputs": [
    {
     "data": {
      "text/plain": [
       "<matplotlib.axes._subplots.AxesSubplot at 0x1bb4a927688>"
      ]
     },
     "execution_count": 132,
     "metadata": {},
     "output_type": "execute_result"
    },
    {
     "data": {
      "image/png": "[encoded data removed]",
      "text/plain": [
       "<Figure size 720x576 with 1 Axes>"
      ]
     },
     "metadata": {
      "needs_background": "light"
     },
     "output_type": "display_data"
    }
   ],
   "source": [
    "plt.figure(figsize = (10,8))\n",
    "sns.distplot((y_test_lm - predicted_lm),bins=40)\n",
    "#ยิ่งใกล้ 0 ยิ่งดีเพราะ มันคือความต่างกันระหว่างค่า test กับ predict"
   ]
  },
  {
   "cell_type": "markdown",
   "metadata": {},
   "source": [
    "37.สร้าง scatter plot และ prediction line ของ simple linear regression"
   ]
  },
  {
   "cell_type": "code",
   "execution_count": 133,
   "metadata": {},
   "outputs": [
    {
     "data": {
      "text/plain": [
       "Text(0, 0.5, 'Item_Outlet_Sales')"
      ]
     },
     "execution_count": 133,
     "metadata": {},
     "output_type": "execute_result"
    },
    {
     "data": {
      "image/png": "[encoded data removed]",
      "text/plain": [
       "<Figure size 720x576 with 1 Axes>"
      ]
     },
     "metadata": {
      "needs_background": "light"
     },
     "output_type": "display_data"
    }
   ],
   "source": [
    "plt.figure(figsize = (10,8))\n",
    "plt.scatter(x_test_lm,y_test_lm,color = 'blue', label = 'data')\n",
    "plt.plot(x_test_lm,predicted_lm ,color = 'red' , label = 'predicted Regression')\n",
    "plt.legend()\n",
    "plt.xlabel('Item_MRP')\n",
    "plt.ylabel('Item_Outlet_Sales')"
   ]
  },
  {
   "cell_type": "markdown",
   "metadata": {},
   "source": [
    "38.สร้างโมเดลแบบ Support Vector Regression แบบ rbf โดยใช้ Item_MRP เป็น independent variable เพียงตัวเดียว (ทำข้อ 39 ก่อน)"
   ]
  },
  {
   "cell_type": "markdown",
   "metadata": {},
   "source": [
    "39.ใช้ Standard Scaler ในการทำ feature scaling ทั้งแกน X และ Y"
   ]
  },
  {
   "cell_type": "code",
   "execution_count": 134,
   "metadata": {},
   "outputs": [],
   "source": [
    "from sklearn.svm import SVR"
   ]
  },
  {
   "cell_type": "code",
   "execution_count": 135,
   "metadata": {},
   "outputs": [],
   "source": [
    "sc_x_SVR = StandardScaler()\n",
    "sc_y_SVR = StandardScaler()"
   ]
  },
  {
   "cell_type": "code",
   "execution_count": 136,
   "metadata": {},
   "outputs": [],
   "source": [
    "x_Item_MRP =  np.array(df['Item_MRP']).reshape(-1,1)\n",
    "y_Item_Outlet_Sales = np.array(df['Item_Outlet_Sales']).reshape(-1,1)"
   ]
  },
  {
   "cell_type": "code",
   "execution_count": 137,
   "metadata": {},
   "outputs": [],
   "source": [
    "sc_x = sc_x_SVR.fit_transform(x_Item_MRP)\n",
    "sc_y = sc_y_SVR.fit_transform(y_Item_Outlet_Sales)"
   ]
  },
  {
   "cell_type": "code",
   "execution_count": 138,
   "metadata": {},
   "outputs": [],
   "source": [
    "x_train_SVR,x_test_SVR,y_train_SVR,y_test_SVR = train_test_split(sc_x,sc_y,test_size=0.2,random_state=100)"
   ]
  },
  {
   "cell_type": "code",
   "execution_count": 139,
   "metadata": {},
   "outputs": [
    {
     "name": "stderr",
     "output_type": "stream",
     "text": [
      "C:\\Users\\acer\\Anaconda3\\lib\\site-packages\\sklearn\\utils\\validation.py:760: DataConversionWarning: A column-vector y was passed when a 1d array was expected. Please change the shape of y to (n_samples, ), for example using ravel().\n",
      "  y = column_or_1d(y, warn=True)\n"
     ]
    },
    {
     "data": {
      "text/plain": [
       "SVR(C=1.0, cache_size=200, coef0=0.0, degree=3, epsilon=0.1, gamma='scale',\n",
       "    kernel='rbf', max_iter=-1, shrinking=True, tol=0.001, verbose=False)"
      ]
     },
     "execution_count": 139,
     "metadata": {},
     "output_type": "execute_result"
    }
   ],
   "source": [
    "regressor_rbf = SVR(kernel = 'rbf')\n",
    "regressor_rbf.fit(x_train_SVR,y_train_SVR)"
   ]
  },
  {
   "cell_type": "code",
   "execution_count": 140,
   "metadata": {},
   "outputs": [],
   "source": [
    "predicted_rbf = regressor_rbf.predict(x_test_SVR)"
   ]
  },
  {
   "cell_type": "code",
   "execution_count": 141,
   "metadata": {},
   "outputs": [],
   "source": [
    "predicted_rbf = sc_y_SVR.inverse_transform(predicted_rbf)\n",
    "y_test_SVR = sc_y_SVR.inverse_transform(y_test_SVR)"
   ]
  },
  {
   "cell_type": "markdown",
   "metadata": {},
   "source": [
    "40.ทดสอบโมเดลวัดค่า MAE, MSE, RMSE และ R2"
   ]
  },
  {
   "cell_type": "code",
   "execution_count": 142,
   "metadata": {},
   "outputs": [
    {
     "name": "stdout",
     "output_type": "stream",
     "text": [
      "MAE RBF: 1046.6934628624535\n",
      "MSE RBF: 2039786.3791517299\n",
      "RMSE RBF: 1428.2109014958994\n",
      "R2: 0.30862226729127673\n"
     ]
    }
   ],
   "source": [
    "print('MAE RBF:',metrics.mean_absolute_error(y_test_SVR,predicted_rbf))\n",
    "print('MSE RBF:',metrics.mean_squared_error(y_test_SVR, predicted_rbf))\n",
    "print('RMSE RBF:',np.sqrt(metrics.mean_squared_error(y_test_SVR, predicted_rbf)))\n",
    "print('R2:',r2_score(y_test_SVR, predicted_rbf))"
   ]
  },
  {
   "cell_type": "markdown",
   "metadata": {},
   "source": [
    "41.สร้าง distribution plot ของผลต่างระหว่าง y_test กับ predicted results และอธิบายความหมาย"
   ]
  },
  {
   "cell_type": "code",
   "execution_count": 143,
   "metadata": {},
   "outputs": [
    {
     "data": {
      "text/plain": [
       "<matplotlib.axes._subplots.AxesSubplot at 0x1bb4aa92a08>"
      ]
     },
     "execution_count": 143,
     "metadata": {},
     "output_type": "execute_result"
    },
    {
     "data": {
      "image/png": "[encoded data removed]",
      "text/plain": [
       "<Figure size 720x576 with 1 Axes>"
      ]
     },
     "metadata": {
      "needs_background": "light"
     },
     "output_type": "display_data"
    }
   ],
   "source": [
    "plt.figure(figsize = (10,8))\n",
    "sns.distplot((y_test_SVR - predicted_rbf),bins=40)\n",
    "#ยิ่งใกล้ 0 ยิ่งดีเพราะ มันคือความต่างกันระหว่างค่า test กับ predict"
   ]
  },
  {
   "cell_type": "markdown",
   "metadata": {},
   "source": [
    "42.สร้าง scatter plot และ prediction line ของ RBF support vector regressor"
   ]
  },
  {
   "cell_type": "code",
   "execution_count": 144,
   "metadata": {},
   "outputs": [
    {
     "data": {
      "text/plain": [
       "Text(0.5, 1.0, 'RBF')"
      ]
     },
     "execution_count": 144,
     "metadata": {},
     "output_type": "execute_result"
    },
    {
     "data": {
      "image/png": "[encoded data removed]",
      "text/plain": [
       "<Figure size 720x576 with 1 Axes>"
      ]
     },
     "metadata": {
      "needs_background": "light"
     },
     "output_type": "display_data"
    }
   ],
   "source": [
    "plt.figure(figsize = (10,8))\n",
    "plt.scatter(sc_y_SVR.inverse_transform(x_test_SVR),y_test_SVR,color = 'blue', label = 'data')\n",
    "plt.plot(np.sort(sc_y_SVR.inverse_transform(x_test_SVR),axis = 0),np.sort(predicted_rbf,axis = 0),color = 'red' , label = 'predicted Regression')\n",
    "plt.legend()\n",
    "plt.xlabel('Item_MRP')\n",
    "plt.ylabel('Item_Outlet_Sales')\n",
    "plt.title('RBF')"
   ]
  },
  {
   "cell_type": "markdown",
   "metadata": {},
   "source": [
    "43.สร้างโมเดลแบบ Multiple Linear Regression โดยใช้ทุก features (ที่เหลืออยู่)"
   ]
  },
  {
   "cell_type": "code",
   "execution_count": 145,
   "metadata": {},
   "outputs": [],
   "source": [
    "x = df.drop(['Item_Outlet_Sales'],axis=1)\n",
    "y = df['Item_Outlet_Sales']"
   ]
  },
  {
   "cell_type": "code",
   "execution_count": 146,
   "metadata": {},
   "outputs": [],
   "source": [
    "x_train_lm_2,x_test_lm_2,y_train_lm_2,y_test_lm_2 = train_test_split(x,y,test_size=0.2,random_state=100)"
   ]
  },
  {
   "cell_type": "code",
   "execution_count": 147,
   "metadata": {},
   "outputs": [
    {
     "data": {
      "text/plain": [
       "LinearRegression(copy_X=True, fit_intercept=True, n_jobs=None, normalize=False)"
      ]
     },
     "execution_count": 147,
     "metadata": {},
     "output_type": "execute_result"
    }
   ],
   "source": [
    "lm_2 = LinearRegression()\n",
    "lm_2.fit(x_train_lm_2,y_train_lm_2)"
   ]
  },
  {
   "cell_type": "code",
   "execution_count": 148,
   "metadata": {},
   "outputs": [],
   "source": [
    "predicted_lm_2 = lm_2.predict(x_test_lm_2)"
   ]
  },
  {
   "cell_type": "markdown",
   "metadata": {},
   "source": [
    "44.แสดงค่า intercept และ coefficient ของทั้งหมด"
   ]
  },
  {
   "cell_type": "code",
   "execution_count": 149,
   "metadata": {},
   "outputs": [
    {
     "name": "stdout",
     "output_type": "stream",
     "text": [
      "-887.6050650227708\n",
      "[ 1.01770307e-01 -2.18572648e+02  1.55681884e+01  5.79776706e+01\n",
      " -3.45380366e+01  8.85387351e+00  4.12198227e+00 -3.84603243e+01\n",
      " -4.07907938e+01 -4.03139497e-01  1.96189949e+00  8.67179119e+00\n",
      " -4.33537857e+01 -2.51190493e+00  4.57565128e+01  2.80538235e+02\n",
      " -2.07468049e+01 -3.73663078e+01 -1.17495136e+01  9.90993684e+01\n",
      "  2.59041986e+01  1.40782454e+02 -6.99386350e+02  1.07207749e+03\n",
      "  2.17702558e+02 -4.69898188e+01  2.53621450e+02  1.28413108e+02\n",
      "  9.90993684e+01  2.53621450e+02 -1.19122445e+03  1.28413108e+02\n",
      " -4.69898188e+01  2.17702558e+02  2.59041986e+01  1.40782454e+02\n",
      "  1.28962974e+02 -2.28062342e+02  1.96616938e+02  1.20734855e+02\n",
      "  6.77750864e+02  1.40782454e+02  1.07207749e+03]\n"
     ]
    }
   ],
   "source": [
    "print(lm_2.intercept_)\n",
    "print(lm_2.coef_)"
   ]
  },
  {
   "cell_type": "markdown",
   "metadata": {},
   "source": [
    "45.ทดสอบโมเดลวัดค่า MAE, MSE, RMSE และ R2"
   ]
  },
  {
   "cell_type": "code",
   "execution_count": 150,
   "metadata": {},
   "outputs": [
    {
     "name": "stdout",
     "output_type": "stream",
     "text": [
      "MAE : 858.0698061527029\n",
      "MSE : 1328524.6731228055\n",
      "RMSE : 1152.616446665067\n",
      "R2: 0.5497016816372616\n"
     ]
    }
   ],
   "source": [
    "print('MAE :',metrics.mean_absolute_error(y_test_lm_2,predicted_lm_2))\n",
    "print('MSE :',metrics.mean_squared_error(y_test_lm_2, predicted_lm_2))\n",
    "print('RMSE :',np.sqrt(metrics.mean_squared_error(y_test_lm_2, predicted_lm_2)))\n",
    "print('R2:',r2_score(y_test_lm_2, predicted_lm_2))"
   ]
  },
  {
   "cell_type": "markdown",
   "metadata": {},
   "source": [
    "46.สร้าง distribution plot ของผลต่างระหว่าง y_test กับ predicted results และอธิบายความหมาย"
   ]
  },
  {
   "cell_type": "code",
   "execution_count": 151,
   "metadata": {},
   "outputs": [
    {
     "data": {
      "text/plain": [
       "<matplotlib.axes._subplots.AxesSubplot at 0x1bb5002c408>"
      ]
     },
     "execution_count": 151,
     "metadata": {},
     "output_type": "execute_result"
    },
    {
     "data": {
      "image/png": "[encoded data removed]",
      "text/plain": [
       "<Figure size 720x576 with 1 Axes>"
      ]
     },
     "metadata": {
      "needs_background": "light"
     },
     "output_type": "display_data"
    }
   ],
   "source": [
    "plt.figure(figsize = (10,8))\n",
    "sns.distplot((y_test_lm_2 - predicted_lm_2),bins=40)"
   ]
  },
  {
   "cell_type": "markdown",
   "metadata": {},
   "source": [
    "47.สร้าง dataframe เปรียบเทียบ ยอดขายจริงกับการทำนาย"
   ]
  },
  {
   "cell_type": "code",
   "execution_count": 152,
   "metadata": {},
   "outputs": [
    {
     "data": {
      "text/html": [
       "<div>\n",
       "<style scoped>\n",
       "    .dataframe tbody tr th:only-of-type {\n",
       "        vertical-align: middle;\n",
       "    }\n",
       "\n",
       "    .dataframe tbody tr th {\n",
       "        vertical-align: top;\n",
       "    }\n",
       "\n",
       "    .dataframe thead th {\n",
       "        text-align: right;\n",
       "    }\n",
       "</style>\n",
       "<table border=\"1\" class=\"dataframe\">\n",
       "  <thead>\n",
       "    <tr style=\"text-align: right;\">\n",
       "      <th></th>\n",
       "      <th>test_data</th>\n",
       "      <th>predicted_data</th>\n",
       "      <th>Difference</th>\n",
       "    </tr>\n",
       "  </thead>\n",
       "  <tbody>\n",
       "    <tr>\n",
       "      <th>3454</th>\n",
       "      <td>4426.2384</td>\n",
       "      <td>2935.400107</td>\n",
       "      <td>1490.838293</td>\n",
       "    </tr>\n",
       "    <tr>\n",
       "      <th>3386</th>\n",
       "      <td>4845.0266</td>\n",
       "      <td>4155.491924</td>\n",
       "      <td>689.534676</td>\n",
       "    </tr>\n",
       "    <tr>\n",
       "      <th>235</th>\n",
       "      <td>2293.0152</td>\n",
       "      <td>4502.857947</td>\n",
       "      <td>-2209.842747</td>\n",
       "    </tr>\n",
       "    <tr>\n",
       "      <th>7201</th>\n",
       "      <td>1065.2800</td>\n",
       "      <td>1850.032107</td>\n",
       "      <td>-784.752107</td>\n",
       "    </tr>\n",
       "    <tr>\n",
       "      <th>7782</th>\n",
       "      <td>2345.6134</td>\n",
       "      <td>2926.014274</td>\n",
       "      <td>-580.400874</td>\n",
       "    </tr>\n",
       "    <tr>\n",
       "      <th>...</th>\n",
       "      <td>...</td>\n",
       "      <td>...</td>\n",
       "      <td>...</td>\n",
       "    </tr>\n",
       "    <tr>\n",
       "      <th>1994</th>\n",
       "      <td>3207.8244</td>\n",
       "      <td>2471.438057</td>\n",
       "      <td>736.386343</td>\n",
       "    </tr>\n",
       "    <tr>\n",
       "      <th>6557</th>\n",
       "      <td>2263.7200</td>\n",
       "      <td>1494.894554</td>\n",
       "      <td>768.825446</td>\n",
       "    </tr>\n",
       "    <tr>\n",
       "      <th>3875</th>\n",
       "      <td>1906.8512</td>\n",
       "      <td>1896.317031</td>\n",
       "      <td>10.534169</td>\n",
       "    </tr>\n",
       "    <tr>\n",
       "      <th>7552</th>\n",
       "      <td>2773.0570</td>\n",
       "      <td>2756.001067</td>\n",
       "      <td>17.055933</td>\n",
       "    </tr>\n",
       "    <tr>\n",
       "      <th>482</th>\n",
       "      <td>3327.6684</td>\n",
       "      <td>3094.916033</td>\n",
       "      <td>232.752367</td>\n",
       "    </tr>\n",
       "  </tbody>\n",
       "</table>\n",
       "<p>1705 rows × 3 columns</p>\n",
       "</div>"
      ],
      "text/plain": [
       "      test_data  predicted_data   Difference\n",
       "3454  4426.2384     2935.400107  1490.838293\n",
       "3386  4845.0266     4155.491924   689.534676\n",
       "235   2293.0152     4502.857947 -2209.842747\n",
       "7201  1065.2800     1850.032107  -784.752107\n",
       "7782  2345.6134     2926.014274  -580.400874\n",
       "...         ...             ...          ...\n",
       "1994  3207.8244     2471.438057   736.386343\n",
       "6557  2263.7200     1494.894554   768.825446\n",
       "3875  1906.8512     1896.317031    10.534169\n",
       "7552  2773.0570     2756.001067    17.055933\n",
       "482   3327.6684     3094.916033   232.752367\n",
       "\n",
       "[1705 rows x 3 columns]"
      ]
     },
     "execution_count": 152,
     "metadata": {},
     "output_type": "execute_result"
    }
   ],
   "source": [
    "df_compare = pd.DataFrame({'test_data': y_test_lm_2, 'predicted_data': predicted_lm_2,'Difference':y_test_lm_2 - predicted_lm_2})\n",
    "df_compare"
   ]
  },
  {
   "cell_type": "markdown",
   "metadata": {},
   "source": [
    "48.หา Correlation จาก dataframe ข้อ 47"
   ]
  },
  {
   "cell_type": "code",
   "execution_count": 153,
   "metadata": {},
   "outputs": [
    {
     "data": {
      "text/html": [
       "<div>\n",
       "<style scoped>\n",
       "    .dataframe tbody tr th:only-of-type {\n",
       "        vertical-align: middle;\n",
       "    }\n",
       "\n",
       "    .dataframe tbody tr th {\n",
       "        vertical-align: top;\n",
       "    }\n",
       "\n",
       "    .dataframe thead th {\n",
       "        text-align: right;\n",
       "    }\n",
       "</style>\n",
       "<table border=\"1\" class=\"dataframe\">\n",
       "  <thead>\n",
       "    <tr style=\"text-align: right;\">\n",
       "      <th></th>\n",
       "      <th>test_data</th>\n",
       "      <th>predicted_data</th>\n",
       "      <th>Difference</th>\n",
       "    </tr>\n",
       "  </thead>\n",
       "  <tbody>\n",
       "    <tr>\n",
       "      <th>test_data</th>\n",
       "      <td>1.000000</td>\n",
       "      <td>0.741526</td>\n",
       "      <td>0.682469</td>\n",
       "    </tr>\n",
       "    <tr>\n",
       "      <th>predicted_data</th>\n",
       "      <td>0.741526</td>\n",
       "      <td>1.000000</td>\n",
       "      <td>0.015680</td>\n",
       "    </tr>\n",
       "    <tr>\n",
       "      <th>Difference</th>\n",
       "      <td>0.682469</td>\n",
       "      <td>0.015680</td>\n",
       "      <td>1.000000</td>\n",
       "    </tr>\n",
       "  </tbody>\n",
       "</table>\n",
       "</div>"
      ],
      "text/plain": [
       "                test_data  predicted_data  Difference\n",
       "test_data        1.000000        0.741526    0.682469\n",
       "predicted_data   0.741526        1.000000    0.015680\n",
       "Difference       0.682469        0.015680    1.000000"
      ]
     },
     "execution_count": 153,
     "metadata": {},
     "output_type": "execute_result"
    }
   ],
   "source": [
    "df_compare.corr()"
   ]
  },
  {
   "cell_type": "markdown",
   "metadata": {},
   "source": [
    "49.สร้างโมเดลแบบ Support Vector Regression แบบ rbf โดยใช้ทุก features และใช้ Standard Scaler กับทั้ง dependent และ independent variables"
   ]
  },
  {
   "cell_type": "code",
   "execution_count": 154,
   "metadata": {},
   "outputs": [],
   "source": [
    "sc_x_SVR_2 = StandardScaler()\n",
    "sc_y_SVR_2 = StandardScaler()"
   ]
  },
  {
   "cell_type": "code",
   "execution_count": 155,
   "metadata": {},
   "outputs": [],
   "source": [
    "x = df.drop(['Item_Outlet_Sales'],axis=1)\n",
    "y = np.array(df['Item_Outlet_Sales']).reshape(-1,1)"
   ]
  },
  {
   "cell_type": "code",
   "execution_count": 156,
   "metadata": {},
   "outputs": [],
   "source": [
    "x = sc_x_SVR_2.fit_transform(x)\n",
    "y = sc_y_SVR_2.fit_transform(y)"
   ]
  },
  {
   "cell_type": "code",
   "execution_count": 157,
   "metadata": {},
   "outputs": [],
   "source": [
    "sc_x_train_rbf_2,sc_x_test_rbf_2,sc_y_train_rbf_2,sc_y_test_rbf_2 = train_test_split(x,y,test_size=0.2,random_state=100)"
   ]
  },
  {
   "cell_type": "code",
   "execution_count": 158,
   "metadata": {},
   "outputs": [
    {
     "name": "stderr",
     "output_type": "stream",
     "text": [
      "C:\\Users\\acer\\Anaconda3\\lib\\site-packages\\sklearn\\utils\\validation.py:760: DataConversionWarning: A column-vector y was passed when a 1d array was expected. Please change the shape of y to (n_samples, ), for example using ravel().\n",
      "  y = column_or_1d(y, warn=True)\n"
     ]
    },
    {
     "data": {
      "text/plain": [
       "SVR(C=1.0, cache_size=200, coef0=0.0, degree=3, epsilon=0.1, gamma='scale',\n",
       "    kernel='rbf', max_iter=-1, shrinking=True, tol=0.001, verbose=False)"
      ]
     },
     "execution_count": 158,
     "metadata": {},
     "output_type": "execute_result"
    }
   ],
   "source": [
    "regressor_rbf_2 = SVR(kernel = 'rbf')\n",
    "regressor_rbf_2.fit(sc_x_train_rbf_2,sc_y_train_rbf_2)"
   ]
  },
  {
   "cell_type": "code",
   "execution_count": 159,
   "metadata": {},
   "outputs": [],
   "source": [
    "predicted_rbf_2 = regressor_rbf_2.predict(sc_x_test_rbf_2)\n",
    "predicted_rbf_2 = sc_y_SVR_2.inverse_transform(predicted_rbf_2)\n",
    "y_test_rbf_2 = sc_y_SVR_2.inverse_transform(sc_y_test_rbf_2)"
   ]
  },
  {
   "cell_type": "markdown",
   "metadata": {},
   "source": [
    "50.ทดสอบโมเดลวัดค่า MAE, MSE, RMSE และ R2"
   ]
  },
  {
   "cell_type": "code",
   "execution_count": 160,
   "metadata": {},
   "outputs": [
    {
     "name": "stdout",
     "output_type": "stream",
     "text": [
      "MAE RBF: 783.6850376959969\n",
      "MSE RBF: 1253740.4220901637\n",
      "RMSE RBF: 1119.705506858908\n",
      "R2: 0.5750495153367737\n"
     ]
    }
   ],
   "source": [
    "print('MAE RBF:',metrics.mean_absolute_error(y_test_rbf_2,predicted_rbf_2))\n",
    "print('MSE RBF:',metrics.mean_squared_error(y_test_rbf_2, predicted_rbf_2))\n",
    "print('RMSE RBF:',np.sqrt(metrics.mean_squared_error(y_test_rbf_2, predicted_rbf_2)))\n",
    "print('R2:',r2_score(y_test_rbf_2, predicted_rbf_2))"
   ]
  },
  {
   "cell_type": "markdown",
   "metadata": {},
   "source": [
    "51.สร้าง distribution plot ของผลต่างระหว่าง y_test กับ predicted results และอธิบายความหมาย"
   ]
  },
  {
   "cell_type": "code",
   "execution_count": 161,
   "metadata": {},
   "outputs": [
    {
     "data": {
      "text/plain": [
       "<matplotlib.axes._subplots.AxesSubplot at 0x1bb4a930588>"
      ]
     },
     "execution_count": 161,
     "metadata": {},
     "output_type": "execute_result"
    },
    {
     "data": {
      "image/png": "[encoded data removed]",
      "text/plain": [
       "<Figure size 720x576 with 1 Axes>"
      ]
     },
     "metadata": {
      "needs_background": "light"
     },
     "output_type": "display_data"
    }
   ],
   "source": [
    "plt.figure(figsize = (10,8))\n",
    "sns.distplot((y_test_rbf_2 - predicted_rbf_2),bins=40)"
   ]
  },
  {
   "cell_type": "markdown",
   "metadata": {},
   "source": [
    "52.สร้าง dataframe เปรียบเทียบ ยอดขายจริงกับการทำนาย"
   ]
  },
  {
   "cell_type": "code",
   "execution_count": 162,
   "metadata": {},
   "outputs": [
    {
     "data": {
      "text/html": [
       "<div>\n",
       "<style scoped>\n",
       "    .dataframe tbody tr th:only-of-type {\n",
       "        vertical-align: middle;\n",
       "    }\n",
       "\n",
       "    .dataframe tbody tr th {\n",
       "        vertical-align: top;\n",
       "    }\n",
       "\n",
       "    .dataframe thead th {\n",
       "        text-align: right;\n",
       "    }\n",
       "</style>\n",
       "<table border=\"1\" class=\"dataframe\">\n",
       "  <thead>\n",
       "    <tr style=\"text-align: right;\">\n",
       "      <th></th>\n",
       "      <th>test_data</th>\n",
       "      <th>predicted_data</th>\n",
       "      <th>Difference</th>\n",
       "    </tr>\n",
       "  </thead>\n",
       "  <tbody>\n",
       "    <tr>\n",
       "      <th>0</th>\n",
       "      <td>4426.2384</td>\n",
       "      <td>2798.881510</td>\n",
       "      <td>1627.356890</td>\n",
       "    </tr>\n",
       "    <tr>\n",
       "      <th>1</th>\n",
       "      <td>4845.0266</td>\n",
       "      <td>4510.029545</td>\n",
       "      <td>334.997055</td>\n",
       "    </tr>\n",
       "    <tr>\n",
       "      <th>2</th>\n",
       "      <td>2293.0152</td>\n",
       "      <td>3793.169386</td>\n",
       "      <td>-1500.154186</td>\n",
       "    </tr>\n",
       "    <tr>\n",
       "      <th>3</th>\n",
       "      <td>1065.2800</td>\n",
       "      <td>1450.185523</td>\n",
       "      <td>-384.905523</td>\n",
       "    </tr>\n",
       "    <tr>\n",
       "      <th>4</th>\n",
       "      <td>2345.6134</td>\n",
       "      <td>2833.814757</td>\n",
       "      <td>-488.201357</td>\n",
       "    </tr>\n",
       "    <tr>\n",
       "      <th>...</th>\n",
       "      <td>...</td>\n",
       "      <td>...</td>\n",
       "      <td>...</td>\n",
       "    </tr>\n",
       "    <tr>\n",
       "      <th>1700</th>\n",
       "      <td>3207.8244</td>\n",
       "      <td>2481.997912</td>\n",
       "      <td>725.826488</td>\n",
       "    </tr>\n",
       "    <tr>\n",
       "      <th>1701</th>\n",
       "      <td>2263.7200</td>\n",
       "      <td>1591.042110</td>\n",
       "      <td>672.677890</td>\n",
       "    </tr>\n",
       "    <tr>\n",
       "      <th>1702</th>\n",
       "      <td>1906.8512</td>\n",
       "      <td>1786.100418</td>\n",
       "      <td>120.750782</td>\n",
       "    </tr>\n",
       "    <tr>\n",
       "      <th>1703</th>\n",
       "      <td>2773.0570</td>\n",
       "      <td>2887.448477</td>\n",
       "      <td>-114.391477</td>\n",
       "    </tr>\n",
       "    <tr>\n",
       "      <th>1704</th>\n",
       "      <td>3327.6684</td>\n",
       "      <td>2921.756867</td>\n",
       "      <td>405.911533</td>\n",
       "    </tr>\n",
       "  </tbody>\n",
       "</table>\n",
       "<p>1705 rows × 3 columns</p>\n",
       "</div>"
      ],
      "text/plain": [
       "      test_data  predicted_data   Difference\n",
       "0     4426.2384     2798.881510  1627.356890\n",
       "1     4845.0266     4510.029545   334.997055\n",
       "2     2293.0152     3793.169386 -1500.154186\n",
       "3     1065.2800     1450.185523  -384.905523\n",
       "4     2345.6134     2833.814757  -488.201357\n",
       "...         ...             ...          ...\n",
       "1700  3207.8244     2481.997912   725.826488\n",
       "1701  2263.7200     1591.042110   672.677890\n",
       "1702  1906.8512     1786.100418   120.750782\n",
       "1703  2773.0570     2887.448477  -114.391477\n",
       "1704  3327.6684     2921.756867   405.911533\n",
       "\n",
       "[1705 rows x 3 columns]"
      ]
     },
     "execution_count": 162,
     "metadata": {},
     "output_type": "execute_result"
    }
   ],
   "source": [
    "df_compare_2 = pd.DataFrame({'test_data': y_test_rbf_2.ravel() , 'predicted_data': predicted_rbf_2,'Difference':y_test_rbf_2.ravel() - predicted_rbf_2})\n",
    "df_compare_2"
   ]
  },
  {
   "cell_type": "markdown",
   "metadata": {},
   "source": [
    "53.หา Correlation จาก dataframe ข้อ 52"
   ]
  },
  {
   "cell_type": "code",
   "execution_count": 163,
   "metadata": {},
   "outputs": [
    {
     "data": {
      "text/html": [
       "<div>\n",
       "<style scoped>\n",
       "    .dataframe tbody tr th:only-of-type {\n",
       "        vertical-align: middle;\n",
       "    }\n",
       "\n",
       "    .dataframe tbody tr th {\n",
       "        vertical-align: top;\n",
       "    }\n",
       "\n",
       "    .dataframe thead th {\n",
       "        text-align: right;\n",
       "    }\n",
       "</style>\n",
       "<table border=\"1\" class=\"dataframe\">\n",
       "  <thead>\n",
       "    <tr style=\"text-align: right;\">\n",
       "      <th></th>\n",
       "      <th>test_data</th>\n",
       "      <th>predicted_data</th>\n",
       "      <th>Difference</th>\n",
       "    </tr>\n",
       "  </thead>\n",
       "  <tbody>\n",
       "    <tr>\n",
       "      <th>test_data</th>\n",
       "      <td>1.000000</td>\n",
       "      <td>0.760815</td>\n",
       "      <td>0.679225</td>\n",
       "    </tr>\n",
       "    <tr>\n",
       "      <th>predicted_data</th>\n",
       "      <td>0.760815</td>\n",
       "      <td>1.000000</td>\n",
       "      <td>0.040467</td>\n",
       "    </tr>\n",
       "    <tr>\n",
       "      <th>Difference</th>\n",
       "      <td>0.679225</td>\n",
       "      <td>0.040467</td>\n",
       "      <td>1.000000</td>\n",
       "    </tr>\n",
       "  </tbody>\n",
       "</table>\n",
       "</div>"
      ],
      "text/plain": [
       "                test_data  predicted_data  Difference\n",
       "test_data        1.000000        0.760815    0.679225\n",
       "predicted_data   0.760815        1.000000    0.040467\n",
       "Difference       0.679225        0.040467    1.000000"
      ]
     },
     "execution_count": 163,
     "metadata": {},
     "output_type": "execute_result"
    }
   ],
   "source": [
    "df_compare_2.corr()"
   ]
  },
  {
   "cell_type": "markdown",
   "metadata": {},
   "source": [
    "54.สร้างโมเดลแบบ Decision Tree Regression โดยใช้ทุก features และใช้ Standard Scaler กับทั้ง dependent และ independent variables"
   ]
  },
  {
   "cell_type": "code",
   "execution_count": 164,
   "metadata": {},
   "outputs": [],
   "source": [
    "sc_x_dt = StandardScaler()\n",
    "sc_y_dt = StandardScaler()"
   ]
  },
  {
   "cell_type": "code",
   "execution_count": 165,
   "metadata": {},
   "outputs": [],
   "source": [
    "x = df.drop(['Item_Outlet_Sales'],axis=1)\n",
    "y = np.array(df['Item_Outlet_Sales']).reshape(-1,1)"
   ]
  },
  {
   "cell_type": "code",
   "execution_count": 166,
   "metadata": {},
   "outputs": [],
   "source": [
    "x = sc_x_dt.fit_transform(x)\n",
    "y = sc_y_dt.fit_transform(y)"
   ]
  },
  {
   "cell_type": "code",
   "execution_count": 167,
   "metadata": {},
   "outputs": [],
   "source": [
    "sc_x_train_DT,sc_x_test_DT,sc_y_train_DT,sc_y_test_DT = train_test_split(x,y,test_size=0.2,random_state=100)"
   ]
  },
  {
   "cell_type": "code",
   "execution_count": 168,
   "metadata": {},
   "outputs": [
    {
     "data": {
      "text/plain": [
       "DecisionTreeRegressor(ccp_alpha=0.0, criterion='mse', max_depth=None,\n",
       "                      max_features=None, max_leaf_nodes=None,\n",
       "                      min_impurity_decrease=0.0, min_impurity_split=None,\n",
       "                      min_samples_leaf=1, min_samples_split=2,\n",
       "                      min_weight_fraction_leaf=0.0, presort='deprecated',\n",
       "                      random_state=None, splitter='best')"
      ]
     },
     "execution_count": 168,
     "metadata": {},
     "output_type": "execute_result"
    }
   ],
   "source": [
    "from sklearn.tree import DecisionTreeRegressor\n",
    "dt = DecisionTreeRegressor()\n",
    "dt.fit(sc_x_train_DT,sc_y_train_DT)"
   ]
  },
  {
   "cell_type": "code",
   "execution_count": 169,
   "metadata": {},
   "outputs": [],
   "source": [
    "predict_dt = dt.predict(sc_x_test_DT)\n",
    "predict_dt = sc_y_dt.inverse_transform(predict_dt)\n",
    "y_test_DT = sc_y_dt.inverse_transform(sc_y_test_DT)"
   ]
  },
  {
   "cell_type": "markdown",
   "metadata": {},
   "source": [
    "55.ทดสอบโมเดลวัดค่า MAE, MSE, RMSE และ R2"
   ]
  },
  {
   "cell_type": "code",
   "execution_count": 170,
   "metadata": {},
   "outputs": [
    {
     "name": "stdout",
     "output_type": "stream",
     "text": [
      "MAE : 1111.823715483871\n",
      "MSE : 2567178.4803717057\n",
      "RMSE : 1602.2417047286299\n",
      "R2: 0.12986474693682126\n"
     ]
    }
   ],
   "source": [
    "print('MAE :',metrics.mean_absolute_error(y_test_DT,predict_dt))\n",
    "print('MSE :',metrics.mean_squared_error(y_test_DT, predict_dt))\n",
    "print('RMSE :',np.sqrt(metrics.mean_squared_error(y_test_DT, predict_dt)))\n",
    "print('R2:',r2_score(y_test_DT, predict_dt))"
   ]
  },
  {
   "cell_type": "markdown",
   "metadata": {},
   "source": [
    "56.สร้าง distribution plot ของผลต่างระหว่าง y_test กับ predicted results"
   ]
  },
  {
   "cell_type": "code",
   "execution_count": 171,
   "metadata": {},
   "outputs": [
    {
     "data": {
      "text/plain": [
       "<matplotlib.axes._subplots.AxesSubplot at 0x1bb50146408>"
      ]
     },
     "execution_count": 171,
     "metadata": {},
     "output_type": "execute_result"
    },
    {
     "data": {
      "image/png": "[encoded data removed]",
      "text/plain": [
       "<Figure size 720x576 with 1 Axes>"
      ]
     },
     "metadata": {
      "needs_background": "light"
     },
     "output_type": "display_data"
    }
   ],
   "source": [
    "plt.figure(figsize = (10,8))\n",
    "sns.distplot((y_test_DT - predict_dt),bins=40)"
   ]
  },
  {
   "cell_type": "markdown",
   "metadata": {},
   "source": [
    "57.สร้าง dataframe เปรียบเทียบ ยอดขายจริงกับการทำนาย"
   ]
  },
  {
   "cell_type": "code",
   "execution_count": 172,
   "metadata": {},
   "outputs": [
    {
     "data": {
      "text/html": [
       "<div>\n",
       "<style scoped>\n",
       "    .dataframe tbody tr th:only-of-type {\n",
       "        vertical-align: middle;\n",
       "    }\n",
       "\n",
       "    .dataframe tbody tr th {\n",
       "        vertical-align: top;\n",
       "    }\n",
       "\n",
       "    .dataframe thead th {\n",
       "        text-align: right;\n",
       "    }\n",
       "</style>\n",
       "<table border=\"1\" class=\"dataframe\">\n",
       "  <thead>\n",
       "    <tr style=\"text-align: right;\">\n",
       "      <th></th>\n",
       "      <th>test_data</th>\n",
       "      <th>predicted_data</th>\n",
       "      <th>Difference</th>\n",
       "    </tr>\n",
       "  </thead>\n",
       "  <tbody>\n",
       "    <tr>\n",
       "      <th>0</th>\n",
       "      <td>4426.2384</td>\n",
       "      <td>4013.4424</td>\n",
       "      <td>412.7960</td>\n",
       "    </tr>\n",
       "    <tr>\n",
       "      <th>1</th>\n",
       "      <td>4845.0266</td>\n",
       "      <td>5369.0112</td>\n",
       "      <td>-523.9846</td>\n",
       "    </tr>\n",
       "    <tr>\n",
       "      <th>2</th>\n",
       "      <td>2293.0152</td>\n",
       "      <td>4633.9680</td>\n",
       "      <td>-2340.9528</td>\n",
       "    </tr>\n",
       "    <tr>\n",
       "      <th>3</th>\n",
       "      <td>1065.2800</td>\n",
       "      <td>2343.6160</td>\n",
       "      <td>-1278.3360</td>\n",
       "    </tr>\n",
       "    <tr>\n",
       "      <th>4</th>\n",
       "      <td>2345.6134</td>\n",
       "      <td>1438.1280</td>\n",
       "      <td>907.4854</td>\n",
       "    </tr>\n",
       "    <tr>\n",
       "      <th>...</th>\n",
       "      <td>...</td>\n",
       "      <td>...</td>\n",
       "      <td>...</td>\n",
       "    </tr>\n",
       "    <tr>\n",
       "      <th>1700</th>\n",
       "      <td>3207.8244</td>\n",
       "      <td>2693.8268</td>\n",
       "      <td>513.9976</td>\n",
       "    </tr>\n",
       "    <tr>\n",
       "      <th>1701</th>\n",
       "      <td>2263.7200</td>\n",
       "      <td>1775.6886</td>\n",
       "      <td>488.0314</td>\n",
       "    </tr>\n",
       "    <tr>\n",
       "      <th>1702</th>\n",
       "      <td>1906.8512</td>\n",
       "      <td>1325.6078</td>\n",
       "      <td>581.2434</td>\n",
       "    </tr>\n",
       "    <tr>\n",
       "      <th>1703</th>\n",
       "      <td>2773.0570</td>\n",
       "      <td>3588.6620</td>\n",
       "      <td>-815.6050</td>\n",
       "    </tr>\n",
       "    <tr>\n",
       "      <th>1704</th>\n",
       "      <td>3327.6684</td>\n",
       "      <td>567.2616</td>\n",
       "      <td>2760.4068</td>\n",
       "    </tr>\n",
       "  </tbody>\n",
       "</table>\n",
       "<p>1705 rows × 3 columns</p>\n",
       "</div>"
      ],
      "text/plain": [
       "      test_data  predicted_data  Difference\n",
       "0     4426.2384       4013.4424    412.7960\n",
       "1     4845.0266       5369.0112   -523.9846\n",
       "2     2293.0152       4633.9680  -2340.9528\n",
       "3     1065.2800       2343.6160  -1278.3360\n",
       "4     2345.6134       1438.1280    907.4854\n",
       "...         ...             ...         ...\n",
       "1700  3207.8244       2693.8268    513.9976\n",
       "1701  2263.7200       1775.6886    488.0314\n",
       "1702  1906.8512       1325.6078    581.2434\n",
       "1703  2773.0570       3588.6620   -815.6050\n",
       "1704  3327.6684        567.2616   2760.4068\n",
       "\n",
       "[1705 rows x 3 columns]"
      ]
     },
     "execution_count": 172,
     "metadata": {},
     "output_type": "execute_result"
    }
   ],
   "source": [
    "df_compare_3 = pd.DataFrame({'test_data': y_test_DT.ravel() , 'predicted_data': predict_dt,'Difference':y_test_DT.ravel() - predict_dt})\n",
    "df_compare_3"
   ]
  },
  {
   "cell_type": "markdown",
   "metadata": {},
   "source": [
    "58.หา Correlation จาก dataframe ข้อ 57"
   ]
  },
  {
   "cell_type": "code",
   "execution_count": 173,
   "metadata": {},
   "outputs": [
    {
     "data": {
      "text/html": [
       "<div>\n",
       "<style scoped>\n",
       "    .dataframe tbody tr th:only-of-type {\n",
       "        vertical-align: middle;\n",
       "    }\n",
       "\n",
       "    .dataframe tbody tr th {\n",
       "        vertical-align: top;\n",
       "    }\n",
       "\n",
       "    .dataframe thead th {\n",
       "        text-align: right;\n",
       "    }\n",
       "</style>\n",
       "<table border=\"1\" class=\"dataframe\">\n",
       "  <thead>\n",
       "    <tr style=\"text-align: right;\">\n",
       "      <th></th>\n",
       "      <th>test_data</th>\n",
       "      <th>predicted_data</th>\n",
       "      <th>Difference</th>\n",
       "    </tr>\n",
       "  </thead>\n",
       "  <tbody>\n",
       "    <tr>\n",
       "      <th>test_data</th>\n",
       "      <td>1.000000</td>\n",
       "      <td>0.584656</td>\n",
       "      <td>0.41730</td>\n",
       "    </tr>\n",
       "    <tr>\n",
       "      <th>predicted_data</th>\n",
       "      <td>0.584656</td>\n",
       "      <td>1.000000</td>\n",
       "      <td>-0.49329</td>\n",
       "    </tr>\n",
       "    <tr>\n",
       "      <th>Difference</th>\n",
       "      <td>0.417300</td>\n",
       "      <td>-0.493290</td>\n",
       "      <td>1.00000</td>\n",
       "    </tr>\n",
       "  </tbody>\n",
       "</table>\n",
       "</div>"
      ],
      "text/plain": [
       "                test_data  predicted_data  Difference\n",
       "test_data        1.000000        0.584656     0.41730\n",
       "predicted_data   0.584656        1.000000    -0.49329\n",
       "Difference       0.417300       -0.493290     1.00000"
      ]
     },
     "execution_count": 173,
     "metadata": {},
     "output_type": "execute_result"
    }
   ],
   "source": [
    "df_compare_3.corr()"
   ]
  },
  {
   "cell_type": "markdown",
   "metadata": {},
   "source": [
    "59.สร้างโมเดลแบบ Random Forest Regression โดยใช้ทุก features และใช้ Standard Scaler ทั้ง dependent และ independent variables"
   ]
  },
  {
   "cell_type": "code",
   "execution_count": 174,
   "metadata": {},
   "outputs": [],
   "source": [
    "sc_x_rf = StandardScaler()\n",
    "sc_y_rf = StandardScaler()"
   ]
  },
  {
   "cell_type": "code",
   "execution_count": 175,
   "metadata": {},
   "outputs": [],
   "source": [
    "x = df.drop(['Item_Outlet_Sales'],axis=1)\n",
    "y = np.array(df['Item_Outlet_Sales']).reshape(-1,1)"
   ]
  },
  {
   "cell_type": "code",
   "execution_count": 176,
   "metadata": {},
   "outputs": [],
   "source": [
    "x = sc_x_rf.fit_transform(x)\n",
    "y = sc_y_rf.fit_transform(y)"
   ]
  },
  {
   "cell_type": "code",
   "execution_count": 177,
   "metadata": {},
   "outputs": [],
   "source": [
    "sc_x_train_RF,sc_x_test_RF,sc_y_train_RF,sc_y_test_RF = train_test_split(x,y,test_size=0.2,random_state=100)"
   ]
  },
  {
   "cell_type": "code",
   "execution_count": 178,
   "metadata": {},
   "outputs": [
    {
     "name": "stderr",
     "output_type": "stream",
     "text": [
      "C:\\Users\\acer\\Anaconda3\\lib\\site-packages\\ipykernel_launcher.py:3: DataConversionWarning: A column-vector y was passed when a 1d array was expected. Please change the shape of y to (n_samples,), for example using ravel().\n",
      "  This is separate from the ipykernel package so we can avoid doing imports until\n"
     ]
    },
    {
     "data": {
      "text/plain": [
       "RandomForestRegressor(bootstrap=True, ccp_alpha=0.0, criterion='mse',\n",
       "                      max_depth=None, max_features='auto', max_leaf_nodes=None,\n",
       "                      max_samples=None, min_impurity_decrease=0.0,\n",
       "                      min_impurity_split=None, min_samples_leaf=1,\n",
       "                      min_samples_split=2, min_weight_fraction_leaf=0.0,\n",
       "                      n_estimators=100, n_jobs=None, oob_score=False,\n",
       "                      random_state=None, verbose=0, warm_start=False)"
      ]
     },
     "execution_count": 178,
     "metadata": {},
     "output_type": "execute_result"
    }
   ],
   "source": [
    "from sklearn.ensemble import RandomForestRegressor\n",
    "rf = RandomForestRegressor()\n",
    "rf.fit(sc_x_train_RF,sc_y_train_RF)"
   ]
  },
  {
   "cell_type": "code",
   "execution_count": 179,
   "metadata": {},
   "outputs": [],
   "source": [
    "predict_rf = rf.predict(sc_x_test_RF)\n",
    "predict_rf = sc_y_rf.inverse_transform(predict_rf)\n",
    "y_test_RF = sc_y_rf.inverse_transform(sc_y_test_RF)"
   ]
  },
  {
   "cell_type": "markdown",
   "metadata": {},
   "source": [
    "60.ทดสอบโมเดลวัดค่า MAE, MSE, RMSE และ R2"
   ]
  },
  {
   "cell_type": "code",
   "execution_count": 180,
   "metadata": {},
   "outputs": [
    {
     "name": "stdout",
     "output_type": "stream",
     "text": [
      "MAE : 810.0521693701389\n",
      "MSE : 1310497.625489684\n",
      "RMSE : 1144.7696822897103\n",
      "R2: 0.5558118799636191\n"
     ]
    }
   ],
   "source": [
    "print('MAE :',metrics.mean_absolute_error(y_test_RF,predict_rf))\n",
    "print('MSE :',metrics.mean_squared_error(y_test_RF,predict_rf))\n",
    "print('RMSE :',np.sqrt(metrics.mean_squared_error(y_test_RF,predict_rf)))\n",
    "print('R2:',r2_score(y_test_RF,predict_rf))"
   ]
  },
  {
   "cell_type": "markdown",
   "metadata": {},
   "source": [
    "61.สร้าง distribution plot ของผลต่างระหว่าง y_test กับ predicted results"
   ]
  },
  {
   "cell_type": "code",
   "execution_count": 181,
   "metadata": {},
   "outputs": [
    {
     "data": {
      "text/plain": [
       "<matplotlib.axes._subplots.AxesSubplot at 0x1bb49b62c08>"
      ]
     },
     "execution_count": 181,
     "metadata": {},
     "output_type": "execute_result"
    },
    {
     "data": {
      "image/png": "[encoded data removed]",
      "text/plain": [
       "<Figure size 720x576 with 1 Axes>"
      ]
     },
     "metadata": {
      "needs_background": "light"
     },
     "output_type": "display_data"
    }
   ],
   "source": [
    "plt.figure(figsize = (10,8))\n",
    "sns.distplot((y_test_RF-predict_rf),bins=40)"
   ]
  },
  {
   "cell_type": "markdown",
   "metadata": {},
   "source": [
    "62.สร้าง dataframe เปรียบเทียบ ยอดขายจริงกับการทำนาย"
   ]
  },
  {
   "cell_type": "code",
   "execution_count": 182,
   "metadata": {},
   "outputs": [
    {
     "data": {
      "text/html": [
       "<div>\n",
       "<style scoped>\n",
       "    .dataframe tbody tr th:only-of-type {\n",
       "        vertical-align: middle;\n",
       "    }\n",
       "\n",
       "    .dataframe tbody tr th {\n",
       "        vertical-align: top;\n",
       "    }\n",
       "\n",
       "    .dataframe thead th {\n",
       "        text-align: right;\n",
       "    }\n",
       "</style>\n",
       "<table border=\"1\" class=\"dataframe\">\n",
       "  <thead>\n",
       "    <tr style=\"text-align: right;\">\n",
       "      <th></th>\n",
       "      <th>test_data</th>\n",
       "      <th>predicted_data</th>\n",
       "      <th>Difference</th>\n",
       "    </tr>\n",
       "  </thead>\n",
       "  <tbody>\n",
       "    <tr>\n",
       "      <th>0</th>\n",
       "      <td>4426.2384</td>\n",
       "      <td>3055.136486</td>\n",
       "      <td>1371.101914</td>\n",
       "    </tr>\n",
       "    <tr>\n",
       "      <th>1</th>\n",
       "      <td>4845.0266</td>\n",
       "      <td>3514.977914</td>\n",
       "      <td>1330.048686</td>\n",
       "    </tr>\n",
       "    <tr>\n",
       "      <th>2</th>\n",
       "      <td>2293.0152</td>\n",
       "      <td>5777.426236</td>\n",
       "      <td>-3484.411036</td>\n",
       "    </tr>\n",
       "    <tr>\n",
       "      <th>3</th>\n",
       "      <td>1065.2800</td>\n",
       "      <td>1681.307011</td>\n",
       "      <td>-616.027011</td>\n",
       "    </tr>\n",
       "    <tr>\n",
       "      <th>4</th>\n",
       "      <td>2345.6134</td>\n",
       "      <td>2352.204820</td>\n",
       "      <td>-6.591420</td>\n",
       "    </tr>\n",
       "    <tr>\n",
       "      <th>...</th>\n",
       "      <td>...</td>\n",
       "      <td>...</td>\n",
       "      <td>...</td>\n",
       "    </tr>\n",
       "    <tr>\n",
       "      <th>1700</th>\n",
       "      <td>3207.8244</td>\n",
       "      <td>2496.530286</td>\n",
       "      <td>711.294114</td>\n",
       "    </tr>\n",
       "    <tr>\n",
       "      <th>1701</th>\n",
       "      <td>2263.7200</td>\n",
       "      <td>1156.601128</td>\n",
       "      <td>1107.118872</td>\n",
       "    </tr>\n",
       "    <tr>\n",
       "      <th>1702</th>\n",
       "      <td>1906.8512</td>\n",
       "      <td>2076.257352</td>\n",
       "      <td>-169.406152</td>\n",
       "    </tr>\n",
       "    <tr>\n",
       "      <th>1703</th>\n",
       "      <td>2773.0570</td>\n",
       "      <td>2687.135510</td>\n",
       "      <td>85.921490</td>\n",
       "    </tr>\n",
       "    <tr>\n",
       "      <th>1704</th>\n",
       "      <td>3327.6684</td>\n",
       "      <td>2480.844038</td>\n",
       "      <td>846.824362</td>\n",
       "    </tr>\n",
       "  </tbody>\n",
       "</table>\n",
       "<p>1705 rows × 3 columns</p>\n",
       "</div>"
      ],
      "text/plain": [
       "      test_data  predicted_data   Difference\n",
       "0     4426.2384     3055.136486  1371.101914\n",
       "1     4845.0266     3514.977914  1330.048686\n",
       "2     2293.0152     5777.426236 -3484.411036\n",
       "3     1065.2800     1681.307011  -616.027011\n",
       "4     2345.6134     2352.204820    -6.591420\n",
       "...         ...             ...          ...\n",
       "1700  3207.8244     2496.530286   711.294114\n",
       "1701  2263.7200     1156.601128  1107.118872\n",
       "1702  1906.8512     2076.257352  -169.406152\n",
       "1703  2773.0570     2687.135510    85.921490\n",
       "1704  3327.6684     2480.844038   846.824362\n",
       "\n",
       "[1705 rows x 3 columns]"
      ]
     },
     "execution_count": 182,
     "metadata": {},
     "output_type": "execute_result"
    }
   ],
   "source": [
    "df_compare_4 = pd.DataFrame({'test_data': y_test_RF.ravel() , 'predicted_data': predict_rf,'Difference':y_test_RF.ravel() - predict_rf})\n",
    "df_compare_4"
   ]
  },
  {
   "cell_type": "markdown",
   "metadata": {},
   "source": [
    "63.หา Correlation จาก dataframe ข้อ 62"
   ]
  },
  {
   "cell_type": "code",
   "execution_count": 183,
   "metadata": {},
   "outputs": [
    {
     "data": {
      "text/html": [
       "<div>\n",
       "<style scoped>\n",
       "    .dataframe tbody tr th:only-of-type {\n",
       "        vertical-align: middle;\n",
       "    }\n",
       "\n",
       "    .dataframe tbody tr th {\n",
       "        vertical-align: top;\n",
       "    }\n",
       "\n",
       "    .dataframe thead th {\n",
       "        text-align: right;\n",
       "    }\n",
       "</style>\n",
       "<table border=\"1\" class=\"dataframe\">\n",
       "  <thead>\n",
       "    <tr style=\"text-align: right;\">\n",
       "      <th></th>\n",
       "      <th>test_data</th>\n",
       "      <th>predicted_data</th>\n",
       "      <th>Difference</th>\n",
       "    </tr>\n",
       "  </thead>\n",
       "  <tbody>\n",
       "    <tr>\n",
       "      <th>test_data</th>\n",
       "      <td>1.000000</td>\n",
       "      <td>0.747529</td>\n",
       "      <td>0.600682</td>\n",
       "    </tr>\n",
       "    <tr>\n",
       "      <th>predicted_data</th>\n",
       "      <td>0.747529</td>\n",
       "      <td>1.000000</td>\n",
       "      <td>-0.082016</td>\n",
       "    </tr>\n",
       "    <tr>\n",
       "      <th>Difference</th>\n",
       "      <td>0.600682</td>\n",
       "      <td>-0.082016</td>\n",
       "      <td>1.000000</td>\n",
       "    </tr>\n",
       "  </tbody>\n",
       "</table>\n",
       "</div>"
      ],
      "text/plain": [
       "                test_data  predicted_data  Difference\n",
       "test_data        1.000000        0.747529    0.600682\n",
       "predicted_data   0.747529        1.000000   -0.082016\n",
       "Difference       0.600682       -0.082016    1.000000"
      ]
     },
     "execution_count": 183,
     "metadata": {},
     "output_type": "execute_result"
    }
   ],
   "source": [
    "df_compare_4.corr()"
   ]
  },
  {
   "cell_type": "markdown",
   "metadata": {},
   "source": [
    "64.สร้างโมเดลแบบ Multiple Linear Regression โดยใช้ทุก features และใช้ Standard Scaler ทั้ง dependent และ independent variables"
   ]
  },
  {
   "cell_type": "code",
   "execution_count": 184,
   "metadata": {},
   "outputs": [],
   "source": [
    "sc_x_lm_3 = StandardScaler()\n",
    "sc_y_lm_3 = StandardScaler()"
   ]
  },
  {
   "cell_type": "code",
   "execution_count": 185,
   "metadata": {},
   "outputs": [],
   "source": [
    "x = df.drop(['Item_Outlet_Sales'],axis=1)\n",
    "y = np.array(df['Item_Outlet_Sales']).reshape(-1,1)"
   ]
  },
  {
   "cell_type": "code",
   "execution_count": 186,
   "metadata": {},
   "outputs": [],
   "source": [
    "x = sc_x_lm_3.fit_transform(x)\n",
    "y = sc_y_lm_3.fit_transform(y)"
   ]
  },
  {
   "cell_type": "code",
   "execution_count": 187,
   "metadata": {},
   "outputs": [],
   "source": [
    "x_train_lm_3,x_test_lm_3,y_train_lm_3,y_test_lm_3 = train_test_split(x,y,test_size=0.2,random_state=100)"
   ]
  },
  {
   "cell_type": "code",
   "execution_count": 188,
   "metadata": {},
   "outputs": [
    {
     "data": {
      "text/plain": [
       "LinearRegression(copy_X=True, fit_intercept=True, n_jobs=None, normalize=False)"
      ]
     },
     "execution_count": 188,
     "metadata": {},
     "output_type": "execute_result"
    }
   ],
   "source": [
    "lm_3 = LinearRegression()\n",
    "lm_3.fit(x_train_lm_3,y_train_lm_3)"
   ]
  },
  {
   "cell_type": "code",
   "execution_count": 189,
   "metadata": {},
   "outputs": [],
   "source": [
    "predict_lm_3 = lm_3.predict(x_test_lm_3)\n",
    "predict_lm_3 = sc_y_lm_3.inverse_transform(predict_lm_3)\n",
    "y_test_lm_3 = sc_y_lm_3.inverse_transform(y_test_lm_3)"
   ]
  },
  {
   "cell_type": "markdown",
   "metadata": {},
   "source": [
    "65.ทดสอบโมเดลวัดค่า MAE, MSE, RMSE และ R2"
   ]
  },
  {
   "cell_type": "code",
   "execution_count": 190,
   "metadata": {},
   "outputs": [
    {
     "name": "stdout",
     "output_type": "stream",
     "text": [
      "MAE : 858.0805620081617\n",
      "MSE : 1328520.3176223596\n",
      "RMSE : 1152.614557266374\n",
      "R2: 0.5497031579173535\n"
     ]
    }
   ],
   "source": [
    "print('MAE :',metrics.mean_absolute_error(y_test_lm_3,predict_lm_3))\n",
    "print('MSE :',metrics.mean_squared_error(y_test_lm_3,predict_lm_3))\n",
    "print('RMSE :',np.sqrt(metrics.mean_squared_error(y_test_lm_3,predict_lm_3)))\n",
    "print('R2:',r2_score(y_test_lm_3,predict_lm_3))"
   ]
  },
  {
   "cell_type": "markdown",
   "metadata": {},
   "source": [
    "66.สร้าง distribution plot ของผลต่างระหว่าง y_test กับ predicted results"
   ]
  },
  {
   "cell_type": "code",
   "execution_count": 191,
   "metadata": {},
   "outputs": [
    {
     "data": {
      "text/plain": [
       "<matplotlib.axes._subplots.AxesSubplot at 0x1bb50316fc8>"
      ]
     },
     "execution_count": 191,
     "metadata": {},
     "output_type": "execute_result"
    },
    {
     "data": {
      "image/png": "[encoded data removed]",
      "text/plain": [
       "<Figure size 720x576 with 1 Axes>"
      ]
     },
     "metadata": {
      "needs_background": "light"
     },
     "output_type": "display_data"
    }
   ],
   "source": [
    "plt.figure(figsize = (10,8))\n",
    "sns.distplot((y_test_lm_3-predict_lm_3),bins=40)"
   ]
  },
  {
   "cell_type": "markdown",
   "metadata": {},
   "source": [
    "67.สร้าง dataframe เปรียบเทียบ ยอดขายจริงกับการทำนาย"
   ]
  },
  {
   "cell_type": "code",
   "execution_count": 192,
   "metadata": {},
   "outputs": [
    {
     "data": {
      "text/html": [
       "<div>\n",
       "<style scoped>\n",
       "    .dataframe tbody tr th:only-of-type {\n",
       "        vertical-align: middle;\n",
       "    }\n",
       "\n",
       "    .dataframe tbody tr th {\n",
       "        vertical-align: top;\n",
       "    }\n",
       "\n",
       "    .dataframe thead th {\n",
       "        text-align: right;\n",
       "    }\n",
       "</style>\n",
       "<table border=\"1\" class=\"dataframe\">\n",
       "  <thead>\n",
       "    <tr style=\"text-align: right;\">\n",
       "      <th></th>\n",
       "      <th>test_data</th>\n",
       "      <th>predicted_data</th>\n",
       "      <th>Difference</th>\n",
       "    </tr>\n",
       "  </thead>\n",
       "  <tbody>\n",
       "    <tr>\n",
       "      <th>0</th>\n",
       "      <td>4426.2384</td>\n",
       "      <td>2935.539615</td>\n",
       "      <td>1490.698785</td>\n",
       "    </tr>\n",
       "    <tr>\n",
       "      <th>1</th>\n",
       "      <td>4845.0266</td>\n",
       "      <td>4155.693632</td>\n",
       "      <td>689.332968</td>\n",
       "    </tr>\n",
       "    <tr>\n",
       "      <th>2</th>\n",
       "      <td>2293.0152</td>\n",
       "      <td>4503.015555</td>\n",
       "      <td>-2210.000355</td>\n",
       "    </tr>\n",
       "    <tr>\n",
       "      <th>3</th>\n",
       "      <td>1065.2800</td>\n",
       "      <td>1850.221258</td>\n",
       "      <td>-784.941258</td>\n",
       "    </tr>\n",
       "    <tr>\n",
       "      <th>4</th>\n",
       "      <td>2345.6134</td>\n",
       "      <td>2926.211648</td>\n",
       "      <td>-580.598248</td>\n",
       "    </tr>\n",
       "    <tr>\n",
       "      <th>...</th>\n",
       "      <td>...</td>\n",
       "      <td>...</td>\n",
       "      <td>...</td>\n",
       "    </tr>\n",
       "    <tr>\n",
       "      <th>1700</th>\n",
       "      <td>3207.8244</td>\n",
       "      <td>2471.647401</td>\n",
       "      <td>736.176999</td>\n",
       "    </tr>\n",
       "    <tr>\n",
       "      <th>1701</th>\n",
       "      <td>2263.7200</td>\n",
       "      <td>1495.009946</td>\n",
       "      <td>768.710054</td>\n",
       "    </tr>\n",
       "    <tr>\n",
       "      <th>1702</th>\n",
       "      <td>1906.8512</td>\n",
       "      <td>1896.392415</td>\n",
       "      <td>10.458785</td>\n",
       "    </tr>\n",
       "    <tr>\n",
       "      <th>1703</th>\n",
       "      <td>2773.0570</td>\n",
       "      <td>2756.147129</td>\n",
       "      <td>16.909871</td>\n",
       "    </tr>\n",
       "    <tr>\n",
       "      <th>1704</th>\n",
       "      <td>3327.6684</td>\n",
       "      <td>3095.169570</td>\n",
       "      <td>232.498830</td>\n",
       "    </tr>\n",
       "  </tbody>\n",
       "</table>\n",
       "<p>1705 rows × 3 columns</p>\n",
       "</div>"
      ],
      "text/plain": [
       "      test_data  predicted_data   Difference\n",
       "0     4426.2384     2935.539615  1490.698785\n",
       "1     4845.0266     4155.693632   689.332968\n",
       "2     2293.0152     4503.015555 -2210.000355\n",
       "3     1065.2800     1850.221258  -784.941258\n",
       "4     2345.6134     2926.211648  -580.598248\n",
       "...         ...             ...          ...\n",
       "1700  3207.8244     2471.647401   736.176999\n",
       "1701  2263.7200     1495.009946   768.710054\n",
       "1702  1906.8512     1896.392415    10.458785\n",
       "1703  2773.0570     2756.147129    16.909871\n",
       "1704  3327.6684     3095.169570   232.498830\n",
       "\n",
       "[1705 rows x 3 columns]"
      ]
     },
     "execution_count": 192,
     "metadata": {},
     "output_type": "execute_result"
    }
   ],
   "source": [
    "df_compare_5 = pd.DataFrame({'test_data': y_test_lm_3.ravel() , 'predicted_data': predict_lm_3.ravel(),'Difference':y_test_lm_3.ravel() - predict_lm_3.ravel()})\n",
    "df_compare_5"
   ]
  },
  {
   "cell_type": "markdown",
   "metadata": {},
   "source": [
    "68.หา Correlation จาก dataframe ข้อก่อนหน้า"
   ]
  },
  {
   "cell_type": "code",
   "execution_count": 193,
   "metadata": {},
   "outputs": [
    {
     "data": {
      "text/html": [
       "<div>\n",
       "<style scoped>\n",
       "    .dataframe tbody tr th:only-of-type {\n",
       "        vertical-align: middle;\n",
       "    }\n",
       "\n",
       "    .dataframe tbody tr th {\n",
       "        vertical-align: top;\n",
       "    }\n",
       "\n",
       "    .dataframe thead th {\n",
       "        text-align: right;\n",
       "    }\n",
       "</style>\n",
       "<table border=\"1\" class=\"dataframe\">\n",
       "  <thead>\n",
       "    <tr style=\"text-align: right;\">\n",
       "      <th></th>\n",
       "      <th>test_data</th>\n",
       "      <th>predicted_data</th>\n",
       "      <th>Difference</th>\n",
       "    </tr>\n",
       "  </thead>\n",
       "  <tbody>\n",
       "    <tr>\n",
       "      <th>test_data</th>\n",
       "      <td>1.000000</td>\n",
       "      <td>0.741526</td>\n",
       "      <td>0.682465</td>\n",
       "    </tr>\n",
       "    <tr>\n",
       "      <th>predicted_data</th>\n",
       "      <td>0.741526</td>\n",
       "      <td>1.000000</td>\n",
       "      <td>0.015674</td>\n",
       "    </tr>\n",
       "    <tr>\n",
       "      <th>Difference</th>\n",
       "      <td>0.682465</td>\n",
       "      <td>0.015674</td>\n",
       "      <td>1.000000</td>\n",
       "    </tr>\n",
       "  </tbody>\n",
       "</table>\n",
       "</div>"
      ],
      "text/plain": [
       "                test_data  predicted_data  Difference\n",
       "test_data        1.000000        0.741526    0.682465\n",
       "predicted_data   0.741526        1.000000    0.015674\n",
       "Difference       0.682465        0.015674    1.000000"
      ]
     },
     "execution_count": 193,
     "metadata": {},
     "output_type": "execute_result"
    }
   ],
   "source": [
    "df_compare_5.corr()"
   ]
  },
  {
   "cell_type": "markdown",
   "metadata": {},
   "source": [
    "69.สร้างโมเดลแบบ Support Vector Regression แบบ rbf โดยใช้ทุก features"
   ]
  },
  {
   "cell_type": "code",
   "execution_count": 194,
   "metadata": {},
   "outputs": [],
   "source": [
    "x = df.drop(['Item_Outlet_Sales'],axis=1)\n",
    "y = np.array(df['Item_Outlet_Sales']).reshape(-1,1)"
   ]
  },
  {
   "cell_type": "code",
   "execution_count": 195,
   "metadata": {},
   "outputs": [],
   "source": [
    "x_train_rbf,x_test_rbf,y_train_rbf,y_test_rbf = train_test_split(x,y,test_size=0.2,random_state=100)"
   ]
  },
  {
   "cell_type": "code",
   "execution_count": 196,
   "metadata": {},
   "outputs": [
    {
     "name": "stderr",
     "output_type": "stream",
     "text": [
      "C:\\Users\\acer\\Anaconda3\\lib\\site-packages\\sklearn\\utils\\validation.py:760: DataConversionWarning: A column-vector y was passed when a 1d array was expected. Please change the shape of y to (n_samples, ), for example using ravel().\n",
      "  y = column_or_1d(y, warn=True)\n"
     ]
    },
    {
     "data": {
      "text/plain": [
       "SVR(C=1.0, cache_size=200, coef0=0.0, degree=3, epsilon=0.1, gamma='scale',\n",
       "    kernel='rbf', max_iter=-1, shrinking=True, tol=0.001, verbose=False)"
      ]
     },
     "execution_count": 196,
     "metadata": {},
     "output_type": "execute_result"
    }
   ],
   "source": [
    "regressor_rbf = SVR(kernel = 'rbf')\n",
    "regressor_rbf.fit(x_train_rbf,y_train_rbf)"
   ]
  },
  {
   "cell_type": "code",
   "execution_count": 197,
   "metadata": {},
   "outputs": [],
   "source": [
    "predict_rbf = regressor_rbf.predict(x_test_rbf)"
   ]
  },
  {
   "cell_type": "markdown",
   "metadata": {},
   "source": [
    "70.ทดสอบโมเดลวัดค่า MAE, MSE, RMSE และ R2"
   ]
  },
  {
   "cell_type": "code",
   "execution_count": 198,
   "metadata": {},
   "outputs": [
    {
     "name": "stdout",
     "output_type": "stream",
     "text": [
      "MAE : 1133.606428406553\n",
      "MSE : 2433433.8300696523\n",
      "RMSE : 1559.946739497747\n",
      "R2: 0.1751969807593693\n"
     ]
    }
   ],
   "source": [
    "print('MAE :',metrics.mean_absolute_error(y_test_rbf,predict_rbf))\n",
    "print('MSE :',metrics.mean_squared_error(y_test_rbf,predict_rbf))\n",
    "print('RMSE :',np.sqrt(metrics.mean_squared_error(y_test_rbf,predict_rbf)))\n",
    "print('R2:',r2_score(y_test_rbf,predict_rbf))"
   ]
  },
  {
   "cell_type": "markdown",
   "metadata": {},
   "source": [
    "71.สร้าง distribution plot ของผลต่างระหว่าง y_test กับ predicted results"
   ]
  },
  {
   "cell_type": "code",
   "execution_count": 199,
   "metadata": {},
   "outputs": [
    {
     "data": {
      "text/plain": [
       "<matplotlib.axes._subplots.AxesSubplot at 0x1bb4a11a248>"
      ]
     },
     "execution_count": 199,
     "metadata": {},
     "output_type": "execute_result"
    },
    {
     "data": {
      "image/png": "[encoded data removed]",
      "text/plain": [
       "<Figure size 720x576 with 1 Axes>"
      ]
     },
     "metadata": {
      "needs_background": "light"
     },
     "output_type": "display_data"
    }
   ],
   "source": [
    "plt.figure(figsize = (10,8))\n",
    "sns.distplot((y_test_rbf-predict_rbf),bins=40)"
   ]
  },
  {
   "cell_type": "markdown",
   "metadata": {},
   "source": [
    "72.สร้าง dataframe เปรียบเทียบ ยอดขายจริงกับการทำนาย"
   ]
  },
  {
   "cell_type": "code",
   "execution_count": 200,
   "metadata": {},
   "outputs": [
    {
     "data": {
      "text/html": [
       "<div>\n",
       "<style scoped>\n",
       "    .dataframe tbody tr th:only-of-type {\n",
       "        vertical-align: middle;\n",
       "    }\n",
       "\n",
       "    .dataframe tbody tr th {\n",
       "        vertical-align: top;\n",
       "    }\n",
       "\n",
       "    .dataframe thead th {\n",
       "        text-align: right;\n",
       "    }\n",
       "</style>\n",
       "<table border=\"1\" class=\"dataframe\">\n",
       "  <thead>\n",
       "    <tr style=\"text-align: right;\">\n",
       "      <th></th>\n",
       "      <th>test_data</th>\n",
       "      <th>predicted_data</th>\n",
       "      <th>Difference</th>\n",
       "    </tr>\n",
       "  </thead>\n",
       "  <tbody>\n",
       "    <tr>\n",
       "      <th>0</th>\n",
       "      <td>4426.2384</td>\n",
       "      <td>2237.522997</td>\n",
       "      <td>2188.715403</td>\n",
       "    </tr>\n",
       "    <tr>\n",
       "      <th>1</th>\n",
       "      <td>4845.0266</td>\n",
       "      <td>2465.107420</td>\n",
       "      <td>2379.919180</td>\n",
       "    </tr>\n",
       "    <tr>\n",
       "      <th>2</th>\n",
       "      <td>2293.0152</td>\n",
       "      <td>2295.592097</td>\n",
       "      <td>-2.576897</td>\n",
       "    </tr>\n",
       "    <tr>\n",
       "      <th>3</th>\n",
       "      <td>1065.2800</td>\n",
       "      <td>1618.102486</td>\n",
       "      <td>-552.822486</td>\n",
       "    </tr>\n",
       "    <tr>\n",
       "      <th>4</th>\n",
       "      <td>2345.6134</td>\n",
       "      <td>2217.325493</td>\n",
       "      <td>128.287907</td>\n",
       "    </tr>\n",
       "    <tr>\n",
       "      <th>...</th>\n",
       "      <td>...</td>\n",
       "      <td>...</td>\n",
       "      <td>...</td>\n",
       "    </tr>\n",
       "    <tr>\n",
       "      <th>1700</th>\n",
       "      <td>3207.8244</td>\n",
       "      <td>1956.531754</td>\n",
       "      <td>1251.292646</td>\n",
       "    </tr>\n",
       "    <tr>\n",
       "      <th>1701</th>\n",
       "      <td>2263.7200</td>\n",
       "      <td>1478.423560</td>\n",
       "      <td>785.296440</td>\n",
       "    </tr>\n",
       "    <tr>\n",
       "      <th>1702</th>\n",
       "      <td>1906.8512</td>\n",
       "      <td>1698.045618</td>\n",
       "      <td>208.805582</td>\n",
       "    </tr>\n",
       "    <tr>\n",
       "      <th>1703</th>\n",
       "      <td>2773.0570</td>\n",
       "      <td>2098.652772</td>\n",
       "      <td>674.404228</td>\n",
       "    </tr>\n",
       "    <tr>\n",
       "      <th>1704</th>\n",
       "      <td>3327.6684</td>\n",
       "      <td>2316.869283</td>\n",
       "      <td>1010.799117</td>\n",
       "    </tr>\n",
       "  </tbody>\n",
       "</table>\n",
       "<p>1705 rows × 3 columns</p>\n",
       "</div>"
      ],
      "text/plain": [
       "      test_data  predicted_data   Difference\n",
       "0     4426.2384     2237.522997  2188.715403\n",
       "1     4845.0266     2465.107420  2379.919180\n",
       "2     2293.0152     2295.592097    -2.576897\n",
       "3     1065.2800     1618.102486  -552.822486\n",
       "4     2345.6134     2217.325493   128.287907\n",
       "...         ...             ...          ...\n",
       "1700  3207.8244     1956.531754  1251.292646\n",
       "1701  2263.7200     1478.423560   785.296440\n",
       "1702  1906.8512     1698.045618   208.805582\n",
       "1703  2773.0570     2098.652772   674.404228\n",
       "1704  3327.6684     2316.869283  1010.799117\n",
       "\n",
       "[1705 rows x 3 columns]"
      ]
     },
     "execution_count": 200,
     "metadata": {},
     "output_type": "execute_result"
    }
   ],
   "source": [
    "df_compare_6 = pd.DataFrame({'test_data': y_test_rbf.ravel() , 'predicted_data':predict_rbf.ravel(),'Difference':y_test_rbf.ravel() - predict_rbf.ravel()})\n",
    "df_compare_6"
   ]
  },
  {
   "cell_type": "markdown",
   "metadata": {},
   "source": [
    "73.หา Correlation จาก dataframe ข้อก่อนหน้า"
   ]
  },
  {
   "cell_type": "code",
   "execution_count": 201,
   "metadata": {},
   "outputs": [
    {
     "data": {
      "text/html": [
       "<div>\n",
       "<style scoped>\n",
       "    .dataframe tbody tr th:only-of-type {\n",
       "        vertical-align: middle;\n",
       "    }\n",
       "\n",
       "    .dataframe tbody tr th {\n",
       "        vertical-align: top;\n",
       "    }\n",
       "\n",
       "    .dataframe thead th {\n",
       "        text-align: right;\n",
       "    }\n",
       "</style>\n",
       "<table border=\"1\" class=\"dataframe\">\n",
       "  <thead>\n",
       "    <tr style=\"text-align: right;\">\n",
       "      <th></th>\n",
       "      <th>test_data</th>\n",
       "      <th>predicted_data</th>\n",
       "      <th>Difference</th>\n",
       "    </tr>\n",
       "  </thead>\n",
       "  <tbody>\n",
       "    <tr>\n",
       "      <th>test_data</th>\n",
       "      <td>1.000000</td>\n",
       "      <td>0.557928</td>\n",
       "      <td>0.973276</td>\n",
       "    </tr>\n",
       "    <tr>\n",
       "      <th>predicted_data</th>\n",
       "      <td>0.557928</td>\n",
       "      <td>1.000000</td>\n",
       "      <td>0.352444</td>\n",
       "    </tr>\n",
       "    <tr>\n",
       "      <th>Difference</th>\n",
       "      <td>0.973276</td>\n",
       "      <td>0.352444</td>\n",
       "      <td>1.000000</td>\n",
       "    </tr>\n",
       "  </tbody>\n",
       "</table>\n",
       "</div>"
      ],
      "text/plain": [
       "                test_data  predicted_data  Difference\n",
       "test_data        1.000000        0.557928    0.973276\n",
       "predicted_data   0.557928        1.000000    0.352444\n",
       "Difference       0.973276        0.352444    1.000000"
      ]
     },
     "execution_count": 201,
     "metadata": {},
     "output_type": "execute_result"
    }
   ],
   "source": [
    "df_compare_6.corr()"
   ]
  },
  {
   "cell_type": "markdown",
   "metadata": {},
   "source": [
    "74.สร้างโมเดลแบบ Decision Tree Regression โดยใช้ทุก features"
   ]
  },
  {
   "cell_type": "code",
   "execution_count": 202,
   "metadata": {},
   "outputs": [],
   "source": [
    "x_train_dt_2,x_test_dt_2,y_train_dt_2,y_test_dt_2 = train_test_split(x,y,test_size=0.2,random_state=100)"
   ]
  },
  {
   "cell_type": "code",
   "execution_count": 203,
   "metadata": {},
   "outputs": [
    {
     "data": {
      "text/plain": [
       "DecisionTreeRegressor(ccp_alpha=0.0, criterion='mse', max_depth=None,\n",
       "                      max_features=None, max_leaf_nodes=None,\n",
       "                      min_impurity_decrease=0.0, min_impurity_split=None,\n",
       "                      min_samples_leaf=1, min_samples_split=2,\n",
       "                      min_weight_fraction_leaf=0.0, presort='deprecated',\n",
       "                      random_state=None, splitter='best')"
      ]
     },
     "execution_count": 203,
     "metadata": {},
     "output_type": "execute_result"
    }
   ],
   "source": [
    "dt_2 = DecisionTreeRegressor()\n",
    "dt_2.fit(x_train_dt_2,y_train_dt_2)"
   ]
  },
  {
   "cell_type": "code",
   "execution_count": 204,
   "metadata": {},
   "outputs": [],
   "source": [
    "predict_dt_2 = dt_2.predict(x_test_dt_2)"
   ]
  },
  {
   "cell_type": "markdown",
   "metadata": {},
   "source": [
    "75.ทดสอบโมเดลวัดค่า MAE, MSE, RMSE และ R2"
   ]
  },
  {
   "cell_type": "code",
   "execution_count": 205,
   "metadata": {},
   "outputs": [
    {
     "name": "stdout",
     "output_type": "stream",
     "text": [
      "MAE : 1138.1247679765397\n",
      "MSE : 2690938.1287266514\n",
      "RMSE : 1640.4079153450375\n",
      "R2: 0.08791689104612044\n"
     ]
    }
   ],
   "source": [
    "print('MAE :',metrics.mean_absolute_error(y_test_dt_2,predict_dt_2))\n",
    "print('MSE :',metrics.mean_squared_error(y_test_dt_2,predict_dt_2))\n",
    "print('RMSE :',np.sqrt(metrics.mean_squared_error(y_test_dt_2,predict_dt_2)))\n",
    "print('R2:',r2_score(y_test_dt_2,predict_dt_2))"
   ]
  },
  {
   "cell_type": "markdown",
   "metadata": {},
   "source": [
    "76.สร้าง distribution plot ของผลต่างระหว่าง y_test กับ predicted results"
   ]
  },
  {
   "cell_type": "code",
   "execution_count": 206,
   "metadata": {},
   "outputs": [
    {
     "data": {
      "text/plain": [
       "<matplotlib.axes._subplots.AxesSubplot at 0x1bb4a1f6c48>"
      ]
     },
     "execution_count": 206,
     "metadata": {},
     "output_type": "execute_result"
    },
    {
     "data": {
      "image/png": "[encoded data removed]",
      "text/plain": [
       "<Figure size 720x576 with 1 Axes>"
      ]
     },
     "metadata": {
      "needs_background": "light"
     },
     "output_type": "display_data"
    }
   ],
   "source": [
    "plt.figure(figsize = (10,8))\n",
    "sns.distplot((y_test_dt_2-predict_dt_2),bins=40)"
   ]
  },
  {
   "cell_type": "markdown",
   "metadata": {},
   "source": [
    "77.สร้าง dataframe เปรียบเทียบ ยอดขายจริงกับการทำนาย"
   ]
  },
  {
   "cell_type": "code",
   "execution_count": 207,
   "metadata": {},
   "outputs": [
    {
     "data": {
      "text/html": [
       "<div>\n",
       "<style scoped>\n",
       "    .dataframe tbody tr th:only-of-type {\n",
       "        vertical-align: middle;\n",
       "    }\n",
       "\n",
       "    .dataframe tbody tr th {\n",
       "        vertical-align: top;\n",
       "    }\n",
       "\n",
       "    .dataframe thead th {\n",
       "        text-align: right;\n",
       "    }\n",
       "</style>\n",
       "<table border=\"1\" class=\"dataframe\">\n",
       "  <thead>\n",
       "    <tr style=\"text-align: right;\">\n",
       "      <th></th>\n",
       "      <th>test_data</th>\n",
       "      <th>predicted_data</th>\n",
       "      <th>Difference</th>\n",
       "    </tr>\n",
       "  </thead>\n",
       "  <tbody>\n",
       "    <tr>\n",
       "      <th>0</th>\n",
       "      <td>4426.2384</td>\n",
       "      <td>4777.7808</td>\n",
       "      <td>-351.5424</td>\n",
       "    </tr>\n",
       "    <tr>\n",
       "      <th>1</th>\n",
       "      <td>4845.0266</td>\n",
       "      <td>5369.0112</td>\n",
       "      <td>-523.9846</td>\n",
       "    </tr>\n",
       "    <tr>\n",
       "      <th>2</th>\n",
       "      <td>2293.0152</td>\n",
       "      <td>4876.9850</td>\n",
       "      <td>-2583.9698</td>\n",
       "    </tr>\n",
       "    <tr>\n",
       "      <th>3</th>\n",
       "      <td>1065.2800</td>\n",
       "      <td>2334.9606</td>\n",
       "      <td>-1269.6806</td>\n",
       "    </tr>\n",
       "    <tr>\n",
       "      <th>4</th>\n",
       "      <td>2345.6134</td>\n",
       "      <td>1438.1280</td>\n",
       "      <td>907.4854</td>\n",
       "    </tr>\n",
       "    <tr>\n",
       "      <th>...</th>\n",
       "      <td>...</td>\n",
       "      <td>...</td>\n",
       "      <td>...</td>\n",
       "    </tr>\n",
       "    <tr>\n",
       "      <th>1700</th>\n",
       "      <td>3207.8244</td>\n",
       "      <td>3547.3824</td>\n",
       "      <td>-339.5580</td>\n",
       "    </tr>\n",
       "    <tr>\n",
       "      <th>1701</th>\n",
       "      <td>2263.7200</td>\n",
       "      <td>1775.6886</td>\n",
       "      <td>488.0314</td>\n",
       "    </tr>\n",
       "    <tr>\n",
       "      <th>1702</th>\n",
       "      <td>1906.8512</td>\n",
       "      <td>3271.7412</td>\n",
       "      <td>-1364.8900</td>\n",
       "    </tr>\n",
       "    <tr>\n",
       "      <th>1703</th>\n",
       "      <td>2773.0570</td>\n",
       "      <td>3588.6620</td>\n",
       "      <td>-815.6050</td>\n",
       "    </tr>\n",
       "    <tr>\n",
       "      <th>1704</th>\n",
       "      <td>3327.6684</td>\n",
       "      <td>567.2616</td>\n",
       "      <td>2760.4068</td>\n",
       "    </tr>\n",
       "  </tbody>\n",
       "</table>\n",
       "<p>1705 rows × 3 columns</p>\n",
       "</div>"
      ],
      "text/plain": [
       "      test_data  predicted_data  Difference\n",
       "0     4426.2384       4777.7808   -351.5424\n",
       "1     4845.0266       5369.0112   -523.9846\n",
       "2     2293.0152       4876.9850  -2583.9698\n",
       "3     1065.2800       2334.9606  -1269.6806\n",
       "4     2345.6134       1438.1280    907.4854\n",
       "...         ...             ...         ...\n",
       "1700  3207.8244       3547.3824   -339.5580\n",
       "1701  2263.7200       1775.6886    488.0314\n",
       "1702  1906.8512       3271.7412  -1364.8900\n",
       "1703  2773.0570       3588.6620   -815.6050\n",
       "1704  3327.6684        567.2616   2760.4068\n",
       "\n",
       "[1705 rows x 3 columns]"
      ]
     },
     "execution_count": 207,
     "metadata": {},
     "output_type": "execute_result"
    }
   ],
   "source": [
    "df_compare_7 = pd.DataFrame({'test_data': y_test_dt_2.ravel() , 'predicted_data':predict_dt_2.ravel(),'Difference':y_test_dt_2.ravel() - predict_dt_2.ravel()})\n",
    "df_compare_7"
   ]
  },
  {
   "cell_type": "markdown",
   "metadata": {},
   "source": [
    "78.หา Correlation จาก dataframe ข้อก่อนหน้า"
   ]
  },
  {
   "cell_type": "code",
   "execution_count": 208,
   "metadata": {},
   "outputs": [
    {
     "data": {
      "text/html": [
       "<div>\n",
       "<style scoped>\n",
       "    .dataframe tbody tr th:only-of-type {\n",
       "        vertical-align: middle;\n",
       "    }\n",
       "\n",
       "    .dataframe tbody tr th {\n",
       "        vertical-align: top;\n",
       "    }\n",
       "\n",
       "    .dataframe thead th {\n",
       "        text-align: right;\n",
       "    }\n",
       "</style>\n",
       "<table border=\"1\" class=\"dataframe\">\n",
       "  <thead>\n",
       "    <tr style=\"text-align: right;\">\n",
       "      <th></th>\n",
       "      <th>test_data</th>\n",
       "      <th>predicted_data</th>\n",
       "      <th>Difference</th>\n",
       "    </tr>\n",
       "  </thead>\n",
       "  <tbody>\n",
       "    <tr>\n",
       "      <th>test_data</th>\n",
       "      <td>1.000000</td>\n",
       "      <td>0.564656</td>\n",
       "      <td>0.429413</td>\n",
       "    </tr>\n",
       "    <tr>\n",
       "      <th>predicted_data</th>\n",
       "      <td>0.564656</td>\n",
       "      <td>1.000000</td>\n",
       "      <td>-0.502888</td>\n",
       "    </tr>\n",
       "    <tr>\n",
       "      <th>Difference</th>\n",
       "      <td>0.429413</td>\n",
       "      <td>-0.502888</td>\n",
       "      <td>1.000000</td>\n",
       "    </tr>\n",
       "  </tbody>\n",
       "</table>\n",
       "</div>"
      ],
      "text/plain": [
       "                test_data  predicted_data  Difference\n",
       "test_data        1.000000        0.564656    0.429413\n",
       "predicted_data   0.564656        1.000000   -0.502888\n",
       "Difference       0.429413       -0.502888    1.000000"
      ]
     },
     "execution_count": 208,
     "metadata": {},
     "output_type": "execute_result"
    }
   ],
   "source": [
    "df_compare_7.corr()"
   ]
  },
  {
   "cell_type": "markdown",
   "metadata": {},
   "source": [
    "79.สร้างโมเดลแบบ Random Forest Regression โดยใช้ทุก features"
   ]
  },
  {
   "cell_type": "code",
   "execution_count": 209,
   "metadata": {},
   "outputs": [],
   "source": [
    "x_train_rf_2,x_test_rf_2,y_train_rf_2,y_test_rf_2 = train_test_split(x,y,test_size=0.2,random_state=100)"
   ]
  },
  {
   "cell_type": "code",
   "execution_count": 210,
   "metadata": {},
   "outputs": [
    {
     "name": "stderr",
     "output_type": "stream",
     "text": [
      "C:\\Users\\acer\\Anaconda3\\lib\\site-packages\\ipykernel_launcher.py:2: DataConversionWarning: A column-vector y was passed when a 1d array was expected. Please change the shape of y to (n_samples,), for example using ravel().\n",
      "  \n"
     ]
    },
    {
     "data": {
      "text/plain": [
       "RandomForestRegressor(bootstrap=True, ccp_alpha=0.0, criterion='mse',\n",
       "                      max_depth=None, max_features='auto', max_leaf_nodes=None,\n",
       "                      max_samples=None, min_impurity_decrease=0.0,\n",
       "                      min_impurity_split=None, min_samples_leaf=1,\n",
       "                      min_samples_split=2, min_weight_fraction_leaf=0.0,\n",
       "                      n_estimators=100, n_jobs=None, oob_score=False,\n",
       "                      random_state=None, verbose=0, warm_start=False)"
      ]
     },
     "execution_count": 210,
     "metadata": {},
     "output_type": "execute_result"
    }
   ],
   "source": [
    "rf_2 = RandomForestRegressor()\n",
    "rf_2.fit(x_train_rf_2,y_train_rf_2)"
   ]
  },
  {
   "cell_type": "code",
   "execution_count": 211,
   "metadata": {},
   "outputs": [],
   "source": [
    "predict_rf_2 = rf_2.predict(x_test_rf_2)"
   ]
  },
  {
   "cell_type": "markdown",
   "metadata": {},
   "source": [
    "80.ทดสอบโมเดลวัดค่า MAE, MSE, RMSE และ R2"
   ]
  },
  {
   "cell_type": "code",
   "execution_count": 212,
   "metadata": {},
   "outputs": [
    {
     "name": "stdout",
     "output_type": "stream",
     "text": [
      "MAE : 811.9374768211143\n",
      "MSE : 1309978.745537321\n",
      "RMSE : 1144.543029133165\n",
      "R2: 0.555987752323921\n"
     ]
    }
   ],
   "source": [
    "print('MAE :',metrics.mean_absolute_error(y_test_rf_2,predict_rf_2))\n",
    "print('MSE :',metrics.mean_squared_error(y_test_rf_2,predict_rf_2))\n",
    "print('RMSE :',np.sqrt(metrics.mean_squared_error(y_test_rf_2,predict_rf_2)))\n",
    "print('R2:',r2_score(y_test_rf_2,predict_rf_2))"
   ]
  },
  {
   "cell_type": "markdown",
   "metadata": {},
   "source": [
    "81.สร้าง distribution plot ของผลต่างระหว่าง y_test กับ predicted results"
   ]
  },
  {
   "cell_type": "code",
   "execution_count": 213,
   "metadata": {},
   "outputs": [
    {
     "data": {
      "text/plain": [
       "<matplotlib.axes._subplots.AxesSubplot at 0x1bb507a5f88>"
      ]
     },
     "execution_count": 213,
     "metadata": {},
     "output_type": "execute_result"
    },
    {
     "data": {
      "image/png": "[encoded data removed]",
      "text/plain": [
       "<Figure size 720x576 with 1 Axes>"
      ]
     },
     "metadata": {
      "needs_background": "light"
     },
     "output_type": "display_data"
    }
   ],
   "source": [
    "plt.figure(figsize = (10,8))\n",
    "sns.distplot((y_test_rf_2-predict_rf_2),bins=40)"
   ]
  },
  {
   "cell_type": "markdown",
   "metadata": {},
   "source": [
    "82.สร้าง dataframe เปรียบเทียบ ยอดขายจริงกับการทำนาย"
   ]
  },
  {
   "cell_type": "code",
   "execution_count": 214,
   "metadata": {},
   "outputs": [
    {
     "data": {
      "text/html": [
       "<div>\n",
       "<style scoped>\n",
       "    .dataframe tbody tr th:only-of-type {\n",
       "        vertical-align: middle;\n",
       "    }\n",
       "\n",
       "    .dataframe tbody tr th {\n",
       "        vertical-align: top;\n",
       "    }\n",
       "\n",
       "    .dataframe thead th {\n",
       "        text-align: right;\n",
       "    }\n",
       "</style>\n",
       "<table border=\"1\" class=\"dataframe\">\n",
       "  <thead>\n",
       "    <tr style=\"text-align: right;\">\n",
       "      <th></th>\n",
       "      <th>test_data</th>\n",
       "      <th>predicted_data</th>\n",
       "      <th>Difference</th>\n",
       "    </tr>\n",
       "  </thead>\n",
       "  <tbody>\n",
       "    <tr>\n",
       "      <th>0</th>\n",
       "      <td>4426.2384</td>\n",
       "      <td>3343.567704</td>\n",
       "      <td>1082.670696</td>\n",
       "    </tr>\n",
       "    <tr>\n",
       "      <th>1</th>\n",
       "      <td>4845.0266</td>\n",
       "      <td>3642.758250</td>\n",
       "      <td>1202.268350</td>\n",
       "    </tr>\n",
       "    <tr>\n",
       "      <th>2</th>\n",
       "      <td>2293.0152</td>\n",
       "      <td>6004.031266</td>\n",
       "      <td>-3711.016066</td>\n",
       "    </tr>\n",
       "    <tr>\n",
       "      <th>3</th>\n",
       "      <td>1065.2800</td>\n",
       "      <td>1822.634158</td>\n",
       "      <td>-757.354158</td>\n",
       "    </tr>\n",
       "    <tr>\n",
       "      <th>4</th>\n",
       "      <td>2345.6134</td>\n",
       "      <td>2411.194700</td>\n",
       "      <td>-65.581300</td>\n",
       "    </tr>\n",
       "    <tr>\n",
       "      <th>...</th>\n",
       "      <td>...</td>\n",
       "      <td>...</td>\n",
       "      <td>...</td>\n",
       "    </tr>\n",
       "    <tr>\n",
       "      <th>1700</th>\n",
       "      <td>3207.8244</td>\n",
       "      <td>2373.710160</td>\n",
       "      <td>834.114240</td>\n",
       "    </tr>\n",
       "    <tr>\n",
       "      <th>1701</th>\n",
       "      <td>2263.7200</td>\n",
       "      <td>1182.087952</td>\n",
       "      <td>1081.632048</td>\n",
       "    </tr>\n",
       "    <tr>\n",
       "      <th>1702</th>\n",
       "      <td>1906.8512</td>\n",
       "      <td>1914.934012</td>\n",
       "      <td>-8.082812</td>\n",
       "    </tr>\n",
       "    <tr>\n",
       "      <th>1703</th>\n",
       "      <td>2773.0570</td>\n",
       "      <td>2468.147232</td>\n",
       "      <td>304.909768</td>\n",
       "    </tr>\n",
       "    <tr>\n",
       "      <th>1704</th>\n",
       "      <td>3327.6684</td>\n",
       "      <td>2392.718750</td>\n",
       "      <td>934.949650</td>\n",
       "    </tr>\n",
       "  </tbody>\n",
       "</table>\n",
       "<p>1705 rows × 3 columns</p>\n",
       "</div>"
      ],
      "text/plain": [
       "      test_data  predicted_data   Difference\n",
       "0     4426.2384     3343.567704  1082.670696\n",
       "1     4845.0266     3642.758250  1202.268350\n",
       "2     2293.0152     6004.031266 -3711.016066\n",
       "3     1065.2800     1822.634158  -757.354158\n",
       "4     2345.6134     2411.194700   -65.581300\n",
       "...         ...             ...          ...\n",
       "1700  3207.8244     2373.710160   834.114240\n",
       "1701  2263.7200     1182.087952  1081.632048\n",
       "1702  1906.8512     1914.934012    -8.082812\n",
       "1703  2773.0570     2468.147232   304.909768\n",
       "1704  3327.6684     2392.718750   934.949650\n",
       "\n",
       "[1705 rows x 3 columns]"
      ]
     },
     "execution_count": 214,
     "metadata": {},
     "output_type": "execute_result"
    }
   ],
   "source": [
    "df_compare_8 = pd.DataFrame({'test_data': y_test_rf_2.ravel() , 'predicted_data':predict_rf_2.ravel(),'Difference':y_test_rf_2.ravel() - predict_rf_2.ravel()})\n",
    "df_compare_8"
   ]
  },
  {
   "cell_type": "markdown",
   "metadata": {},
   "source": [
    "83.หา Correlation จาก dataframe ข้อก่อนหน้า"
   ]
  },
  {
   "cell_type": "code",
   "execution_count": 215,
   "metadata": {},
   "outputs": [
    {
     "data": {
      "text/html": [
       "<div>\n",
       "<style scoped>\n",
       "    .dataframe tbody tr th:only-of-type {\n",
       "        vertical-align: middle;\n",
       "    }\n",
       "\n",
       "    .dataframe tbody tr th {\n",
       "        vertical-align: top;\n",
       "    }\n",
       "\n",
       "    .dataframe thead th {\n",
       "        text-align: right;\n",
       "    }\n",
       "</style>\n",
       "<table border=\"1\" class=\"dataframe\">\n",
       "  <thead>\n",
       "    <tr style=\"text-align: right;\">\n",
       "      <th></th>\n",
       "      <th>test_data</th>\n",
       "      <th>predicted_data</th>\n",
       "      <th>Difference</th>\n",
       "    </tr>\n",
       "  </thead>\n",
       "  <tbody>\n",
       "    <tr>\n",
       "      <th>test_data</th>\n",
       "      <td>1.000000</td>\n",
       "      <td>0.747463</td>\n",
       "      <td>0.604025</td>\n",
       "    </tr>\n",
       "    <tr>\n",
       "      <th>predicted_data</th>\n",
       "      <td>0.747463</td>\n",
       "      <td>1.000000</td>\n",
       "      <td>-0.077941</td>\n",
       "    </tr>\n",
       "    <tr>\n",
       "      <th>Difference</th>\n",
       "      <td>0.604025</td>\n",
       "      <td>-0.077941</td>\n",
       "      <td>1.000000</td>\n",
       "    </tr>\n",
       "  </tbody>\n",
       "</table>\n",
       "</div>"
      ],
      "text/plain": [
       "                test_data  predicted_data  Difference\n",
       "test_data        1.000000        0.747463    0.604025\n",
       "predicted_data   0.747463        1.000000   -0.077941\n",
       "Difference       0.604025       -0.077941    1.000000"
      ]
     },
     "execution_count": 215,
     "metadata": {},
     "output_type": "execute_result"
    }
   ],
   "source": [
    "df_compare_8.corr()"
   ]
  },
  {
   "cell_type": "markdown",
   "metadata": {},
   "source": [
    "84.สร้าง bar chart แสดงค่า RMSE ของทุกผลลัพธ์ทั้งหมดที่ทำมา ยกเว้น 1 indepedent variable (สองอันแรก) แล้วเปรียบเทียบว่า Model มีประสิทธิภาพมากที่สุด"
   ]
  },
  {
   "cell_type": "code",
   "execution_count": 216,
   "metadata": {},
   "outputs": [],
   "source": [
    "x = ['Multiple Linear Regression', 'SVR + standard scaler','Decision Tree Regression + standard scaler','Random Forest Regression + standard scaler','Multiple Linear Regression + standard scaler','SVR','Decision Tree Regression','Random Forest Regression']\n",
    "y_rmse = [np.sqrt(metrics.mean_squared_error(y_test_lm_2, predicted_lm_2)),np.sqrt(metrics.mean_squared_error(y_test_rbf_2, predicted_rbf_2)),np.sqrt(metrics.mean_squared_error(y_test_DT, predict_dt)),np.sqrt(metrics.mean_squared_error(y_test_RF,predict_rf)),np.sqrt(metrics.mean_squared_error(y_test_lm_3,predict_lm_3)),np.sqrt(metrics.mean_squared_error(y_test_rbf,predict_rbf)),np.sqrt(metrics.mean_squared_error(y_test_dt_2,predict_dt_2)),np.sqrt(metrics.mean_squared_error(y_test_rf_2,predict_rf_2))]\n",
    "y_r2 = [r2_score(y_test_lm_2, predicted_lm_2),r2_score(y_test_rbf_2, predicted_rbf_2),r2_score(y_test_DT, predict_dt),r2_score(y_test_RF,predict_rf),r2_score(y_test_lm_3,predict_lm_3),r2_score(y_test_rbf,predict_rbf),r2_score(y_test_dt_2,predict_dt_2),r2_score(y_test_rf_2,predict_rf_2)]\n"
   ]
  },
  {
   "cell_type": "code",
   "execution_count": 217,
   "metadata": {},
   "outputs": [
    {
     "data": {
      "image/png": "[encoded data removed]",
      "text/plain": [
       "<Figure size 720x576 with 1 Axes>"
      ]
     },
     "metadata": {
      "needs_background": "light"
     },
     "output_type": "display_data"
    }
   ],
   "source": [
    "fig = plt.figure(figsize=(10,8))\n",
    "sns.barplot(x=x,y=y_rmse)\n",
    "fig.autofmt_xdate()"
   ]
  },
  {
   "cell_type": "markdown",
   "metadata": {},
   "source": [
    "85.สร้าง bar chart แสดงค่า r2_score ของทุกผลลัพธ์ทั้งหมดที่ทำมา ยกเว้น 1 indepedent variable (สองอันแรก) แล้วเปรียบเทียบว่า Model มีประสิทธิภาพมากที่สุด"
   ]
  },
  {
   "cell_type": "code",
   "execution_count": 218,
   "metadata": {},
   "outputs": [
    {
     "data": {
      "image/png": "[encoded data removed]",
      "text/plain": [
       "<Figure size 720x576 with 1 Axes>"
      ]
     },
     "metadata": {
      "needs_background": "light"
     },
     "output_type": "display_data"
    }
   ],
   "source": [
    "fig = plt.figure(figsize=(10,8))\n",
    "sns.barplot(x=x,y=y_r2)\n",
    "fig.autofmt_xdate()"
   ]
  }
 ],
 "metadata": {
  "kernelspec": {
   "display_name": "Python 3",
   "language": "python",
   "name": "python3"
  },
  "language_info": {
   "codemirror_mode": {
    "name": "ipython",
    "version": 3
   },
   "file_extension": ".py",
   "mimetype": "text/x-python",
   "name": "python",
   "nbconvert_exporter": "python",
   "pygments_lexer": "ipython3",
   "version": "3.7.6"
  }
 },
 "nbformat": 4,
 "nbformat_minor": 4
}
