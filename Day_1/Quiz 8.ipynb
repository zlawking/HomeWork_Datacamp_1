{
 "cells": [
  {
   "cell_type": "markdown",
   "metadata": {},
   "source": [
    "- กำหนดให้ A = [1, 2, 3, 4, 5] และ B = [2, 3, 1, 3, 2] จงเขียน Map แบบ Multiple-list\n",
    "operations โดยให้ B ยกกำลังด้วย A พร้อมกับแสดงผล\n",
    "\n",
    "- จงเขียนชื่อนักเรียน เลขที่ และคะแนนสอบไฟนอล พร้อมกับใช้คำสั่ง Zip() ในการจับคู่\n",
    "พร้อมกับแสดงผลลัพธ์ที่ถูกต้อง"
   ]
  },
  {
   "cell_type": "code",
   "execution_count": 9,
   "metadata": {
    "scrolled": true
   },
   "outputs": [
    {
     "name": "stdout",
     "output_type": "stream",
     "text": [
      "[2, 9, 1, 81, 32]\n"
     ]
    }
   ],
   "source": [
    "#1\n",
    "A = [1,2,3,4,5] \n",
    "B = [2,3,1,3,2]\n",
    "func = map(lambda a,b : b**a, A,B)\n",
    "print(list(func))"
   ]
  },
  {
   "cell_type": "code",
   "execution_count": 10,
   "metadata": {},
   "outputs": [],
   "source": [
    "#2\n",
    "name = [\"kanasorn\",\"teerawat\",\"Naphatsorn\"]\n",
    "Number = [3,21,14]\n",
    "score = [8,8,7]\n",
    "\n",
    "student = list(zip(name,Number,score))"
   ]
  },
  {
   "cell_type": "code",
   "execution_count": 11,
   "metadata": {},
   "outputs": [
    {
     "data": {
      "text/plain": [
       "[('kanasorn', 3, 8), ('teerawat', 21, 8), ('Naphatsorn', 14, 7)]"
      ]
     },
     "execution_count": 11,
     "metadata": {},
     "output_type": "execute_result"
    }
   ],
   "source": [
    "student"
   ]
  }
 ],
 "metadata": {
  "kernelspec": {
   "display_name": "Python 3",
   "language": "python",
   "name": "python3"
  },
  "language_info": {
   "codemirror_mode": {
    "name": "ipython",
    "version": 3
   },
   "file_extension": ".py",
   "mimetype": "text/x-python",
   "name": "python",
   "nbconvert_exporter": "python",
   "pygments_lexer": "ipython3",
   "version": "3.7.4"
  }
 },
 "nbformat": 4,
 "nbformat_minor": 2
}
