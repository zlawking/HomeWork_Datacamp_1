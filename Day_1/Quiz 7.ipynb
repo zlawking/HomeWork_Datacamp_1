{
 "cells": [
  {
   "cell_type": "code",
   "execution_count": 6,
   "metadata": {},
   "outputs": [
    {
     "name": "stdout",
     "output_type": "stream",
     "text": [
      "enter score : 90\n",
      "Grade : A\n"
     ]
    }
   ],
   "source": [
    "x = int(input(\"enter score : \"))\n",
    "if((x>=80) and (x<=100)):\n",
    "    print(\"Grade : A\")\n",
    "elif((x>=70) and (x<=79)):\n",
    "    print(\"Grade : B\")\n",
    "elif((x>=60) and (x<=69)):\n",
    "    print(\"Grade : C\")\n",
    "elif((x>=50) and (x<=59)):\n",
    "    print(\"Grade : D\")\n",
    "elif((x>=0) and (x<=49)):\n",
    "    print(\"Grade : F\")\n",
    "else:\n",
    "    print(\"Error\")"
   ]
  },
  {
   "cell_type": "code",
   "execution_count": null,
   "metadata": {},
   "outputs": [],
   "source": []
  }
 ],
 "metadata": {
  "kernelspec": {
   "display_name": "Python 3",
   "language": "python",
   "name": "python3"
  },
  "language_info": {
   "codemirror_mode": {
    "name": "ipython",
    "version": 3
   },
   "file_extension": ".py",
   "mimetype": "text/x-python",
   "name": "python",
   "nbconvert_exporter": "python",
   "pygments_lexer": "ipython3",
   "version": "3.7.4"
  }
 },
 "nbformat": 4,
 "nbformat_minor": 2
}
