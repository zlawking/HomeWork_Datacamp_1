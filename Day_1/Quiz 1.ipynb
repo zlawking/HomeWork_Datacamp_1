{
 "cells": [
  {
   "cell_type": "markdown",
   "metadata": {},
   "source": [
    "- เขียนคำสั่งคำนวณหาเศษเหลือจากการหาร 2345 ด้วย 13\n",
    "\n",
    "- เขียนคำสั่งหาคำตอบจากการหาร 1567 ด้วย 17 โดยไม่เอาเศษส่วน\n",
    "\n",
    "- FirstName กับ Firstname เป็นตัวแปรเดียวกันหรือไม่?\n",
    "\n",
    "- 13Friday เป็นตัวแปรที่ถูกต้องหรือไม่?\n",
    "\n",
    "- จง Print ผลลัพธ์จากข้อ 1,2 โดยใช้คำสั่ง format"
   ]
  },
  {
   "cell_type": "code",
   "execution_count": 1,
   "metadata": {},
   "outputs": [
    {
     "data": {
      "text/plain": [
       "5"
      ]
     },
     "execution_count": 1,
     "metadata": {},
     "output_type": "execute_result"
    }
   ],
   "source": [
    "mod = 2345%13\n",
    "mod"
   ]
  },
  {
   "cell_type": "code",
   "execution_count": 2,
   "metadata": {},
   "outputs": [
    {
     "data": {
      "text/plain": [
       "92"
      ]
     },
     "execution_count": 2,
     "metadata": {},
     "output_type": "execute_result"
    }
   ],
   "source": [
    "fd = 1567//17\n",
    "fd"
   ]
  },
  {
   "cell_type": "code",
   "execution_count": 3,
   "metadata": {},
   "outputs": [],
   "source": [
    "#FirstName กับ Firstname เป็นคนละตัวแปรกัน"
   ]
  },
  {
   "cell_type": "code",
   "execution_count": 4,
   "metadata": {},
   "outputs": [],
   "source": [
    "#13Friday เป็นตัวแปรที่ไม่ถูกต้อง"
   ]
  },
  {
   "cell_type": "code",
   "execution_count": 5,
   "metadata": {},
   "outputs": [
    {
     "name": "stdout",
     "output_type": "stream",
     "text": [
      "คำตอบข้อที่ 1 =5 และ คำตอบข้อที่ 2 = 92 \n"
     ]
    }
   ],
   "source": [
    "print(\"คำตอบข้อที่ 1 ={} และ คำตอบข้อที่ 2 = {} \".format(mod,fd))"
   ]
  }
 ],
 "metadata": {
  "kernelspec": {
   "display_name": "Python 3",
   "language": "python",
   "name": "python3"
  },
  "language_info": {
   "codemirror_mode": {
    "name": "ipython",
    "version": 3
   },
   "file_extension": ".py",
   "mimetype": "text/x-python",
   "name": "python",
   "nbconvert_exporter": "python",
   "pygments_lexer": "ipython3",
   "version": "3.7.4"
  }
 },
 "nbformat": 4,
 "nbformat_minor": 2
}
