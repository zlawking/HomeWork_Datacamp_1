{
 "cells": [
  {
   "cell_type": "markdown",
   "metadata": {},
   "source": [
    "จงเขียนโปรแกรมตรวจสอบคะแนนเด็กนักเรียน ถ้าเด็กได้คะแนนมากกว่า 80 เกรด A มาก\n",
    "กว่า 70 เกรด B มากกว่า 60 เกรด C มากกว่า 50 เกรด D และต่ำกว่า 50 เกรด F"
   ]
  },
  {
   "cell_type": "code",
   "execution_count": 6,
   "metadata": {},
   "outputs": [
    {
     "name": "stdout",
     "output_type": "stream",
     "text": [
      "enter score : 90\n",
      "Grade : A\n"
     ]
    }
   ],
   "source": [
    "x = int(input(\"enter score : \"))\n",
    "if((x>=80) and (x<=100)):\n",
    "    print(\"Grade : A\")\n",
    "elif((x>=70) and (x<=79)):\n",
    "    print(\"Grade : B\")\n",
    "elif((x>=60) and (x<=69)):\n",
    "    print(\"Grade : C\")\n",
    "elif((x>=50) and (x<=59)):\n",
    "    print(\"Grade : D\")\n",
    "elif((x>=0) and (x<=49)):\n",
    "    print(\"Grade : F\")\n",
    "else:\n",
    "    print(\"Error\")"
   ]
  }
 ],
 "metadata": {
  "kernelspec": {
   "display_name": "Python 3",
   "language": "python",
   "name": "python3"
  },
  "language_info": {
   "codemirror_mode": {
    "name": "ipython",
    "version": 3
   },
   "file_extension": ".py",
   "mimetype": "text/x-python",
   "name": "python",
   "nbconvert_exporter": "python",
   "pygments_lexer": "ipython3",
   "version": "3.7.4"
  }
 },
 "nbformat": 4,
 "nbformat_minor": 2
}
