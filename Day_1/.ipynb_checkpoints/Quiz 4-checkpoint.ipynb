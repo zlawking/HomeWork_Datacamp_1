{
 "cells": [
  {
   "cell_type": "code",
   "execution_count": 2,
   "metadata": {},
   "outputs": [
    {
     "data": {
      "text/plain": [
       "6"
      ]
     },
     "execution_count": 2,
     "metadata": {},
     "output_type": "execute_result"
    }
   ],
   "source": [
    "#1\n",
    "a = [[[1,3],[3,4]],[5,[5,6],[7,8]]]\n",
    "a[1][1][1]"
   ]
  },
  {
   "cell_type": "code",
   "execution_count": 3,
   "metadata": {},
   "outputs": [
    {
     "data": {
      "text/plain": [
       "[['teerawat', 'raksiam', 16],\n",
       " ['kanasorn', 'poomisirisawat', 23],\n",
       " ['john', 'wick', 32],\n",
       " ['nacky', 'chotiwat', 29]]"
      ]
     },
     "execution_count": 3,
     "metadata": {},
     "output_type": "execute_result"
    }
   ],
   "source": [
    "#2\n",
    "man1 = [\"teerawat\",\"raksiam\",16]\n",
    "man2 = [\"kanasorn\",\"poomisirisawat\",23]\n",
    "man3 = [\"john\",\"wick\",32]\n",
    "man4 = [\"nacky\",\"chotiwat\",29]\n",
    "man_all=[man1,man2,man3,man4]\n",
    "man_all"
   ]
  },
  {
   "cell_type": "code",
   "execution_count": 4,
   "metadata": {},
   "outputs": [
    {
     "data": {
      "text/plain": [
       "[['teerawat', 'raksiam', 16],\n",
       " ['kanasorn', 'poomisirisawat', 23],\n",
       " ['john', 'wick', 32]]"
      ]
     },
     "execution_count": 4,
     "metadata": {},
     "output_type": "execute_result"
    }
   ],
   "source": [
    "#3\n",
    "del man_all[3]\n",
    "man_all"
   ]
  },
  {
   "cell_type": "code",
   "execution_count": 5,
   "metadata": {},
   "outputs": [
    {
     "data": {
      "text/plain": [
       "[['Nonlap', 'tarkarn', 20],\n",
       " ['teerawat', 'raksiam', 16],\n",
       " ['kanasorn', 'poomisirisawat', 23],\n",
       " ['john', 'wick', 32]]"
      ]
     },
     "execution_count": 5,
     "metadata": {},
     "output_type": "execute_result"
    }
   ],
   "source": [
    "#4\n",
    "man_all.insert(0, [\"Nonlap\",\"tarkarn\",20])\n",
    "man_all"
   ]
  },
  {
   "cell_type": "code",
   "execution_count": 7,
   "metadata": {},
   "outputs": [
    {
     "data": {
      "text/plain": [
       "[['Nonlap', 'tarkarn', 20],\n",
       " ['teerawat', 'raksiam', 16],\n",
       " ['kanasorn', 'poomisirisawat', 23],\n",
       " ['john', 'wick', 32],\n",
       " \"['nacky', 'chotiwat', 29]\",\n",
       " ['nacky', 'chotiwat', 29]]"
      ]
     },
     "execution_count": 7,
     "metadata": {},
     "output_type": "execute_result"
    }
   ],
   "source": [
    "man_all.append(['nacky', 'chotiwat', 29])\n",
    "man_all"
   ]
  },
  {
   "cell_type": "code",
   "execution_count": 12,
   "metadata": {},
   "outputs": [],
   "source": [
    "#5\n",
    "man1[2]=26"
   ]
  },
  {
   "cell_type": "code",
   "execution_count": 13,
   "metadata": {},
   "outputs": [
    {
     "data": {
      "text/plain": [
       "[['Nonlap', 'tarkarn', 20],\n",
       " ['teerawat', 'raksiam', 26],\n",
       " ['kanasorn', 'poomisirisawat', 23],\n",
       " ['john', 'wick', 32],\n",
       " \"['nacky', 'chotiwat', 29]\",\n",
       " ['nacky', 'chotiwat', 29]]"
      ]
     },
     "execution_count": 13,
     "metadata": {},
     "output_type": "execute_result"
    }
   ],
   "source": [
    "man_all"
   ]
  },
  {
   "cell_type": "code",
   "execution_count": null,
   "metadata": {},
   "outputs": [],
   "source": []
  }
 ],
 "metadata": {
  "kernelspec": {
   "display_name": "Python 3",
   "language": "python",
   "name": "python3"
  },
  "language_info": {
   "codemirror_mode": {
    "name": "ipython",
    "version": 3
   },
   "file_extension": ".py",
   "mimetype": "text/x-python",
   "name": "python",
   "nbconvert_exporter": "python",
   "pygments_lexer": "ipython3",
   "version": "3.7.4"
  }
 },
 "nbformat": 4,
 "nbformat_minor": 2
}
