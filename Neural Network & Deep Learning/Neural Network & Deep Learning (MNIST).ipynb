{
 "cells": [
  {
   "cell_type": "code",
   "execution_count": 19,
   "metadata": {},
   "outputs": [],
   "source": [
    "import pandas as pd\n",
    "import numpy as np\n",
    "import matplotlib.pyplot as plt\n",
    "%matplotlib inline\n",
    "import seaborn as sns\n",
    "from sklearn.model_selection import train_test_split\n",
    "import tensorflow as tf\n",
    "from tensorflow import keras"
   ]
  },
  {
   "cell_type": "code",
   "execution_count": 20,
   "metadata": {},
   "outputs": [],
   "source": [
    "from keras.datasets import mnist"
   ]
  },
  {
   "cell_type": "code",
   "execution_count": 21,
   "metadata": {},
   "outputs": [],
   "source": [
    "(X_train, y_train), (X_test, y_test) = mnist.load_data()"
   ]
  },
  {
   "cell_type": "code",
   "execution_count": 22,
   "metadata": {},
   "outputs": [],
   "source": [
    "X_val, X_test, y_val, y_test = train_test_split(X_test,y_test, test_size=0.5, random_state=20)"
   ]
  },
  {
   "cell_type": "code",
   "execution_count": 23,
   "metadata": {},
   "outputs": [],
   "source": [
    "from tensorflow.keras import Sequential\n",
    "from tensorflow.keras.layers import Dense, Dropout\n",
    "from keras.utils import to_categorical"
   ]
  },
  {
   "cell_type": "code",
   "execution_count": 24,
   "metadata": {},
   "outputs": [
    {
     "data": {
      "text/plain": [
       "(60000, 28, 28)"
      ]
     },
     "execution_count": 24,
     "metadata": {},
     "output_type": "execute_result"
    }
   ],
   "source": [
    "X_train.shape"
   ]
  },
  {
   "cell_type": "code",
   "execution_count": 25,
   "metadata": {},
   "outputs": [
    {
     "data": {
      "text/plain": [
       "(5000, 28, 28)"
      ]
     },
     "execution_count": 25,
     "metadata": {},
     "output_type": "execute_result"
    }
   ],
   "source": [
    "X_test.shape"
   ]
  },
  {
   "cell_type": "code",
   "execution_count": 26,
   "metadata": {},
   "outputs": [
    {
     "data": {
      "image/png": "[encoded data removed]",
      "text/plain": [
       "<Figure size 432x288 with 1 Axes>"
      ]
     },
     "metadata": {
      "needs_background": "light"
     },
     "output_type": "display_data"
    },
    {
     "name": "stdout",
     "output_type": "stream",
     "text": [
      "Label for the element 4 : 9\n"
     ]
    }
   ],
   "source": [
    "element = 4\n",
    "plt.imshow(X_train[element])\n",
    "plt.show()\n",
    "print(\"Label for the element\", element,\":\", y_train[element])"
   ]
  },
  {
   "cell_type": "code",
   "execution_count": 27,
   "metadata": {},
   "outputs": [
    {
     "data": {
      "text/plain": [
       "(5000, 784)"
      ]
     },
     "execution_count": 27,
     "metadata": {},
     "output_type": "execute_result"
    }
   ],
   "source": [
    "# it expects a vector and not a two-dimensional array\n",
    "X_train = X_train.reshape((-1, 28*28))\n",
    "X_test = X_test.reshape((-1, 28*28))\n",
    "X_val = X_val.reshape((-1, 28*28))\n",
    "X_val.shape"
   ]
  },
  {
   "cell_type": "code",
   "execution_count": 28,
   "metadata": {},
   "outputs": [
    {
     "name": "stdout",
     "output_type": "stream",
     "text": [
      "0 - 255\n"
     ]
    }
   ],
   "source": [
    "#the value of each pixel – indicating the gray level of a given pixel – should be between 0  and 255\n",
    "print(X_train.min(), \"-\", X_train.max())"
   ]
  },
  {
   "cell_type": "code",
   "execution_count": 29,
   "metadata": {},
   "outputs": [],
   "source": [
    "from sklearn.preprocessing import MinMaxScaler"
   ]
  },
  {
   "cell_type": "code",
   "execution_count": 30,
   "metadata": {},
   "outputs": [],
   "source": [
    "scaler = MinMaxScaler()"
   ]
  },
  {
   "cell_type": "code",
   "execution_count": 31,
   "metadata": {},
   "outputs": [
    {
     "name": "stdout",
     "output_type": "stream",
     "text": [
      "0.0 - 1.0\n"
     ]
    }
   ],
   "source": [
    "X_train = scaler.fit_transform(X_train)\n",
    "print(X_train.min(), \"-\", X_train.max())"
   ]
  },
  {
   "cell_type": "code",
   "execution_count": 32,
   "metadata": {},
   "outputs": [],
   "source": [
    "model = Sequential([\n",
    "   Dense(256, activation='relu', input_shape=(784,)),\n",
    "   Dense(128, activation='tanh'),   \n",
    "   Dense(64, activation='relu'),\n",
    "   Dense(10, activation='sigmoid')\n",
    "])\n",
    "model.compile(\n",
    "   optimizer='Adam',\n",
    "   loss='categorical_crossentropy',\n",
    "   metrics=['accuracy']\n",
    ")"
   ]
  },
  {
   "cell_type": "code",
   "execution_count": 33,
   "metadata": {},
   "outputs": [
    {
     "name": "stdout",
     "output_type": "stream",
     "text": [
      "Train on 60000 samples, validate on 5000 samples\n",
      "Epoch 1/10\n",
      "60000/60000 [==============================] - 2s 40us/sample - loss: 0.2489 - acc: 0.9279 - val_loss: 0.1451 - val_acc: 0.9568\n",
      "Epoch 2/10\n",
      "60000/60000 [==============================] - 3s 54us/sample - loss: 0.0906 - acc: 0.9724 - val_loss: 0.1291 - val_acc: 0.9616\n",
      "Epoch 3/10\n",
      "60000/60000 [==============================] - 3s 58us/sample - loss: 0.0624 - acc: 0.9801 - val_loss: 0.0935 - val_acc: 0.9748\n",
      "Epoch 4/10\n",
      "60000/60000 [==============================] - 9s 148us/sample - loss: 0.0461 - acc: 0.9854 - val_loss: 0.0991 - val_acc: 0.9742\n",
      "Epoch 5/10\n",
      "60000/60000 [==============================] - 9s 146us/sample - loss: 0.0333 - acc: 0.9896 - val_loss: 0.1160 - val_acc: 0.9702\n",
      "Epoch 6/10\n",
      "60000/60000 [==============================] - 8s 140us/sample - loss: 0.0307 - acc: 0.9898 - val_loss: 0.1290 - val_acc: 0.9708\n",
      "Epoch 7/10\n",
      "60000/60000 [==============================] - 8s 135us/sample - loss: 0.0216 - acc: 0.9931 - val_loss: 0.1268 - val_acc: 0.9696\n",
      "Epoch 8/10\n",
      "60000/60000 [==============================] - 8s 135us/sample - loss: 0.0217 - acc: 0.9929 - val_loss: 0.1009 - val_acc: 0.9762\n",
      "Epoch 9/10\n",
      "60000/60000 [==============================] - 10s 158us/sample - loss: 0.0181 - acc: 0.9942 - val_loss: 0.1062 - val_acc: 0.9758\n",
      "Epoch 10/10\n",
      "60000/60000 [==============================] - 9s 143us/sample - loss: 0.0164 - acc: 0.9944 - val_loss: 0.1252 - val_acc: 0.9754\n"
     ]
    }
   ],
   "source": [
    "history = model.fit(X_train,to_categorical(y_train),epochs=10, batch_size=64,validation_data=(X_val,to_categorical(y_val)))"
   ]
  },
  {
   "cell_type": "code",
   "execution_count": 34,
   "metadata": {},
   "outputs": [
    {
     "data": {
      "image/png": "[encoded data removed]",
      "text/plain": [
       "<Figure size 432x288 with 1 Axes>"
      ]
     },
     "metadata": {
      "needs_background": "light"
     },
     "output_type": "display_data"
    }
   ],
   "source": [
    "pd.DataFrame(history.history).plot();"
   ]
  },
  {
   "cell_type": "code",
   "execution_count": 35,
   "metadata": {},
   "outputs": [
    {
     "data": {
      "image/png": "[encoded data removed]",
      "text/plain": [
       "<Figure size 432x288 with 1 Axes>"
      ]
     },
     "metadata": {
      "needs_background": "light"
     },
     "output_type": "display_data"
    }
   ],
   "source": [
    "plt.plot(history.history['acc'])\n",
    "plt.plot(history.history['val_acc'])\n",
    "plt.title('model accuracy')\n",
    "plt.ylabel('accuracy')\n",
    "plt.xlabel('epoch')\n",
    "plt.legend(['train', 'test'], loc='upper left')\n",
    "plt.show()"
   ]
  },
  {
   "cell_type": "code",
   "execution_count": 36,
   "metadata": {},
   "outputs": [
    {
     "data": {
      "image/png": "[encoded data removed]",
      "text/plain": [
       "<Figure size 432x288 with 1 Axes>"
      ]
     },
     "metadata": {
      "needs_background": "light"
     },
     "output_type": "display_data"
    }
   ],
   "source": [
    "plt.plot(history.history['loss'])\n",
    "plt.plot(history.history['val_loss'])\n",
    "plt.title('model loss')\n",
    "plt.ylabel('loss')\n",
    "plt.xlabel('epoch')\n",
    "plt.legend(['train', 'test'], loc='upper left')\n",
    "plt.show()"
   ]
  }
 ],
 "metadata": {
  "kernelspec": {
   "display_name": "Python 3",
   "language": "python",
   "name": "python3"
  },
  "language_info": {
   "codemirror_mode": {
    "name": "ipython",
    "version": 3
   },
   "file_extension": ".py",
   "mimetype": "text/x-python",
   "name": "python",
   "nbconvert_exporter": "python",
   "pygments_lexer": "ipython3",
   "version": "3.7.9"
  }
 },
 "nbformat": 4,
 "nbformat_minor": 4
}
